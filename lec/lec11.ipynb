{
 "cells": [
  {
   "cell_type": "code",
   "execution_count": 2,
   "metadata": {},
   "outputs": [],
   "source": [
    "from datascience import *\n",
    "import numpy as np\n",
    "\n",
    "%matplotlib inline\n",
    "import matplotlib.pyplot as plots\n",
    "plots.style.use('fivethirtyeight')"
   ]
  },
  {
   "cell_type": "markdown",
   "metadata": {},
   "source": [
    "# Lecture 11 #"
   ]
  },
  {
   "cell_type": "markdown",
   "metadata": {},
   "source": [
    "## Grouping with Multiple Variables ##"
   ]
  },
  {
   "cell_type": "code",
   "execution_count": 3,
   "metadata": {},
   "outputs": [
    {
     "data": {
      "text/html": [
       "<table border=\"1\" class=\"dataframe\">\n",
       "    <thead>\n",
       "        <tr>\n",
       "            <th>Flavor</th> <th>Color</th> <th>Price</th>\n",
       "        </tr>\n",
       "    </thead>\n",
       "    <tbody>\n",
       "        <tr>\n",
       "            <td>strawberry</td> <td>pink       </td> <td>3.55 </td>\n",
       "        </tr>\n",
       "        <tr>\n",
       "            <td>chocolate </td> <td>light brown</td> <td>4.75 </td>\n",
       "        </tr>\n",
       "        <tr>\n",
       "            <td>chocolate </td> <td>dark brown </td> <td>5.25 </td>\n",
       "        </tr>\n",
       "        <tr>\n",
       "            <td>strawberry</td> <td>pink       </td> <td>5.25 </td>\n",
       "        </tr>\n",
       "        <tr>\n",
       "            <td>chocolate </td> <td>dark brown </td> <td>5.25 </td>\n",
       "        </tr>\n",
       "        <tr>\n",
       "            <td>bubblegum </td> <td>pink       </td> <td>4.75 </td>\n",
       "        </tr>\n",
       "    </tbody>\n",
       "</table>"
      ],
      "text/plain": [
       "Flavor     | Color       | Price\n",
       "strawberry | pink        | 3.55\n",
       "chocolate  | light brown | 4.75\n",
       "chocolate  | dark brown  | 5.25\n",
       "strawberry | pink        | 5.25\n",
       "chocolate  | dark brown  | 5.25\n",
       "bubblegum  | pink        | 4.75"
      ]
     },
     "execution_count": 3,
     "metadata": {},
     "output_type": "execute_result"
    }
   ],
   "source": [
    "cones = Table.read_table('cones.csv')\n",
    "cones"
   ]
  },
  {
   "cell_type": "code",
   "execution_count": null,
   "metadata": {},
   "outputs": [],
   "source": [
    "#Brackets when defining a list\n",
    "# paraenthesis when grouping around both variables"
   ]
  },
  {
   "cell_type": "code",
   "execution_count": null,
   "metadata": {},
   "outputs": [],
   "source": []
  },
  {
   "cell_type": "code",
   "execution_count": 5,
   "metadata": {},
   "outputs": [
    {
     "data": {
      "text/html": [
       "<table border=\"1\" class=\"dataframe\">\n",
       "    <thead>\n",
       "        <tr>\n",
       "            <th>Flavor</th> <th>count</th>\n",
       "        </tr>\n",
       "    </thead>\n",
       "    <tbody>\n",
       "        <tr>\n",
       "            <td>bubblegum </td> <td>1    </td>\n",
       "        </tr>\n",
       "        <tr>\n",
       "            <td>chocolate </td> <td>3    </td>\n",
       "        </tr>\n",
       "        <tr>\n",
       "            <td>strawberry</td> <td>2    </td>\n",
       "        </tr>\n",
       "    </tbody>\n",
       "</table>"
      ],
      "text/plain": [
       "Flavor     | count\n",
       "bubblegum  | 1\n",
       "chocolate  | 3\n",
       "strawberry | 2"
      ]
     },
     "execution_count": 5,
     "metadata": {},
     "output_type": "execute_result"
    }
   ],
   "source": [
    "cones.group('Flavor')"
   ]
  },
  {
   "cell_type": "code",
   "execution_count": 4,
   "metadata": {},
   "outputs": [
    {
     "data": {
      "text/html": [
       "<table border=\"1\" class=\"dataframe\">\n",
       "    <thead>\n",
       "        <tr>\n",
       "            <th>Flavor</th> <th>Color</th> <th>count</th>\n",
       "        </tr>\n",
       "    </thead>\n",
       "    <tbody>\n",
       "        <tr>\n",
       "            <td>bubblegum </td> <td>pink       </td> <td>1    </td>\n",
       "        </tr>\n",
       "        <tr>\n",
       "            <td>chocolate </td> <td>dark brown </td> <td>2    </td>\n",
       "        </tr>\n",
       "        <tr>\n",
       "            <td>chocolate </td> <td>light brown</td> <td>1    </td>\n",
       "        </tr>\n",
       "        <tr>\n",
       "            <td>strawberry</td> <td>pink       </td> <td>2    </td>\n",
       "        </tr>\n",
       "    </tbody>\n",
       "</table>"
      ],
      "text/plain": [
       "Flavor     | Color       | count\n",
       "bubblegum  | pink        | 1\n",
       "chocolate  | dark brown  | 2\n",
       "chocolate  | light brown | 1\n",
       "strawberry | pink        | 2"
      ]
     },
     "execution_count": 4,
     "metadata": {},
     "output_type": "execute_result"
    }
   ],
   "source": [
    "cones.group(['Flavor', 'Color'])"
   ]
  },
  {
   "cell_type": "code",
   "execution_count": null,
   "metadata": {},
   "outputs": [],
   "source": []
  },
  {
   "cell_type": "code",
   "execution_count": 6,
   "metadata": {},
   "outputs": [
    {
     "data": {
      "text/html": [
       "<table border=\"1\" class=\"dataframe\">\n",
       "    <thead>\n",
       "        <tr>\n",
       "            <th>Extraversion</th> <th>Number of Texters</th> <th>Hours of Sleep</th> <th>Pant Leg Order</th> <th>Handedness</th> <th>Undergrad Year</th>\n",
       "        </tr>\n",
       "    </thead>\n",
       "    <tbody>\n",
       "        <tr>\n",
       "            <td>5           </td> <td>3                </td> <td>7             </td> <td>Right leg in first</td> <td>Right-handed</td> <td>First           </td>\n",
       "        </tr>\n",
       "        <tr>\n",
       "            <td>1           </td> <td>2                </td> <td>7.5           </td> <td>Left leg in first </td> <td>Right-handed</td> <td>Second          </td>\n",
       "        </tr>\n",
       "        <tr>\n",
       "            <td>4           </td> <td>5                </td> <td>6             </td> <td>Left leg in first </td> <td>Right-handed</td> <td>Third           </td>\n",
       "        </tr>\n",
       "        <tr>\n",
       "            <td>8           </td> <td>3                </td> <td>7             </td> <td>Left leg in first </td> <td>Right-handed</td> <td>Third           </td>\n",
       "        </tr>\n",
       "        <tr>\n",
       "            <td>3           </td> <td>2                </td> <td>6             </td> <td>I don't know      </td> <td>Right-handed</td> <td>Third           </td>\n",
       "        </tr>\n",
       "        <tr>\n",
       "            <td>3           </td> <td>4                </td> <td>8             </td> <td>Right leg in first</td> <td>Right-handed</td> <td>Fourth or Higher</td>\n",
       "        </tr>\n",
       "        <tr>\n",
       "            <td>2           </td> <td>0                </td> <td>10            </td> <td>I don't know      </td> <td>Right-handed</td> <td>Fourth or Higher</td>\n",
       "        </tr>\n",
       "        <tr>\n",
       "            <td>7           </td> <td>6                </td> <td>6             </td> <td>Right leg in first</td> <td>Right-handed</td> <td>First           </td>\n",
       "        </tr>\n",
       "        <tr>\n",
       "            <td>5           </td> <td>4                </td> <td>8             </td> <td>Left leg in first </td> <td>Right-handed</td> <td>Third           </td>\n",
       "        </tr>\n",
       "        <tr>\n",
       "            <td>5           </td> <td>5                </td> <td>8             </td> <td>Left leg in first </td> <td>Right-handed</td> <td>Third           </td>\n",
       "        </tr>\n",
       "    </tbody>\n",
       "</table>\n",
       "<p>... (1440 rows omitted)</p>"
      ],
      "text/plain": [
       "Extraversion | Number of Texters | Hours of Sleep | Pant Leg Order     | Handedness   | Undergrad Year\n",
       "5            | 3                 | 7              | Right leg in first | Right-handed | First\n",
       "1            | 2                 | 7.5            | Left leg in first  | Right-handed | Second\n",
       "4            | 5                 | 6              | Left leg in first  | Right-handed | Third\n",
       "8            | 3                 | 7              | Left leg in first  | Right-handed | Third\n",
       "3            | 2                 | 6              | I don't know       | Right-handed | Third\n",
       "3            | 4                 | 8              | Right leg in first | Right-handed | Fourth or Higher\n",
       "2            | 0                 | 10             | I don't know       | Right-handed | Fourth or Higher\n",
       "7            | 6                 | 6              | Right leg in first | Right-handed | First\n",
       "5            | 4                 | 8              | Left leg in first  | Right-handed | Third\n",
       "5            | 5                 | 8              | Left leg in first  | Right-handed | Third\n",
       "... (1440 rows omitted)"
      ]
     },
     "execution_count": 6,
     "metadata": {},
     "output_type": "execute_result"
    }
   ],
   "source": [
    "survey = Table.read_table('welcome_survey.csv')\n",
    "survey"
   ]
  },
  {
   "cell_type": "code",
   "execution_count": 7,
   "metadata": {},
   "outputs": [
    {
     "data": {
      "text/html": [
       "<table border=\"1\" class=\"dataframe\">\n",
       "    <thead>\n",
       "        <tr>\n",
       "            <th>Undergrad Year</th> <th>Extraversion average</th> <th>Number of Texters average</th> <th>Hours of Sleep average</th> <th>Pant Leg Order average</th> <th>Handedness average</th>\n",
       "        </tr>\n",
       "    </thead>\n",
       "    <tbody>\n",
       "        <tr>\n",
       "            <td>First           </td> <td>5.82363             </td> <td>8.21164                  </td> <td>7.07363               </td> <td>                      </td> <td>                  </td>\n",
       "        </tr>\n",
       "        <tr>\n",
       "            <td>Fourth or Higher</td> <td>5.26061             </td> <td>5.57576                  </td> <td>7.13333               </td> <td>                      </td> <td>                  </td>\n",
       "        </tr>\n",
       "        <tr>\n",
       "            <td>Second          </td> <td>5.77083             </td> <td>7.075                    </td> <td>7.08385               </td> <td>                      </td> <td>                  </td>\n",
       "        </tr>\n",
       "        <tr>\n",
       "            <td>Third           </td> <td>5.53361             </td> <td>6.13866                  </td> <td>7.12605               </td> <td>                      </td> <td>                  </td>\n",
       "        </tr>\n",
       "    </tbody>\n",
       "</table>"
      ],
      "text/plain": [
       "Undergrad Year   | Extraversion average | Number of Texters average | Hours of Sleep average | Pant Leg Order average | Handedness average\n",
       "First            | 5.82363              | 8.21164                   | 7.07363                |                        |\n",
       "Fourth or Higher | 5.26061              | 5.57576                   | 7.13333                |                        |\n",
       "Second           | 5.77083              | 7.075                     | 7.08385                |                        |\n",
       "Third            | 5.53361              | 6.13866                   | 7.12605                |                        |"
      ]
     },
     "execution_count": 7,
     "metadata": {},
     "output_type": "execute_result"
    }
   ],
   "source": [
    "survey.group('Undergrad Year', np.average)"
   ]
  },
  {
   "cell_type": "code",
   "execution_count": 9,
   "metadata": {},
   "outputs": [
    {
     "data": {
      "text/html": [
       "<table border=\"1\" class=\"dataframe\">\n",
       "    <thead>\n",
       "        <tr>\n",
       "            <th>Handedness</th> <th>Pant Leg Order</th> <th>count</th>\n",
       "        </tr>\n",
       "    </thead>\n",
       "    <tbody>\n",
       "        <tr>\n",
       "            <td>Ambidextrous / It's Complicated</td> <td>I don't know      </td> <td>4    </td>\n",
       "        </tr>\n",
       "        <tr>\n",
       "            <td>Ambidextrous / It's Complicated</td> <td>Left leg in first </td> <td>10   </td>\n",
       "        </tr>\n",
       "        <tr>\n",
       "            <td>Ambidextrous / It's Complicated</td> <td>Right leg in first</td> <td>9    </td>\n",
       "        </tr>\n",
       "        <tr>\n",
       "            <td>Left-handed                    </td> <td>I don't know      </td> <td>20   </td>\n",
       "        </tr>\n",
       "        <tr>\n",
       "            <td>Left-handed                    </td> <td>Left leg in first </td> <td>58   </td>\n",
       "        </tr>\n",
       "        <tr>\n",
       "            <td>Left-handed                    </td> <td>Right leg in first</td> <td>44   </td>\n",
       "        </tr>\n",
       "        <tr>\n",
       "            <td>Right-handed                   </td> <td>I don't know      </td> <td>198  </td>\n",
       "        </tr>\n",
       "        <tr>\n",
       "            <td>Right-handed                   </td> <td>Left leg in first </td> <td>416  </td>\n",
       "        </tr>\n",
       "        <tr>\n",
       "            <td>Right-handed                   </td> <td>Right leg in first</td> <td>691  </td>\n",
       "        </tr>\n",
       "    </tbody>\n",
       "</table>"
      ],
      "text/plain": [
       "Handedness                      | Pant Leg Order     | count\n",
       "Ambidextrous / It's Complicated | I don't know       | 4\n",
       "Ambidextrous / It's Complicated | Left leg in first  | 10\n",
       "Ambidextrous / It's Complicated | Right leg in first | 9\n",
       "Left-handed                     | I don't know       | 20\n",
       "Left-handed                     | Left leg in first  | 58\n",
       "Left-handed                     | Right leg in first | 44\n",
       "Right-handed                    | I don't know       | 198\n",
       "Right-handed                    | Left leg in first  | 416\n",
       "Right-handed                    | Right leg in first | 691"
      ]
     },
     "execution_count": 9,
     "metadata": {},
     "output_type": "execute_result"
    }
   ],
   "source": [
    "survey.group(['Handedness', 'Pant Leg Order'])"
   ]
  },
  {
   "cell_type": "code",
   "execution_count": 10,
   "metadata": {},
   "outputs": [
    {
     "data": {
      "text/html": [
       "<table border=\"1\" class=\"dataframe\">\n",
       "    <thead>\n",
       "        <tr>\n",
       "            <th>Handedness</th> <th>Pant Leg Order</th> <th>Extraversion average</th> <th>Number of Texters average</th> <th>Hours of Sleep average</th> <th>Undergrad Year average</th>\n",
       "        </tr>\n",
       "    </thead>\n",
       "    <tbody>\n",
       "        <tr>\n",
       "            <td>Ambidextrous / It's Complicated</td> <td>I don't know      </td> <td>5                   </td> <td>6.25                     </td> <td>6.5                   </td> <td>                      </td>\n",
       "        </tr>\n",
       "        <tr>\n",
       "            <td>Ambidextrous / It's Complicated</td> <td>Left leg in first </td> <td>5.4                 </td> <td>6.5                      </td> <td>7.15                  </td> <td>                      </td>\n",
       "        </tr>\n",
       "        <tr>\n",
       "            <td>Ambidextrous / It's Complicated</td> <td>Right leg in first</td> <td>6.22222             </td> <td>6.44444                  </td> <td>6.83333               </td> <td>                      </td>\n",
       "        </tr>\n",
       "        <tr>\n",
       "            <td>Left-handed                    </td> <td>I don't know      </td> <td>5.45                </td> <td>6.8                      </td> <td>7.1                   </td> <td>                      </td>\n",
       "        </tr>\n",
       "        <tr>\n",
       "            <td>Left-handed                    </td> <td>Left leg in first </td> <td>6.06897             </td> <td>6.63793                  </td> <td>7.23276               </td> <td>                      </td>\n",
       "        </tr>\n",
       "        <tr>\n",
       "            <td>Left-handed                    </td> <td>Right leg in first</td> <td>5.86364             </td> <td>8.31818                  </td> <td>7.10227               </td> <td>                      </td>\n",
       "        </tr>\n",
       "        <tr>\n",
       "            <td>Right-handed                   </td> <td>I don't know      </td> <td>5.16667             </td> <td>6.40404                  </td> <td>7.15657               </td> <td>                      </td>\n",
       "        </tr>\n",
       "        <tr>\n",
       "            <td>Right-handed                   </td> <td>Left leg in first </td> <td>5.69471             </td> <td>7.40625                  </td> <td>7.15505               </td> <td>                      </td>\n",
       "        </tr>\n",
       "        <tr>\n",
       "            <td>Right-handed                   </td> <td>Right leg in first</td> <td>5.81187             </td> <td>7.3068                   </td> <td>7.02967               </td> <td>                      </td>\n",
       "        </tr>\n",
       "    </tbody>\n",
       "</table>"
      ],
      "text/plain": [
       "Handedness                      | Pant Leg Order     | Extraversion average | Number of Texters average | Hours of Sleep average | Undergrad Year average\n",
       "Ambidextrous / It's Complicated | I don't know       | 5                    | 6.25                      | 6.5                    |\n",
       "Ambidextrous / It's Complicated | Left leg in first  | 5.4                  | 6.5                       | 7.15                   |\n",
       "Ambidextrous / It's Complicated | Right leg in first | 6.22222              | 6.44444                   | 6.83333                |\n",
       "Left-handed                     | I don't know       | 5.45                 | 6.8                       | 7.1                    |\n",
       "Left-handed                     | Left leg in first  | 6.06897              | 6.63793                   | 7.23276                |\n",
       "Left-handed                     | Right leg in first | 5.86364              | 8.31818                   | 7.10227                |\n",
       "Right-handed                    | I don't know       | 5.16667              | 6.40404                   | 7.15657                |\n",
       "Right-handed                    | Left leg in first  | 5.69471              | 7.40625                   | 7.15505                |\n",
       "Right-handed                    | Right leg in first | 5.81187              | 7.3068                    | 7.02967                |"
      ]
     },
     "execution_count": 10,
     "metadata": {},
     "output_type": "execute_result"
    }
   ],
   "source": [
    "survey.group(['Handedness', 'Pant Leg Order'], np.average)"
   ]
  },
  {
   "cell_type": "code",
   "execution_count": null,
   "metadata": {},
   "outputs": [],
   "source": []
  },
  {
   "cell_type": "code",
   "execution_count": null,
   "metadata": {},
   "outputs": [],
   "source": []
  },
  {
   "cell_type": "code",
   "execution_count": null,
   "metadata": {},
   "outputs": [],
   "source": []
  },
  {
   "cell_type": "code",
   "execution_count": null,
   "metadata": {},
   "outputs": [],
   "source": []
  },
  {
   "cell_type": "code",
   "execution_count": null,
   "metadata": {},
   "outputs": [],
   "source": []
  },
  {
   "cell_type": "markdown",
   "metadata": {},
   "source": [
    "## Pivot Tables ##"
   ]
  },
  {
   "cell_type": "code",
   "execution_count": 11,
   "metadata": {},
   "outputs": [
    {
     "data": {
      "text/html": [
       "<table border=\"1\" class=\"dataframe\">\n",
       "    <thead>\n",
       "        <tr>\n",
       "            <th>Handedness</th> <th>I don't know</th> <th>Left leg in first</th> <th>Right leg in first</th>\n",
       "        </tr>\n",
       "    </thead>\n",
       "    <tbody>\n",
       "        <tr>\n",
       "            <td>Ambidextrous / It's Complicated</td> <td>4           </td> <td>10               </td> <td>9                 </td>\n",
       "        </tr>\n",
       "        <tr>\n",
       "            <td>Left-handed                    </td> <td>20          </td> <td>58               </td> <td>44                </td>\n",
       "        </tr>\n",
       "        <tr>\n",
       "            <td>Right-handed                   </td> <td>198         </td> <td>416              </td> <td>691               </td>\n",
       "        </tr>\n",
       "    </tbody>\n",
       "</table>"
      ],
      "text/plain": [
       "Handedness                      | I don't know | Left leg in first | Right leg in first\n",
       "Ambidextrous / It's Complicated | 4            | 10                | 9\n",
       "Left-handed                     | 20           | 58                | 44\n",
       "Right-handed                    | 198          | 416               | 691"
      ]
     },
     "execution_count": 11,
     "metadata": {},
     "output_type": "execute_result"
    }
   ],
   "source": [
    "survey.pivot('Pant Leg Order', 'Handedness') #Creates more of a chart"
   ]
  },
  {
   "cell_type": "code",
   "execution_count": 12,
   "metadata": {},
   "outputs": [
    {
     "data": {
      "text/html": [
       "<table border=\"1\" class=\"dataframe\">\n",
       "    <thead>\n",
       "        <tr>\n",
       "            <th>Handedness</th> <th>I don't know</th> <th>Left leg in first</th> <th>Right leg in first</th>\n",
       "        </tr>\n",
       "    </thead>\n",
       "    <tbody>\n",
       "        <tr>\n",
       "            <td>Ambidextrous / It's Complicated</td> <td>5           </td> <td>5.4              </td> <td>6.22222           </td>\n",
       "        </tr>\n",
       "        <tr>\n",
       "            <td>Left-handed                    </td> <td>5.45        </td> <td>6.06897          </td> <td>5.86364           </td>\n",
       "        </tr>\n",
       "        <tr>\n",
       "            <td>Right-handed                   </td> <td>5.16667     </td> <td>5.69471          </td> <td>5.81187           </td>\n",
       "        </tr>\n",
       "    </tbody>\n",
       "</table>"
      ],
      "text/plain": [
       "Handedness                      | I don't know | Left leg in first | Right leg in first\n",
       "Ambidextrous / It's Complicated | 5            | 5.4               | 6.22222\n",
       "Left-handed                     | 5.45         | 6.06897           | 5.86364\n",
       "Right-handed                    | 5.16667      | 5.69471           | 5.81187"
      ]
     },
     "execution_count": 12,
     "metadata": {},
     "output_type": "execute_result"
    }
   ],
   "source": [
    "survey.pivot('Pant Leg Order', 'Handedness', values = 'Extraversion', collect = np.average)"
   ]
  },
  {
   "cell_type": "code",
   "execution_count": 13,
   "metadata": {},
   "outputs": [
    {
     "data": {
      "text/html": [
       "<table border=\"1\" class=\"dataframe\">\n",
       "    <thead>\n",
       "        <tr>\n",
       "            <th>Pant Leg Order</th> <th>Extraversion average</th> <th>Number of Texters average</th> <th>Hours of Sleep average</th> <th>Handedness average</th> <th>Undergrad Year average</th>\n",
       "        </tr>\n",
       "    </thead>\n",
       "    <tbody>\n",
       "        <tr>\n",
       "            <td>I don't know      </td> <td>5.18919             </td> <td>6.43694                  </td> <td>7.13964               </td> <td>                  </td> <td>                      </td>\n",
       "        </tr>\n",
       "        <tr>\n",
       "            <td>Left leg in first </td> <td>5.73347             </td> <td>7.29545                  </td> <td>7.16426               </td> <td>                  </td> <td>                      </td>\n",
       "        </tr>\n",
       "        <tr>\n",
       "            <td>Right leg in first</td> <td>5.81989             </td> <td>7.35618                  </td> <td>7.03159               </td> <td>                  </td> <td>                      </td>\n",
       "        </tr>\n",
       "    </tbody>\n",
       "</table>"
      ],
      "text/plain": [
       "Pant Leg Order     | Extraversion average | Number of Texters average | Hours of Sleep average | Handedness average | Undergrad Year average\n",
       "I don't know       | 5.18919              | 6.43694                   | 7.13964                |                    |\n",
       "Left leg in first  | 5.73347              | 7.29545                   | 7.16426                |                    |\n",
       "Right leg in first | 5.81989              | 7.35618                   | 7.03159                |                    |"
      ]
     },
     "execution_count": 13,
     "metadata": {},
     "output_type": "execute_result"
    }
   ],
   "source": [
    "survey.group('Pant Leg Order', np.average)"
   ]
  },
  {
   "cell_type": "code",
   "execution_count": 15,
   "metadata": {},
   "outputs": [
    {
     "data": {
      "text/html": [
       "<table border=\"1\" class=\"dataframe\">\n",
       "    <thead>\n",
       "        <tr>\n",
       "            <th>Color</th> <th>bubblegum</th> <th>chocolate</th> <th>strawberry</th>\n",
       "        </tr>\n",
       "    </thead>\n",
       "    <tbody>\n",
       "        <tr>\n",
       "            <td>dark brown </td> <td>0        </td> <td>5.25     </td> <td>0         </td>\n",
       "        </tr>\n",
       "        <tr>\n",
       "            <td>light brown</td> <td>0        </td> <td>4.75     </td> <td>0         </td>\n",
       "        </tr>\n",
       "        <tr>\n",
       "            <td>pink       </td> <td>4.75     </td> <td>0        </td> <td>4.4       </td>\n",
       "        </tr>\n",
       "    </tbody>\n",
       "</table>"
      ],
      "text/plain": [
       "Color       | bubblegum | chocolate | strawberry\n",
       "dark brown  | 0         | 5.25      | 0\n",
       "light brown | 0         | 4.75      | 0\n",
       "pink        | 4.75      | 0         | 4.4"
      ]
     },
     "execution_count": 15,
     "metadata": {},
     "output_type": "execute_result"
    }
   ],
   "source": [
    "cones.pivot('Flavor', 'Color', values = 'Price', collect = np.average)"
   ]
  },
  {
   "cell_type": "code",
   "execution_count": null,
   "metadata": {},
   "outputs": [],
   "source": []
  },
  {
   "cell_type": "code",
   "execution_count": null,
   "metadata": {},
   "outputs": [],
   "source": []
  },
  {
   "cell_type": "code",
   "execution_count": null,
   "metadata": {},
   "outputs": [],
   "source": []
  },
  {
   "cell_type": "code",
   "execution_count": null,
   "metadata": {},
   "outputs": [],
   "source": []
  },
  {
   "cell_type": "markdown",
   "metadata": {},
   "source": [
    "## Joins ##"
   ]
  },
  {
   "cell_type": "code",
   "execution_count": 18,
   "metadata": {},
   "outputs": [
    {
     "data": {
      "text/html": [
       "<table border=\"1\" class=\"dataframe\">\n",
       "    <thead>\n",
       "        <tr>\n",
       "            <th>Drink</th> <th>Cafe</th> <th>Price</th>\n",
       "        </tr>\n",
       "    </thead>\n",
       "    <tbody>\n",
       "        <tr>\n",
       "            <td>Milk Tea</td> <td>Tea One</td> <td>4    </td>\n",
       "        </tr>\n",
       "        <tr>\n",
       "            <td>Espresso</td> <td>Nefeli </td> <td>2    </td>\n",
       "        </tr>\n",
       "        <tr>\n",
       "            <td>Latte   </td> <td>Nefeli </td> <td>3    </td>\n",
       "        </tr>\n",
       "        <tr>\n",
       "            <td>Espresso</td> <td>Abe's  </td> <td>2    </td>\n",
       "        </tr>\n",
       "    </tbody>\n",
       "</table>"
      ],
      "text/plain": [
       "Drink    | Cafe    | Price\n",
       "Milk Tea | Tea One | 4\n",
       "Espresso | Nefeli  | 2\n",
       "Latte    | Nefeli  | 3\n",
       "Espresso | Abe's   | 2"
      ]
     },
     "execution_count": 18,
     "metadata": {},
     "output_type": "execute_result"
    }
   ],
   "source": [
    "drinks = Table(['Drink', 'Cafe', 'Price']).with_rows([\n",
    "    ['Milk Tea', 'Tea One', 4],\n",
    "    ['Espresso', 'Nefeli',  2],\n",
    "    ['Latte',    'Nefeli',  3],\n",
    "    ['Espresso', \"Abe's\",   2]\n",
    "])\n",
    "drinks"
   ]
  },
  {
   "cell_type": "code",
   "execution_count": 19,
   "metadata": {},
   "outputs": [
    {
     "data": {
      "text/html": [
       "<table border=\"1\" class=\"dataframe\">\n",
       "    <thead>\n",
       "        <tr>\n",
       "            <th>Coupon % off</th> <th>Location</th>\n",
       "        </tr>\n",
       "    </thead>\n",
       "    <tbody>\n",
       "        <tr>\n",
       "            <td>25          </td> <td>Tea One </td>\n",
       "        </tr>\n",
       "        <tr>\n",
       "            <td>50          </td> <td>Nefeli  </td>\n",
       "        </tr>\n",
       "        <tr>\n",
       "            <td>5           </td> <td>Tea One </td>\n",
       "        </tr>\n",
       "    </tbody>\n",
       "</table>"
      ],
      "text/plain": [
       "Coupon % off | Location\n",
       "25           | Tea One\n",
       "50           | Nefeli\n",
       "5            | Tea One"
      ]
     },
     "execution_count": 19,
     "metadata": {},
     "output_type": "execute_result"
    }
   ],
   "source": [
    "discounts = Table().with_columns(\n",
    "    'Coupon % off', make_array(25, 50, 5),\n",
    "    'Location', make_array('Tea One', 'Nefeli', 'Tea One')\n",
    ")\n",
    "discounts"
   ]
  },
  {
   "cell_type": "code",
   "execution_count": 22,
   "metadata": {},
   "outputs": [
    {
     "data": {
      "text/html": [
       "<table border=\"1\" class=\"dataframe\">\n",
       "    <thead>\n",
       "        <tr>\n",
       "            <th>Cafe</th> <th>Drink</th> <th>Price</th> <th>Coupon % off</th>\n",
       "        </tr>\n",
       "    </thead>\n",
       "    <tbody>\n",
       "        <tr>\n",
       "            <td>Nefeli </td> <td>Espresso</td> <td>2    </td> <td>50          </td>\n",
       "        </tr>\n",
       "        <tr>\n",
       "            <td>Nefeli </td> <td>Latte   </td> <td>3    </td> <td>50          </td>\n",
       "        </tr>\n",
       "        <tr>\n",
       "            <td>Tea One</td> <td>Milk Tea</td> <td>4    </td> <td>25          </td>\n",
       "        </tr>\n",
       "        <tr>\n",
       "            <td>Tea One</td> <td>Milk Tea</td> <td>4    </td> <td>5           </td>\n",
       "        </tr>\n",
       "    </tbody>\n",
       "</table>"
      ],
      "text/plain": [
       "Cafe    | Drink    | Price | Coupon % off\n",
       "Nefeli  | Espresso | 2     | 50\n",
       "Nefeli  | Latte    | 3     | 50\n",
       "Tea One | Milk Tea | 4     | 25\n",
       "Tea One | Milk Tea | 4     | 5"
      ]
     },
     "execution_count": 22,
     "metadata": {},
     "output_type": "execute_result"
    }
   ],
   "source": [
    "combined = drinks.join('Cafe', discounts, 'Location')\n",
    "combined"
   ]
  },
  {
   "cell_type": "code",
   "execution_count": 23,
   "metadata": {},
   "outputs": [
    {
     "data": {
      "text/html": [
       "<table border=\"1\" class=\"dataframe\">\n",
       "    <thead>\n",
       "        <tr>\n",
       "            <th>Cafe</th> <th>Drink</th> <th>Price</th> <th>Coupon % off</th> <th>Discounted Price</th>\n",
       "        </tr>\n",
       "    </thead>\n",
       "    <tbody>\n",
       "        <tr>\n",
       "            <td>Nefeli </td> <td>Espresso</td> <td>2    </td> <td>50          </td> <td>1               </td>\n",
       "        </tr>\n",
       "        <tr>\n",
       "            <td>Nefeli </td> <td>Latte   </td> <td>3    </td> <td>50          </td> <td>1.5             </td>\n",
       "        </tr>\n",
       "        <tr>\n",
       "            <td>Tea One</td> <td>Milk Tea</td> <td>4    </td> <td>25          </td> <td>3               </td>\n",
       "        </tr>\n",
       "        <tr>\n",
       "            <td>Tea One</td> <td>Milk Tea</td> <td>4    </td> <td>5           </td> <td>3.8             </td>\n",
       "        </tr>\n",
       "    </tbody>\n",
       "</table>"
      ],
      "text/plain": [
       "Cafe    | Drink    | Price | Coupon % off | Discounted Price\n",
       "Nefeli  | Espresso | 2     | 50           | 1\n",
       "Nefeli  | Latte    | 3     | 50           | 1.5\n",
       "Tea One | Milk Tea | 4     | 25           | 3\n",
       "Tea One | Milk Tea | 4     | 5            | 3.8"
      ]
     },
     "execution_count": 23,
     "metadata": {},
     "output_type": "execute_result"
    }
   ],
   "source": [
    "combined.with_column('Discounted Price',\n",
    "                    combined.column('Price')*(1-combined.column('Coupon % off')/100))"
   ]
  },
  {
   "cell_type": "code",
   "execution_count": 24,
   "metadata": {},
   "outputs": [
    {
     "data": {
      "text/html": [
       "<table border=\"1\" class=\"dataframe\">\n",
       "    <thead>\n",
       "        <tr>\n",
       "            <th>Cafe</th> <th>Drink</th> <th>Price</th> <th>Drink_2</th> <th>Price_2</th>\n",
       "        </tr>\n",
       "    </thead>\n",
       "    <tbody>\n",
       "        <tr>\n",
       "            <td>Abe's  </td> <td>Espresso</td> <td>2    </td> <td>Espresso</td> <td>2      </td>\n",
       "        </tr>\n",
       "        <tr>\n",
       "            <td>Nefeli </td> <td>Espresso</td> <td>2    </td> <td>Espresso</td> <td>2      </td>\n",
       "        </tr>\n",
       "        <tr>\n",
       "            <td>Nefeli </td> <td>Espresso</td> <td>2    </td> <td>Latte   </td> <td>3      </td>\n",
       "        </tr>\n",
       "        <tr>\n",
       "            <td>Nefeli </td> <td>Latte   </td> <td>3    </td> <td>Espresso</td> <td>2      </td>\n",
       "        </tr>\n",
       "        <tr>\n",
       "            <td>Nefeli </td> <td>Latte   </td> <td>3    </td> <td>Latte   </td> <td>3      </td>\n",
       "        </tr>\n",
       "        <tr>\n",
       "            <td>Tea One</td> <td>Milk Tea</td> <td>4    </td> <td>Milk Tea</td> <td>4      </td>\n",
       "        </tr>\n",
       "    </tbody>\n",
       "</table>"
      ],
      "text/plain": [
       "Cafe    | Drink    | Price | Drink_2  | Price_2\n",
       "Abe's   | Espresso | 2     | Espresso | 2\n",
       "Nefeli  | Espresso | 2     | Espresso | 2\n",
       "Nefeli  | Espresso | 2     | Latte    | 3\n",
       "Nefeli  | Latte    | 3     | Espresso | 2\n",
       "Nefeli  | Latte    | 3     | Latte    | 3\n",
       "Tea One | Milk Tea | 4     | Milk Tea | 4"
      ]
     },
     "execution_count": 24,
     "metadata": {},
     "output_type": "execute_result"
    }
   ],
   "source": [
    "drinks.join('Cafe', drinks)"
   ]
  },
  {
   "cell_type": "code",
   "execution_count": null,
   "metadata": {},
   "outputs": [],
   "source": []
  },
  {
   "cell_type": "code",
   "execution_count": null,
   "metadata": {},
   "outputs": [],
   "source": []
  },
  {
   "cell_type": "code",
   "execution_count": null,
   "metadata": {},
   "outputs": [],
   "source": []
  },
  {
   "cell_type": "code",
   "execution_count": null,
   "metadata": {},
   "outputs": [],
   "source": []
  },
  {
   "cell_type": "markdown",
   "metadata": {},
   "source": [
    "## Table Manipulation Examples ##"
   ]
  },
  {
   "cell_type": "code",
   "execution_count": 25,
   "metadata": {},
   "outputs": [
    {
     "data": {
      "text/html": [
       "<table border=\"1\" class=\"dataframe\">\n",
       "    <thead>\n",
       "        <tr>\n",
       "            <th>PLAYER</th> <th>POSITION</th> <th>TEAM</th> <th>SALARY</th>\n",
       "        </tr>\n",
       "    </thead>\n",
       "    <tbody>\n",
       "        <tr>\n",
       "            <td>Paul Millsap    </td> <td>PF      </td> <td>Atlanta Hawks</td> <td>18.6717</td>\n",
       "        </tr>\n",
       "        <tr>\n",
       "            <td>Al Horford      </td> <td>C       </td> <td>Atlanta Hawks</td> <td>12     </td>\n",
       "        </tr>\n",
       "        <tr>\n",
       "            <td>Tiago Splitter  </td> <td>C       </td> <td>Atlanta Hawks</td> <td>9.75625</td>\n",
       "        </tr>\n",
       "        <tr>\n",
       "            <td>Jeff Teague     </td> <td>PG      </td> <td>Atlanta Hawks</td> <td>8      </td>\n",
       "        </tr>\n",
       "        <tr>\n",
       "            <td>Kyle Korver     </td> <td>SG      </td> <td>Atlanta Hawks</td> <td>5.74648</td>\n",
       "        </tr>\n",
       "        <tr>\n",
       "            <td>Thabo Sefolosha </td> <td>SF      </td> <td>Atlanta Hawks</td> <td>4      </td>\n",
       "        </tr>\n",
       "        <tr>\n",
       "            <td>Mike Scott      </td> <td>PF      </td> <td>Atlanta Hawks</td> <td>3.33333</td>\n",
       "        </tr>\n",
       "        <tr>\n",
       "            <td>Kent Bazemore   </td> <td>SF      </td> <td>Atlanta Hawks</td> <td>2      </td>\n",
       "        </tr>\n",
       "        <tr>\n",
       "            <td>Dennis Schroder </td> <td>PG      </td> <td>Atlanta Hawks</td> <td>1.7634 </td>\n",
       "        </tr>\n",
       "        <tr>\n",
       "            <td>Tim Hardaway Jr.</td> <td>SG      </td> <td>Atlanta Hawks</td> <td>1.30452</td>\n",
       "        </tr>\n",
       "    </tbody>\n",
       "</table>\n",
       "<p>... (407 rows omitted)</p>"
      ],
      "text/plain": [
       "PLAYER           | POSITION | TEAM          | SALARY\n",
       "Paul Millsap     | PF       | Atlanta Hawks | 18.6717\n",
       "Al Horford       | C        | Atlanta Hawks | 12\n",
       "Tiago Splitter   | C        | Atlanta Hawks | 9.75625\n",
       "Jeff Teague      | PG       | Atlanta Hawks | 8\n",
       "Kyle Korver      | SG       | Atlanta Hawks | 5.74648\n",
       "Thabo Sefolosha  | SF       | Atlanta Hawks | 4\n",
       "Mike Scott       | PF       | Atlanta Hawks | 3.33333\n",
       "Kent Bazemore    | SF       | Atlanta Hawks | 2\n",
       "Dennis Schroder  | PG       | Atlanta Hawks | 1.7634\n",
       "Tim Hardaway Jr. | SG       | Atlanta Hawks | 1.30452\n",
       "... (407 rows omitted)"
      ]
     },
     "execution_count": 25,
     "metadata": {},
     "output_type": "execute_result"
    }
   ],
   "source": [
    "starters_p = nba.pivot('POSITION','TEAM', values='SALARY', collect=max)"
   ]
  },
  {
   "cell_type": "code",
   "execution_count": 32,
   "metadata": {},
   "outputs": [],
   "source": [
    "starters_g = nba.drop('PLAYER').group(['POSITION', 'TEAM'], max)"
   ]
  },
  {
   "cell_type": "code",
   "execution_count": 31,
   "metadata": {
    "scrolled": true
   },
   "outputs": [
    {
     "data": {
      "text/html": [
       "<table border=\"1\" class=\"dataframe\">\n",
       "    <thead>\n",
       "        <tr>\n",
       "            <th>TEAM</th> <th>C</th> <th>PF</th> <th>PG</th> <th>SF</th> <th>SG</th>\n",
       "        </tr>\n",
       "    </thead>\n",
       "    <tbody>\n",
       "        <tr>\n",
       "            <td>Atlanta Hawks        </td> <td>12     </td> <td>18.6717</td> <td>8      </td> <td>4      </td> <td>5.74648</td>\n",
       "        </tr>\n",
       "        <tr>\n",
       "            <td>Boston Celtics       </td> <td>2.61698</td> <td>5      </td> <td>7.73034</td> <td>6.79612</td> <td>3.42551</td>\n",
       "        </tr>\n",
       "        <tr>\n",
       "            <td>Brooklyn Nets        </td> <td>1.3629 </td> <td>11.236 </td> <td>6.3    </td> <td>24.8949</td> <td>3.42551</td>\n",
       "        </tr>\n",
       "        <tr>\n",
       "            <td>Charlotte Hornets    </td> <td>13.5   </td> <td>7      </td> <td>12     </td> <td>6.3314 </td> <td>13.1253</td>\n",
       "        </tr>\n",
       "        <tr>\n",
       "            <td>Chicago Bulls        </td> <td>13.4   </td> <td>5.54373</td> <td>20.0931</td> <td>2.38044</td> <td>16.4075</td>\n",
       "        </tr>\n",
       "        <tr>\n",
       "            <td>Cleveland Cavaliers  </td> <td>14.2609</td> <td>19.689 </td> <td>16.4075</td> <td>22.9705</td> <td>8.98876</td>\n",
       "        </tr>\n",
       "        <tr>\n",
       "            <td>Dallas Mavericks     </td> <td>5.2    </td> <td>15.4937</td> <td>5.37897</td> <td>15.3615</td> <td>1.449  </td>\n",
       "        </tr>\n",
       "        <tr>\n",
       "            <td>Denver Nuggets       </td> <td>5.6135 </td> <td>11.236 </td> <td>4.345  </td> <td>14     </td> <td>1.58448</td>\n",
       "        </tr>\n",
       "        <tr>\n",
       "            <td>Detroit Pistons      </td> <td>6.5    </td> <td>0      </td> <td>13.913 </td> <td>2.84196</td> <td>6.27   </td>\n",
       "        </tr>\n",
       "        <tr>\n",
       "            <td>Golden State Warriors</td> <td>13.8   </td> <td>14.2609</td> <td>11.3708</td> <td>11.7105</td> <td>15.501 </td>\n",
       "        </tr>\n",
       "    </tbody>\n",
       "</table>\n",
       "<p>... (20 rows omitted)</p>"
      ],
      "text/plain": [
       "TEAM                  | C       | PF      | PG      | SF      | SG\n",
       "Atlanta Hawks         | 12      | 18.6717 | 8       | 4       | 5.74648\n",
       "Boston Celtics        | 2.61698 | 5       | 7.73034 | 6.79612 | 3.42551\n",
       "Brooklyn Nets         | 1.3629  | 11.236  | 6.3     | 24.8949 | 3.42551\n",
       "Charlotte Hornets     | 13.5    | 7       | 12      | 6.3314  | 13.1253\n",
       "Chicago Bulls         | 13.4    | 5.54373 | 20.0931 | 2.38044 | 16.4075\n",
       "Cleveland Cavaliers   | 14.2609 | 19.689  | 16.4075 | 22.9705 | 8.98876\n",
       "Dallas Mavericks      | 5.2     | 15.4937 | 5.37897 | 15.3615 | 1.449\n",
       "Denver Nuggets        | 5.6135  | 11.236  | 4.345   | 14      | 1.58448\n",
       "Detroit Pistons       | 6.5     | 0       | 13.913  | 2.84196 | 6.27\n",
       "Golden State Warriors | 13.8    | 14.2609 | 11.3708 | 11.7105 | 15.501\n",
       "... (20 rows omitted)"
      ]
     },
     "execution_count": 31,
     "metadata": {},
     "output_type": "execute_result"
    }
   ],
   "source": [
    "nba.pivot('POSITION','TEAM', values = 'SALARY', collect=max)"
   ]
  },
  {
   "cell_type": "code",
   "execution_count": 35,
   "metadata": {},
   "outputs": [
    {
     "data": {
      "text/html": [
       "<table border=\"1\" class=\"dataframe\">\n",
       "    <thead>\n",
       "        <tr>\n",
       "            <th>TEAM</th> <th>SALARY max sum</th>\n",
       "        </tr>\n",
       "    </thead>\n",
       "    <tbody>\n",
       "        <tr>\n",
       "            <td>Cleveland Cavaliers  </td> <td>82.3166       </td>\n",
       "        </tr>\n",
       "        <tr>\n",
       "            <td>Oklahoma City Thunder</td> <td>70.6988       </td>\n",
       "        </tr>\n",
       "        <tr>\n",
       "            <td>Miami Heat           </td> <td>67.1273       </td>\n",
       "        </tr>\n",
       "        <tr>\n",
       "            <td>San Antonio Spurs    </td> <td>67.034        </td>\n",
       "        </tr>\n",
       "        <tr>\n",
       "            <td>Golden State Warriors</td> <td>66.6431       </td>\n",
       "        </tr>\n",
       "        <tr>\n",
       "            <td>Houston Rockets      </td> <td>61.2029       </td>\n",
       "        </tr>\n",
       "        <tr>\n",
       "            <td>Chicago Bulls        </td> <td>57.8247       </td>\n",
       "        </tr>\n",
       "        <tr>\n",
       "            <td>Los Angeles Lakers   </td> <td>55.8276       </td>\n",
       "        </tr>\n",
       "        <tr>\n",
       "            <td>New York Knicks      </td> <td>55.0595       </td>\n",
       "        </tr>\n",
       "        <tr>\n",
       "            <td>Memphis Grizzlies    </td> <td>53.5235       </td>\n",
       "        </tr>\n",
       "    </tbody>\n",
       "</table>\n",
       "<p>... (20 rows omitted)</p>"
      ],
      "text/plain": [
       "TEAM                  | SALARY max sum\n",
       "Cleveland Cavaliers   | 82.3166\n",
       "Oklahoma City Thunder | 70.6988\n",
       "Miami Heat            | 67.1273\n",
       "San Antonio Spurs     | 67.034\n",
       "Golden State Warriors | 66.6431\n",
       "Houston Rockets       | 61.2029\n",
       "Chicago Bulls         | 57.8247\n",
       "Los Angeles Lakers    | 55.8276\n",
       "New York Knicks       | 55.0595\n",
       "Memphis Grizzlies     | 53.5235\n",
       "... (20 rows omitted)"
      ]
     },
     "execution_count": 35,
     "metadata": {},
     "output_type": "execute_result"
    }
   ],
   "source": [
    "starters_g.drop('POSITION').group('TEAM', sum).sort('SALARY max sum', descending=True)"
   ]
  },
  {
   "cell_type": "code",
   "execution_count": null,
   "metadata": {},
   "outputs": [],
   "source": [
    "starter"
   ]
  },
  {
   "cell_type": "code",
   "execution_count": null,
   "metadata": {},
   "outputs": [],
   "source": []
  },
  {
   "cell_type": "code",
   "execution_count": null,
   "metadata": {
    "collapsed": true
   },
   "outputs": [],
   "source": [
    "# CHALLENGE QUESTION: for each team,\n",
    "# amount paid to \"starter\" (player earning the most) in each position\n"
   ]
  },
  {
   "cell_type": "code",
   "execution_count": null,
   "metadata": {
    "collapsed": true
   },
   "outputs": [],
   "source": [
    "# CHALLENGE QUESTION: for each team,\n",
    "# total amount paid to all \"starters\"\n"
   ]
  },
  {
   "cell_type": "code",
   "execution_count": null,
   "metadata": {
    "collapsed": true
   },
   "outputs": [],
   "source": []
  },
  {
   "cell_type": "code",
   "execution_count": null,
   "metadata": {
    "collapsed": true
   },
   "outputs": [],
   "source": []
  },
  {
   "cell_type": "code",
   "execution_count": 36,
   "metadata": {},
   "outputs": [
    {
     "data": {
      "text/html": [
       "<table border=\"1\" class=\"dataframe\">\n",
       "    <thead>\n",
       "        <tr>\n",
       "            <th>Conference</th> <th>Team</th> <th>Wins</th> <th>Losses</th> <th>Percentage</th>\n",
       "        </tr>\n",
       "    </thead>\n",
       "    <tbody>\n",
       "        <tr>\n",
       "            <td>Eastern   </td> <td>Cleveland Cavaliers</td> <td>57  </td> <td>25    </td> <td>0.695     </td>\n",
       "        </tr>\n",
       "        <tr>\n",
       "            <td>Eastern   </td> <td>Toronto Raptors    </td> <td>56  </td> <td>26    </td> <td>0.683     </td>\n",
       "        </tr>\n",
       "        <tr>\n",
       "            <td>Eastern   </td> <td>Miami Heat         </td> <td>48  </td> <td>34    </td> <td>0.585     </td>\n",
       "        </tr>\n",
       "        <tr>\n",
       "            <td>Eastern   </td> <td>Atlanta Hawks      </td> <td>48  </td> <td>34    </td> <td>0.585     </td>\n",
       "        </tr>\n",
       "        <tr>\n",
       "            <td>Eastern   </td> <td>Boston Celtics     </td> <td>48  </td> <td>34    </td> <td>0.585     </td>\n",
       "        </tr>\n",
       "        <tr>\n",
       "            <td>Eastern   </td> <td>Charlotte Hornets  </td> <td>48  </td> <td>34    </td> <td>0.585     </td>\n",
       "        </tr>\n",
       "        <tr>\n",
       "            <td>Eastern   </td> <td>Indiana Pacers     </td> <td>45  </td> <td>37    </td> <td>0.549     </td>\n",
       "        </tr>\n",
       "        <tr>\n",
       "            <td>Eastern   </td> <td>Detroit Pistons    </td> <td>44  </td> <td>38    </td> <td>0.537     </td>\n",
       "        </tr>\n",
       "        <tr>\n",
       "            <td>Eastern   </td> <td>Chicago Bulls      </td> <td>42  </td> <td>40    </td> <td>0.512     </td>\n",
       "        </tr>\n",
       "        <tr>\n",
       "            <td>Eastern   </td> <td>Washington Wizards </td> <td>41  </td> <td>41    </td> <td>0.5       </td>\n",
       "        </tr>\n",
       "    </tbody>\n",
       "</table>\n",
       "<p>... (20 rows omitted)</p>"
      ],
      "text/plain": [
       "Conference | Team                | Wins | Losses | Percentage\n",
       "Eastern    | Cleveland Cavaliers | 57   | 25     | 0.695\n",
       "Eastern    | Toronto Raptors     | 56   | 26     | 0.683\n",
       "Eastern    | Miami Heat          | 48   | 34     | 0.585\n",
       "Eastern    | Atlanta Hawks       | 48   | 34     | 0.585\n",
       "Eastern    | Boston Celtics      | 48   | 34     | 0.585\n",
       "Eastern    | Charlotte Hornets   | 48   | 34     | 0.585\n",
       "Eastern    | Indiana Pacers      | 45   | 37     | 0.549\n",
       "Eastern    | Detroit Pistons     | 44   | 38     | 0.537\n",
       "Eastern    | Chicago Bulls       | 42   | 40     | 0.512\n",
       "Eastern    | Washington Wizards  | 41   | 41     | 0.5\n",
       "... (20 rows omitted)"
      ]
     },
     "execution_count": 36,
     "metadata": {},
     "output_type": "execute_result"
    }
   ],
   "source": [
    "standings = Table.read_table('nba_standings.csv')\n",
    "standings.set_format('Percentage', PercentFormatter).show(3)"
   ]
  },
  {
   "cell_type": "code",
   "execution_count": 38,
   "metadata": {},
   "outputs": [
    {
     "data": {
      "text/html": [
       "<table border=\"1\" class=\"dataframe\">\n",
       "    <thead>\n",
       "        <tr>\n",
       "            <th>Conference</th> <th>Team</th> <th>Wins</th> <th>Losses</th> <th>Percentage</th>\n",
       "        </tr>\n",
       "    </thead>\n",
       "    <tbody>\n",
       "        <tr>\n",
       "            <td>Eastern   </td> <td>Cleveland Cavaliers</td> <td>57  </td> <td>25    </td> <td>69.50%    </td>\n",
       "        </tr>\n",
       "        <tr>\n",
       "            <td>Eastern   </td> <td>Toronto Raptors    </td> <td>56  </td> <td>26    </td> <td>68.30%    </td>\n",
       "        </tr>\n",
       "        <tr>\n",
       "            <td>Eastern   </td> <td>Miami Heat         </td> <td>48  </td> <td>34    </td> <td>58.50%    </td>\n",
       "        </tr>\n",
       "        <tr>\n",
       "            <td>Eastern   </td> <td>Atlanta Hawks      </td> <td>48  </td> <td>34    </td> <td>58.50%    </td>\n",
       "        </tr>\n",
       "        <tr>\n",
       "            <td>Eastern   </td> <td>Boston Celtics     </td> <td>48  </td> <td>34    </td> <td>58.50%    </td>\n",
       "        </tr>\n",
       "        <tr>\n",
       "            <td>Eastern   </td> <td>Charlotte Hornets  </td> <td>48  </td> <td>34    </td> <td>58.50%    </td>\n",
       "        </tr>\n",
       "        <tr>\n",
       "            <td>Eastern   </td> <td>Indiana Pacers     </td> <td>45  </td> <td>37    </td> <td>54.90%    </td>\n",
       "        </tr>\n",
       "        <tr>\n",
       "            <td>Eastern   </td> <td>Detroit Pistons    </td> <td>44  </td> <td>38    </td> <td>53.70%    </td>\n",
       "        </tr>\n",
       "        <tr>\n",
       "            <td>Eastern   </td> <td>Chicago Bulls      </td> <td>42  </td> <td>40    </td> <td>51.20%    </td>\n",
       "        </tr>\n",
       "        <tr>\n",
       "            <td>Eastern   </td> <td>Washington Wizards </td> <td>41  </td> <td>41    </td> <td>50.00%    </td>\n",
       "        </tr>\n",
       "    </tbody>\n",
       "</table>\n",
       "<p>... (20 rows omitted)</p>"
      ],
      "text/plain": [
       "Conference | Team                | Wins | Losses | Percentage\n",
       "Eastern    | Cleveland Cavaliers | 57   | 25     | 69.50%\n",
       "Eastern    | Toronto Raptors     | 56   | 26     | 68.30%\n",
       "Eastern    | Miami Heat          | 48   | 34     | 58.50%\n",
       "Eastern    | Atlanta Hawks       | 48   | 34     | 58.50%\n",
       "Eastern    | Boston Celtics      | 48   | 34     | 58.50%\n",
       "Eastern    | Charlotte Hornets   | 48   | 34     | 58.50%\n",
       "Eastern    | Indiana Pacers      | 45   | 37     | 54.90%\n",
       "Eastern    | Detroit Pistons     | 44   | 38     | 53.70%\n",
       "Eastern    | Chicago Bulls       | 42   | 40     | 51.20%\n",
       "Eastern    | Washington Wizards  | 41   | 41     | 50.00%\n",
       "... (20 rows omitted)"
      ]
     },
     "execution_count": 38,
     "metadata": {},
     "output_type": "execute_result"
    }
   ],
   "source": [
    "standings.set_format('Percentage', PercentFormatter)"
   ]
  },
  {
   "cell_type": "code",
   "execution_count": null,
   "metadata": {
    "collapsed": true
   },
   "outputs": [],
   "source": []
  },
  {
   "cell_type": "code",
   "execution_count": null,
   "metadata": {
    "collapsed": true
   },
   "outputs": [],
   "source": []
  }
 ],
 "metadata": {
  "kernelspec": {
   "display_name": "Python 3",
   "language": "python",
   "name": "python3"
  },
  "language_info": {
   "codemirror_mode": {
    "name": "ipython",
    "version": 3
   },
   "file_extension": ".py",
   "mimetype": "text/x-python",
   "name": "python",
   "nbconvert_exporter": "python",
   "pygments_lexer": "ipython3",
   "version": "3.6.7"
  }
 },
 "nbformat": 4,
 "nbformat_minor": 2
}
