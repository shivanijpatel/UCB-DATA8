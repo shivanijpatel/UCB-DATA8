{
 "cells": [
  {
   "cell_type": "markdown",
   "metadata": {},
   "source": [
    "## Lab 6: Examining the Therapeutic Touch\n",
    "\n",
    "Welcome to Lab 6!\n",
    "\n",
    "After such an extensive introduction to programming for data science, we are finally moving into the section of the course where we can apply our new skils to answer real questions.  \n",
    "\n",
    "In this lab, we'll use testing techniques that were introduced in lecture to test the idea of the therapeutic touch, the idea that some practictioners can feel and massage your human energy field. "
   ]
  },
  {
   "cell_type": "code",
   "execution_count": 1,
   "metadata": {},
   "outputs": [
    {
     "name": "stdout",
     "output_type": "stream",
     "text": [
      "=====================================================================\n",
      "Assignment: Assessing Models: Examining the Therapeutic Touch\n",
      "OK, version v1.12.5\n",
      "=====================================================================\n",
      "\n"
     ]
    },
    {
     "data": {
      "application/javascript": [
       "IPython.notebook.save_checkpoint();"
      ],
      "text/plain": [
       "<IPython.core.display.Javascript object>"
      ]
     },
     "metadata": {},
     "output_type": "display_data"
    },
    {
     "data": {
      "application/javascript": [
       "IPython.notebook.save_notebook();"
      ],
      "text/plain": [
       "<IPython.core.display.Javascript object>"
      ]
     },
     "metadata": {},
     "output_type": "display_data"
    },
    {
     "name": "stdout",
     "output_type": "stream",
     "text": [
      "Saving notebook... Saved 'lab06.ipynb'.\n",
      "Performing authentication\n",
      "Please enter your bCourses email.\n",
      "bCourses email: shivanijpatel@berkeley.edu\n",
      "\n",
      "Copy the following URL and open it in a web browser. To copy,\n",
      "highlight the URL, right-click, and select \"Copy\".\n",
      "\n",
      "https://okpy.org/client/login/\n",
      "\n",
      "After logging in, copy the code from the web page, paste it below,\n",
      "and press Enter. To paste, right-click and select \"Paste\".\n",
      "\n",
      "Paste your code here: x0OYSafjEKpYIybS5GgjvwTcepOiXv\n",
      "Successfully logged in as shivanijpatel@berkeley.edu\n",
      "Submit... 100% complete\n",
      "Submission successful for user: shivanijpatel@berkeley.edu\n",
      "URL: https://okpy.org/cal/data8/sp19/lab06/submissions/Mw9GM3\n",
      "\n"
     ]
    }
   ],
   "source": [
    "# Run this cell, but please don't change it.\n",
    "\n",
    "# These lines import the Numpy and Datascience modules.\n",
    "import numpy as np\n",
    "from datascience import *\n",
    "\n",
    "# These lines do some fancy plotting magic\n",
    "import matplotlib\n",
    "%matplotlib inline\n",
    "import matplotlib.pyplot as plt\n",
    "plt.style.use('fivethirtyeight')\n",
    "import warnings\n",
    "warnings.simplefilter('ignore', FutureWarning)\n",
    "from matplotlib import patches\n",
    "from ipywidgets import interact, interactive, fixed\n",
    "import ipywidgets as widgets\n",
    "\n",
    "# These lines load the tests.\n",
    "from client.api.notebook import Notebook\n",
    "ok = Notebook('lab06.ok')\n",
    "_ = ok.submit()"
   ]
  },
  {
   "cell_type": "markdown",
   "metadata": {},
   "source": [
    "### What is the Therapeutic Touch\n",
    "\n",
    "The Therapeutic Touch (TT) is the idea that everyone can feel the Human Energy Field (HEF) around individuals. Certain practictioners claim they have the ability to feel the HEF and can massage it in order to promote health and relaxation in individuals. Those who practice TT have described different people's HEFs as \"warm as Jell-O\" and \"tactile as taffy\". \n",
    "\n",
    "TT was a popular technique used throughout the 20th century that was toted to be a great way to bring balance to a person's health. \n",
    "\n",
    "### Emily Rosa\n",
    "\n",
    "[Emily Rosa](https://en.wikipedia.org/wiki/Emily_Rosa) was a 4th grade student who had wide exposure to the world of TT due to her parents. Her parents were both medical practitioners and skeptics of the idea of TT. \n",
    "\n",
    "For her 4th grade science fair project, Emily decided to test whether or not TT practitioners could truly interact with a person's HEF. "
   ]
  },
  {
   "cell_type": "markdown",
   "metadata": {},
   "source": [
    "**Question 1:** Discuss with the individuals around you how you would set up an experiment to test this."
   ]
  },
  {
   "cell_type": "markdown",
   "metadata": {},
   "source": [
    "For this experiment we need to create two randomly selected groups with large sample sizes. One group will serve as a control while the other will be the experimental. Both groups would be asked to sit in front of a screen that divides the experimenter and the subject. In the control group the subjects will talk to the experimenter using the neutral therapy questions. The experimental group will place there hands through a hole in the divider and hold hands with the experimenter. They will also be asked the questions. Both groups will answer a set of baseline questions with scales from 1-10 and after the experiment, they will answer follow-up questions to see if there is significance. Repetition of this experiment will ensure reliable averages. If 70% or above of the participants show improvement through TT, then there is significance in TT."
   ]
  },
  {
   "cell_type": "markdown",
   "metadata": {},
   "source": [
    "### Emily's Experiment\n",
    "\n",
    "Emily's experiment was clean, simple, and effective. Due to her parents' occupations in the medical field, she had wide access to people who claimed to be TT practitioners. \n",
    "\n",
    "Emily took 21 TT practitioners and used them for her science experiment. She would take a TT practitioner and ask them to extend their hands through a screen (which they can't see through). Emily would be on the other side and would flip a coin. Depending on how the coin landed, she would put out either her left hand or her right hand. The TT practitioner would then have to correctly answer which hand Emily put out. Overall, through 210 samples, the practitioner picked the correct hand 44% of the time. \n",
    "\n",
    "Emily's main goal here was to test whether or not the TT practicioners' guesses were random, like the flip of a coin. In most medical experiments, this is the norm. We want to test whether or not the treatment has an effect, *not* whether or not the treatment actually works. \n",
    "\n",
    "We will now begin to formulate this experiment in terms of the terminology we learned in this course. "
   ]
  },
  {
   "cell_type": "markdown",
   "metadata": {},
   "source": [
    "**Question 2**: What is Emily's hypothesis for the experiment? What is the alternative hypothesis? Discuss with students around you to come to a conclusion. \n",
    "\n",
    "\n",
    "Emily's experiment shows 50/50 chance like the flip of a coin therefore the higher the chance for one side to be right shows signficance\n"
   ]
  },
  {
   "cell_type": "markdown",
   "metadata": {
    "for_assignment_type": "student"
   },
   "source": [
    "**Your Answer Here:**\n",
    "\n",
    "Emily's Hypothesis: \n",
    "\n",
    "Alternative Hypothesis: "
   ]
  },
  {
   "cell_type": "markdown",
   "metadata": {},
   "source": [
    "**Question 3:** Remember that the practitioner got the correct answer 44% of the time. According to Emily's hypothesis, on average, what proportion of times do we expect the practitioner to guess the correct hand? Make sure your answer is between 0 and 1. "
   ]
  },
  {
   "cell_type": "code",
   "execution_count": 2,
   "metadata": {},
   "outputs": [
    {
     "data": {
      "text/plain": [
       "0.5"
      ]
     },
     "execution_count": 2,
     "metadata": {},
     "output_type": "execute_result"
    }
   ],
   "source": [
    "expected_correct = 0.5\n",
    "expected_correct"
   ]
  },
  {
   "cell_type": "code",
   "execution_count": 3,
   "metadata": {},
   "outputs": [
    {
     "name": "stdout",
     "output_type": "stream",
     "text": [
      "~~~~~~~~~~~~~~~~~~~~~~~~~~~~~~~~~~~~~~~~~~~~~~~~~~~~~~~~~~~~~~~~~~~~~\n",
      "Running tests\n",
      "\n",
      "---------------------------------------------------------------------\n",
      "Test summary\n",
      "    Passed: 1\n",
      "    Failed: 0\n",
      "[ooooooooook] 100.0% passed\n",
      "\n"
     ]
    }
   ],
   "source": [
    "_ = ok.grade('q3')"
   ]
  },
  {
   "cell_type": "markdown",
   "metadata": {},
   "source": [
    "The goal now is to see if our deviation from this expected proportion of correct answers is due to something other than chance. \n",
    "\n",
    "**Question 4:** What is a statistic that we can use to assess Emily's model? Assign `valid_stat` to an array of integer(s) representing the following options: \n",
    "\n",
    "1. The difference of the expected percent correct and the actual percent correct\n",
    "2. The absolute difference of the expected percent correct and the actual percent correct\n",
    "3. The sum of the expected percent correct and the actual percent correct\n",
    "\n",
    "There may be more than one correct answer. "
   ]
  },
  {
   "cell_type": "code",
   "execution_count": 4,
   "metadata": {},
   "outputs": [],
   "source": [
    "valid_stat = make_array(2)"
   ]
  },
  {
   "cell_type": "code",
   "execution_count": 5,
   "metadata": {},
   "outputs": [
    {
     "name": "stdout",
     "output_type": "stream",
     "text": [
      "~~~~~~~~~~~~~~~~~~~~~~~~~~~~~~~~~~~~~~~~~~~~~~~~~~~~~~~~~~~~~~~~~~~~~\n",
      "Running tests\n",
      "\n",
      "---------------------------------------------------------------------\n",
      "Test summary\n",
      "    Passed: 1\n",
      "    Failed: 0\n",
      "[ooooooooook] 100.0% passed\n",
      "\n"
     ]
    }
   ],
   "source": [
    "_ = ok.grade('q4')"
   ]
  },
  {
   "cell_type": "markdown",
   "metadata": {},
   "source": [
    "**Question 5:** Define the function `statistic` which takes in an expected proportion and an actual proportion, and returns the value of the statistic chosen above. Assume that you are taking in proportions, but you want to return your answer as a percentage. \n",
    "\n",
    "*Hint:* Remember we are asking for a **percentage**, not a proportion. "
   ]
  },
  {
   "cell_type": "code",
   "execution_count": 6,
   "metadata": {},
   "outputs": [],
   "source": [
    "#The absolute difference of the expected \n",
    "#percent correct and the actual percent correct\n",
    "def statistic(expected_prop, actual_prop):\n",
    "    return abs(expected_prop-actual_prop)*100"
   ]
  },
  {
   "cell_type": "code",
   "execution_count": 7,
   "metadata": {},
   "outputs": [
    {
     "name": "stdout",
     "output_type": "stream",
     "text": [
      "~~~~~~~~~~~~~~~~~~~~~~~~~~~~~~~~~~~~~~~~~~~~~~~~~~~~~~~~~~~~~~~~~~~~~\n",
      "Running tests\n",
      "\n",
      "---------------------------------------------------------------------\n",
      "Test summary\n",
      "    Passed: 1\n",
      "    Failed: 0\n",
      "[ooooooooook] 100.0% passed\n",
      "\n"
     ]
    }
   ],
   "source": [
    "_ = ok.grade('q5')"
   ]
  },
  {
   "cell_type": "markdown",
   "metadata": {},
   "source": [
    "**Question 6:** Use your newly defined function to calculate the observed statistic from Emily's experiment. "
   ]
  },
  {
   "cell_type": "code",
   "execution_count": 8,
   "metadata": {},
   "outputs": [
    {
     "data": {
      "text/plain": [
       "6.0"
      ]
     },
     "execution_count": 8,
     "metadata": {},
     "output_type": "execute_result"
    }
   ],
   "source": [
    "observed_statistic = statistic(.5,.44)\n",
    "observed_statistic"
   ]
  },
  {
   "cell_type": "code",
   "execution_count": 9,
   "metadata": {},
   "outputs": [
    {
     "name": "stdout",
     "output_type": "stream",
     "text": [
      "~~~~~~~~~~~~~~~~~~~~~~~~~~~~~~~~~~~~~~~~~~~~~~~~~~~~~~~~~~~~~~~~~~~~~\n",
      "Running tests\n",
      "\n",
      "---------------------------------------------------------------------\n",
      "Test summary\n",
      "    Passed: 1\n",
      "    Failed: 0\n",
      "[ooooooooook] 100.0% passed\n",
      "\n"
     ]
    }
   ],
   "source": [
    "_ = ok.grade('q6')"
   ]
  },
  {
   "cell_type": "markdown",
   "metadata": {},
   "source": [
    "**Is this observed statistic consistent under Emily’s model? Or is the deviation from the expected proportion due to something other than chance?**\n",
    "\n",
    "In order to answer this question, we must simulate the experiment as though Emily's hypothesis was true, and calculate the statistic per simulation.\n",
    "\n",
    "**Question 7:** To begin simulating, we should start by creating an array with two items in it. The first item should be the proportion of times, assuming that Emily's hypothesis is true, a TT practictioner picks the correct hand. The second item should be the proportion of times, under the same assumption, that the TT practicioner picks the incorrect hand. Assign `model_proportions` to this array. \n",
    "\n",
    "After this, use the `sample_proportions` function to simulate Emily running through this experiment 210 times (as done in real life), and assign the proportion of *correct answers* to `simulation_proportion`. Lastly, define `one_statistic` to the statistic of this one simulation. \n",
    "\n",
    "*Hint:* `sample_proportions` usage can be found here [here](http://data8.org/sp19/python-reference.html)"
   ]
  },
  {
   "cell_type": "code",
   "execution_count": 11,
   "metadata": {},
   "outputs": [
    {
     "data": {
      "text/plain": [
       "1.4285714285714235"
      ]
     },
     "execution_count": 11,
     "metadata": {},
     "output_type": "execute_result"
    }
   ],
   "source": [
    "model_proportions = make_array(0.5,0.5)\n",
    "simulation_proportion = sample_proportions(210, model_proportions).item(0)\n",
    "one_statistic = abs(100*simulation_proportion-50)\n",
    "one_statistic"
   ]
  },
  {
   "cell_type": "code",
   "execution_count": 12,
   "metadata": {},
   "outputs": [
    {
     "name": "stdout",
     "output_type": "stream",
     "text": [
      "~~~~~~~~~~~~~~~~~~~~~~~~~~~~~~~~~~~~~~~~~~~~~~~~~~~~~~~~~~~~~~~~~~~~~\n",
      "Running tests\n",
      "\n",
      "---------------------------------------------------------------------\n",
      "Test summary\n",
      "    Passed: 1\n",
      "    Failed: 0\n",
      "[ooooooooook] 100.0% passed\n",
      "\n"
     ]
    }
   ],
   "source": [
    "_ = ok.grade('q7')"
   ]
  },
  {
   "cell_type": "markdown",
   "metadata": {},
   "source": [
    "**Question 8:** Let's now see what the distribution of statistics is actually like under Emily's model. \n",
    "\n",
    "Define the function `simulation_and_statistic` to take in the number of times we want to run the experiment (`num_guesses`), the `model_proportions` array, and the expected proportion of times a TT practitioner would guess correctly under Emily's model. The function should simulate Emily running through the experiment 210 times and return the statistic of this one simulation. \n",
    "\n",
    "Using this function, assign `simulated_statistics` to an array of 1000 statistics that you simulated assuming Emily's hypothesis is true. \n",
    "\n",
    "*Hint:* This should follow the same pattern as normal simulations, in combination with the code you did in the previous problem.  "
   ]
  },
  {
   "cell_type": "code",
   "execution_count": 21,
   "metadata": {},
   "outputs": [
    {
     "data": {
      "text/plain": [
       "2.857142857142861"
      ]
     },
     "execution_count": 21,
     "metadata": {},
     "output_type": "execute_result"
    }
   ],
   "source": [
    "def simulation_and_statistic(num_guesses, model_proportions, expected_correct):\n",
    "    '''Simulates Emily running through this experiment 210 times.\n",
    "    Returns one statistic from the simulation.'''\n",
    "    return abs(100*sample_proportions(num_guesses, model_proportions).item(0)-50)\n",
    "simulation_and_statistic(210, make_array(0.5,0.5), 50)"
   ]
  },
  {
   "cell_type": "code",
   "execution_count": 23,
   "metadata": {
    "for_assignment_type": "student"
   },
   "outputs": [
    {
     "data": {
      "text/plain": [
       "array([ 0.95238095,  0.47619048,  0.95238095,  3.33333333,  5.71428571,\n",
       "        0.95238095,  2.38095238,  0.95238095,  1.42857143,  0.        ,\n",
       "        6.19047619,  1.42857143,  2.38095238,  1.9047619 ,  2.38095238,\n",
       "        1.9047619 ,  2.38095238,  5.71428571,  0.47619048,  2.38095238,\n",
       "        0.95238095,  0.95238095,  3.33333333,  0.        ,  0.95238095,\n",
       "        1.9047619 ,  1.42857143,  0.        ,  3.80952381,  1.42857143,\n",
       "        3.33333333,  4.28571429,  5.71428571,  6.19047619,  2.85714286,\n",
       "        0.        ,  1.42857143,  2.38095238,  0.47619048,  0.47619048,\n",
       "        6.19047619,  0.95238095,  1.9047619 ,  4.76190476,  0.95238095,\n",
       "        8.0952381 ,  0.47619048,  0.95238095,  1.42857143,  2.85714286,\n",
       "        0.95238095,  1.42857143,  0.95238095,  1.9047619 ,  2.38095238,\n",
       "        3.33333333,  0.95238095,  0.47619048,  7.14285714,  1.9047619 ,\n",
       "        0.95238095,  6.66666667,  3.80952381,  1.42857143,  2.38095238,\n",
       "        0.47619048,  1.9047619 ,  4.76190476,  0.95238095,  1.9047619 ,\n",
       "        3.33333333,  3.80952381,  2.85714286,  4.76190476,  3.80952381,\n",
       "        0.95238095,  5.23809524,  2.38095238,  3.33333333,  1.42857143,\n",
       "        1.9047619 ,  1.42857143,  2.85714286,  4.28571429,  4.28571429,\n",
       "        1.42857143,  1.9047619 ,  5.23809524,  2.38095238,  0.95238095,\n",
       "        0.        ,  7.61904762,  0.95238095,  0.95238095, 12.38095238,\n",
       "        1.9047619 ,  3.80952381,  1.9047619 ,  3.33333333, 10.        ,\n",
       "        1.9047619 ,  2.85714286,  4.28571429,  5.23809524,  1.9047619 ,\n",
       "        7.61904762,  1.9047619 ,  2.38095238,  2.38095238,  5.23809524,\n",
       "        4.76190476,  1.9047619 , 10.        ,  1.42857143,  1.42857143,\n",
       "        1.9047619 ,  3.33333333,  2.38095238,  4.76190476,  2.38095238,\n",
       "        0.47619048,  0.        ,  2.85714286,  2.85714286,  3.80952381,\n",
       "        0.47619048,  0.47619048,  0.95238095,  2.85714286,  3.80952381,\n",
       "        2.38095238,  8.57142857,  1.9047619 ,  4.28571429,  0.        ,\n",
       "        5.71428571,  4.28571429,  0.95238095,  3.33333333,  1.42857143,\n",
       "        2.38095238,  3.80952381,  7.61904762,  3.33333333,  0.        ,\n",
       "        4.28571429,  4.76190476,  3.33333333,  0.47619048,  2.85714286,\n",
       "        1.42857143,  4.76190476,  0.47619048,  0.95238095,  5.71428571,\n",
       "        0.95238095,  0.95238095,  5.71428571,  0.95238095,  3.33333333,\n",
       "        2.38095238,  3.33333333,  4.28571429,  1.42857143,  7.14285714,\n",
       "        1.42857143,  9.52380952,  1.9047619 ,  0.47619048,  3.33333333,\n",
       "        5.23809524,  2.38095238,  0.95238095,  0.95238095,  1.9047619 ,\n",
       "        1.9047619 ,  3.80952381,  0.47619048,  2.38095238,  0.47619048,\n",
       "        3.33333333,  3.80952381,  3.33333333,  3.33333333,  1.9047619 ,\n",
       "        7.14285714,  0.        ,  0.47619048,  5.23809524,  5.23809524,\n",
       "        3.80952381,  2.38095238,  1.42857143,  3.33333333,  6.19047619,\n",
       "        0.95238095,  2.85714286,  0.95238095,  0.95238095,  5.71428571,\n",
       "        1.42857143,  0.        ,  4.28571429,  0.47619048,  0.95238095,\n",
       "        4.76190476,  4.76190476,  3.80952381,  4.76190476,  4.28571429,\n",
       "        2.38095238,  1.9047619 ,  0.47619048,  4.76190476,  1.42857143,\n",
       "        0.47619048,  2.85714286,  0.95238095,  0.        ,  0.47619048,\n",
       "        5.23809524,  0.47619048,  4.28571429,  0.47619048,  5.23809524,\n",
       "        4.28571429,  0.        ,  2.85714286,  5.23809524,  0.47619048,\n",
       "        0.95238095,  5.23809524,  0.95238095,  1.9047619 ,  3.80952381,\n",
       "        1.9047619 ,  2.85714286,  2.85714286,  1.42857143,  3.33333333,\n",
       "        4.28571429,  0.95238095,  4.28571429,  1.9047619 ,  2.38095238,\n",
       "        0.95238095,  1.42857143,  0.95238095,  0.95238095,  5.23809524,\n",
       "        3.33333333,  1.9047619 ,  0.95238095,  6.66666667,  6.19047619,\n",
       "        2.85714286,  1.42857143,  6.66666667,  4.28571429,  0.        ,\n",
       "        1.9047619 ,  1.9047619 ,  4.76190476,  2.85714286,  0.47619048,\n",
       "        0.47619048,  0.        ,  2.38095238,  4.28571429,  5.71428571,\n",
       "        0.        ,  8.57142857,  0.        , 10.95238095,  4.76190476,\n",
       "        6.66666667,  1.42857143,  3.80952381,  0.95238095,  3.80952381,\n",
       "        1.9047619 ,  4.28571429,  4.76190476,  2.85714286,  2.85714286,\n",
       "        2.38095238,  3.33333333,  0.95238095,  2.85714286,  0.47619048,\n",
       "        7.14285714,  9.04761905,  1.42857143,  2.38095238,  0.95238095,\n",
       "        1.9047619 ,  1.9047619 ,  0.47619048,  0.47619048,  4.76190476,\n",
       "        1.42857143,  2.38095238,  0.47619048,  2.38095238,  0.95238095,\n",
       "        2.85714286,  1.9047619 ,  7.61904762,  1.9047619 ,  2.85714286,\n",
       "        1.42857143,  6.19047619,  0.47619048,  1.9047619 ,  0.        ,\n",
       "        0.47619048,  2.85714286,  5.23809524,  0.95238095,  0.95238095,\n",
       "        2.85714286,  0.47619048,  3.33333333,  4.76190476,  2.38095238,\n",
       "        1.9047619 ,  3.80952381,  2.85714286,  0.95238095,  5.23809524,\n",
       "        4.76190476,  0.47619048,  2.38095238,  1.42857143,  4.28571429,\n",
       "        2.85714286,  8.0952381 ,  3.33333333,  3.80952381,  0.47619048,\n",
       "        2.38095238,  4.28571429,  0.47619048,  6.19047619,  3.33333333,\n",
       "        0.95238095,  0.47619048,  3.33333333,  4.76190476,  0.47619048,\n",
       "        0.        ,  1.42857143,  3.80952381,  1.9047619 ,  3.33333333,\n",
       "        0.        ,  3.80952381,  5.23809524,  1.42857143,  2.38095238,\n",
       "        4.28571429,  6.66666667,  5.71428571,  0.47619048,  4.76190476,\n",
       "        2.38095238,  4.28571429,  7.61904762,  0.        ,  4.28571429,\n",
       "        0.47619048,  3.80952381,  0.47619048,  2.85714286,  4.76190476,\n",
       "        5.23809524,  3.33333333,  0.47619048,  2.38095238,  5.71428571,\n",
       "        6.66666667,  0.        ,  3.80952381,  6.19047619,  0.95238095,\n",
       "        3.80952381,  3.80952381,  4.76190476,  3.33333333,  0.        ,\n",
       "        2.38095238,  1.9047619 ,  4.76190476,  0.        ,  0.        ,\n",
       "        0.        ,  8.57142857,  0.95238095,  0.95238095,  0.47619048,\n",
       "        5.71428571,  0.        ,  2.85714286,  2.85714286,  0.95238095,\n",
       "        6.66666667,  2.38095238,  1.42857143,  1.9047619 ,  8.57142857,\n",
       "        3.80952381,  0.        ,  2.85714286,  1.42857143,  0.95238095,\n",
       "        2.85714286,  0.        ,  3.33333333,  2.38095238,  0.47619048,\n",
       "        7.14285714,  3.80952381,  3.33333333,  1.42857143,  0.47619048,\n",
       "        5.71428571,  2.38095238,  3.80952381,  4.76190476,  2.38095238,\n",
       "        1.9047619 ,  0.47619048,  5.71428571,  2.38095238,  3.80952381,\n",
       "        1.42857143,  3.80952381,  0.47619048,  0.95238095,  1.42857143,\n",
       "        2.38095238,  0.47619048,  0.95238095,  5.71428571,  2.38095238,\n",
       "        4.76190476,  0.        ,  0.47619048,  2.85714286,  3.33333333,\n",
       "        2.85714286,  0.95238095,  5.71428571,  2.38095238,  2.38095238,\n",
       "        1.9047619 ,  3.33333333,  0.95238095,  1.9047619 ,  0.95238095,\n",
       "        0.        ,  0.95238095,  3.33333333,  1.42857143,  0.47619048,\n",
       "        1.42857143,  2.85714286,  3.80952381,  0.47619048,  0.95238095,\n",
       "        3.80952381,  1.42857143,  3.33333333,  0.        ,  0.95238095,\n",
       "        6.19047619,  2.38095238,  2.85714286,  0.        ,  6.19047619,\n",
       "        6.66666667,  5.71428571,  5.23809524,  3.33333333,  3.80952381,\n",
       "        0.95238095,  6.19047619,  0.47619048,  5.23809524,  3.33333333,\n",
       "        5.23809524,  2.38095238,  0.47619048,  1.9047619 ,  0.47619048,\n",
       "        2.85714286,  3.33333333, 10.        ,  5.23809524,  1.42857143,\n",
       "        3.33333333,  3.33333333,  1.9047619 ,  0.47619048,  5.23809524,\n",
       "        3.33333333,  1.9047619 ,  3.33333333,  5.71428571,  3.33333333,\n",
       "        0.        ,  0.95238095,  3.80952381,  5.23809524,  1.9047619 ,\n",
       "        4.28571429,  0.47619048,  1.9047619 ,  4.76190476,  0.47619048,\n",
       "        6.66666667,  1.9047619 ,  1.9047619 ,  6.19047619,  7.14285714,\n",
       "        1.42857143,  2.85714286,  1.9047619 ,  1.9047619 ,  3.80952381,\n",
       "        2.85714286,  2.38095238,  3.33333333,  0.95238095,  2.85714286,\n",
       "        3.33333333,  0.95238095,  2.38095238,  2.38095238,  1.9047619 ,\n",
       "        3.33333333,  2.38095238,  0.        ,  4.76190476,  1.42857143,\n",
       "        0.47619048, 13.80952381,  0.47619048,  0.        ,  3.80952381,\n",
       "        4.28571429,  2.85714286,  0.47619048,  1.42857143,  0.47619048,\n",
       "        2.85714286,  3.33333333,  4.28571429,  1.9047619 ,  2.85714286,\n",
       "        2.38095238,  2.38095238,  6.66666667,  0.        ,  1.9047619 ,\n",
       "        6.66666667,  3.80952381,  0.        ,  2.38095238,  0.47619048,\n",
       "        5.23809524,  0.95238095,  1.42857143,  4.76190476,  1.9047619 ,\n",
       "        5.71428571,  0.        ,  6.19047619,  0.47619048,  4.76190476,\n",
       "        0.        ,  0.95238095,  0.        ,  6.19047619,  2.85714286,\n",
       "        5.23809524,  4.76190476,  1.42857143,  0.95238095,  2.85714286,\n",
       "        3.33333333,  0.95238095,  0.95238095,  0.        ,  0.47619048,\n",
       "        7.14285714,  6.66666667,  2.38095238,  4.28571429,  3.33333333,\n",
       "        4.28571429,  3.80952381,  3.80952381,  4.28571429,  2.38095238,\n",
       "        0.47619048,  0.95238095,  0.        ,  7.14285714,  0.47619048,\n",
       "        0.47619048,  3.80952381,  0.95238095,  3.80952381,  0.95238095,\n",
       "        0.        ,  5.71428571,  1.42857143,  4.28571429,  2.38095238,\n",
       "        3.80952381,  5.71428571,  4.28571429,  1.9047619 ,  2.85714286,\n",
       "        4.28571429,  0.47619048,  7.14285714,  4.76190476,  3.33333333,\n",
       "        0.47619048,  0.        ,  4.76190476,  5.71428571,  5.71428571,\n",
       "        6.19047619,  1.9047619 ,  0.47619048,  0.95238095,  1.42857143,\n",
       "        0.95238095,  2.85714286,  0.47619048,  1.9047619 ,  3.33333333,\n",
       "        6.19047619,  1.42857143,  1.9047619 ,  0.95238095,  1.9047619 ,\n",
       "        2.38095238,  1.9047619 ,  0.47619048,  0.95238095,  3.33333333,\n",
       "        1.42857143,  1.9047619 ,  0.95238095,  0.47619048,  0.95238095,\n",
       "        2.85714286,  5.23809524,  1.9047619 ,  2.85714286,  3.33333333,\n",
       "        2.38095238,  1.42857143,  0.        ,  5.23809524,  0.47619048,\n",
       "        4.28571429,  4.76190476,  3.80952381,  3.33333333,  1.9047619 ,\n",
       "        4.76190476,  2.85714286,  4.76190476,  3.33333333,  3.80952381,\n",
       "        0.95238095,  0.95238095,  1.9047619 ,  2.85714286,  2.38095238,\n",
       "        0.47619048,  6.66666667,  0.47619048,  1.9047619 ,  0.        ,\n",
       "        7.61904762,  2.85714286,  0.47619048,  1.42857143,  0.47619048,\n",
       "        2.38095238,  2.85714286,  1.42857143,  4.28571429,  0.95238095,\n",
       "        1.9047619 ,  1.42857143,  3.33333333,  2.38095238,  1.9047619 ,\n",
       "        0.95238095,  4.76190476,  0.        ,  3.33333333,  3.80952381,\n",
       "        1.42857143,  7.14285714,  8.0952381 ,  6.66666667,  3.33333333,\n",
       "        4.28571429,  2.85714286,  4.28571429,  0.47619048,  5.71428571,\n",
       "        0.95238095,  1.9047619 ,  3.33333333,  5.23809524,  0.95238095,\n",
       "        0.95238095,  8.0952381 ,  5.71428571,  6.19047619,  0.95238095,\n",
       "        2.85714286,  0.        ,  2.38095238,  3.80952381,  0.95238095,\n",
       "        0.95238095,  2.38095238,  5.23809524,  2.85714286,  2.38095238,\n",
       "        7.61904762,  2.38095238,  1.9047619 ,  0.        ,  1.9047619 ,\n",
       "        3.80952381,  2.85714286,  0.47619048,  1.9047619 ,  0.47619048,\n",
       "        1.9047619 ,  2.85714286,  1.9047619 ,  0.47619048,  3.33333333,\n",
       "        0.        ,  0.        ,  1.9047619 ,  3.33333333,  4.76190476,\n",
       "        4.76190476,  1.42857143,  1.9047619 ,  0.47619048,  0.        ,\n",
       "        0.47619048,  1.9047619 ,  0.47619048,  3.33333333,  0.47619048,\n",
       "        1.42857143,  2.85714286,  2.85714286,  0.95238095,  0.47619048,\n",
       "        1.9047619 ,  2.85714286,  0.95238095,  2.38095238,  1.9047619 ,\n",
       "        6.19047619,  0.47619048,  2.85714286,  3.33333333,  4.76190476,\n",
       "        4.28571429,  0.47619048,  5.23809524,  1.9047619 ,  5.23809524,\n",
       "        3.80952381,  3.33333333,  0.47619048,  2.38095238,  0.47619048,\n",
       "        3.33333333,  0.95238095,  7.14285714,  4.28571429,  2.85714286,\n",
       "        1.42857143,  4.76190476,  5.71428571,  5.23809524,  4.76190476,\n",
       "        0.        ,  1.42857143,  1.9047619 ,  3.33333333,  0.        ,\n",
       "        1.42857143,  4.76190476,  2.85714286,  8.0952381 ,  3.33333333,\n",
       "        3.33333333,  5.23809524,  6.66666667,  1.9047619 ,  6.19047619,\n",
       "        2.85714286,  2.38095238,  0.95238095,  1.42857143,  4.28571429,\n",
       "        3.33333333,  0.95238095,  0.        ,  0.95238095,  4.28571429,\n",
       "        2.38095238,  0.        ,  2.85714286,  0.47619048,  2.85714286,\n",
       "        6.66666667,  0.95238095,  2.38095238,  0.        ,  4.28571429,\n",
       "        5.23809524,  2.85714286,  2.85714286,  7.14285714,  1.9047619 ,\n",
       "        1.42857143,  4.28571429,  1.42857143,  2.38095238,  5.23809524,\n",
       "        4.76190476,  1.42857143,  0.95238095,  1.42857143,  4.76190476,\n",
       "        1.42857143,  5.23809524,  0.95238095,  3.80952381,  3.80952381,\n",
       "        0.95238095,  3.33333333,  6.19047619,  1.9047619 ,  6.66666667,\n",
       "        1.9047619 ,  1.9047619 ,  3.33333333,  1.42857143,  1.42857143,\n",
       "        0.        ,  5.23809524,  0.47619048,  4.76190476,  3.33333333,\n",
       "        2.85714286,  0.47619048,  2.85714286,  3.33333333,  3.33333333,\n",
       "        0.47619048,  3.80952381,  2.38095238,  2.38095238,  5.23809524,\n",
       "        0.95238095,  2.85714286,  3.33333333,  2.85714286,  0.95238095,\n",
       "        1.9047619 ,  0.        ,  0.95238095,  2.38095238,  0.        ,\n",
       "        0.95238095,  2.38095238,  2.38095238,  1.9047619 ,  4.76190476,\n",
       "        0.47619048,  1.42857143,  2.85714286,  0.        ,  4.76190476,\n",
       "        2.85714286,  5.23809524,  0.47619048,  3.80952381,  1.42857143,\n",
       "        0.95238095,  0.95238095,  4.76190476,  3.80952381,  1.42857143,\n",
       "        4.76190476,  1.42857143,  1.42857143,  0.95238095,  2.85714286,\n",
       "        5.71428571,  1.9047619 ,  6.19047619,  0.47619048,  5.23809524,\n",
       "        3.80952381,  3.33333333,  0.47619048,  1.42857143,  0.        ,\n",
       "        2.85714286,  2.85714286,  1.9047619 ,  0.95238095,  0.95238095,\n",
       "        2.38095238,  3.33333333,  1.42857143,  0.        ,  5.71428571,\n",
       "        0.47619048,  1.42857143,  0.        ,  2.38095238,  0.95238095,\n",
       "        6.66666667,  3.80952381,  2.85714286,  1.42857143,  1.9047619 ,\n",
       "        0.47619048,  3.80952381,  3.80952381,  2.38095238,  2.38095238,\n",
       "        2.85714286,  0.47619048,  0.47619048,  0.95238095,  4.28571429,\n",
       "        5.23809524,  5.71428571,  0.        ,  4.76190476,  0.95238095,\n",
       "        1.42857143,  1.42857143,  2.38095238,  5.23809524,  2.38095238,\n",
       "        3.80952381,  0.        ,  2.85714286,  0.47619048,  5.23809524,\n",
       "        3.33333333,  0.        , 11.9047619 ,  0.95238095,  5.23809524,\n",
       "        2.38095238,  1.9047619 ,  2.85714286,  2.38095238,  2.85714286,\n",
       "        1.9047619 ,  2.85714286,  0.47619048,  2.85714286,  0.        ,\n",
       "        0.47619048,  8.57142857,  5.23809524,  0.47619048,  2.38095238,\n",
       "        0.95238095,  1.42857143,  2.85714286,  2.38095238,  2.85714286])"
      ]
     },
     "execution_count": 23,
     "metadata": {},
     "output_type": "execute_result"
    }
   ],
   "source": [
    "def simulation_and_statistic(num_guesses, model_proportions, expected_correct):\n",
    "    '''Simulates Emily running through this experiment 210 times.\n",
    "    Returns one statistic from the simulation.'''\n",
    "    return abs(100*sample_proportions(num_guesses, model_proportions).item(0)-50)\n",
    "\n",
    "num_repetitions = 1000\n",
    "num_guesses = 210\n",
    "\n",
    "simulated_statistics = make_array()\n",
    "model_proportions = make_array(0.5,0.5)\n",
    "\n",
    "for x in np.arange(num_repetitions):\n",
    "    one_stat = abs(100*sample_proportions(num_guesses, model_proportions).item(0)-50)\n",
    "    simulated_statistics = np.append(simulated_statistics, one_stat)\n",
    "simulated_statistics"
   ]
  },
  {
   "cell_type": "code",
   "execution_count": 24,
   "metadata": {},
   "outputs": [
    {
     "name": "stdout",
     "output_type": "stream",
     "text": [
      "~~~~~~~~~~~~~~~~~~~~~~~~~~~~~~~~~~~~~~~~~~~~~~~~~~~~~~~~~~~~~~~~~~~~~\n",
      "Running tests\n",
      "\n",
      "---------------------------------------------------------------------\n",
      "Test summary\n",
      "    Passed: 2\n",
      "    Failed: 0\n",
      "[ooooooooook] 100.0% passed\n",
      "\n"
     ]
    }
   ],
   "source": [
    "_ = ok.grade('q8')"
   ]
  },
  {
   "cell_type": "markdown",
   "metadata": {},
   "source": [
    "Let's view the distribution of the simulated statistics under Emily's hypothesis, and visually compare how the observed statistic lies against the rest. "
   ]
  },
  {
   "cell_type": "code",
   "execution_count": 25,
   "metadata": {},
   "outputs": [
    {
     "data": {
      "image/png": "[encoded data removed]",
      "text/plain": [
       "<Figure size 432x288 with 1 Axes>"
      ]
     },
     "metadata": {},
     "output_type": "display_data"
    }
   ],
   "source": [
    "t = Table().with_column('Simulated Statistics', simulated_statistics)\n",
    "t.hist()\n",
    "plt.scatter(observed_statistic, 0, color='red', s=30);"
   ]
  },
  {
   "cell_type": "markdown",
   "metadata": {},
   "source": [
    "We can make a visual argument as to whether we believe the observed statistic is consistent with Emily’s hypothesis. Formally, data scientists look at the area at or to the right of the observed statistic, and if that’s small (less than 5%), we declare it to be inconsistent."
   ]
  },
  {
   "cell_type": "markdown",
   "metadata": {},
   "source": [
    "**Question 9:** Calculate the proportion of simulated statistics greater than or equal to the observed statistic. "
   ]
  },
  {
   "cell_type": "code",
   "execution_count": 26,
   "metadata": {
    "scrolled": true
   },
   "outputs": [
    {
     "data": {
      "text/plain": [
       "0.077"
      ]
     },
     "execution_count": 26,
     "metadata": {},
     "output_type": "execute_result"
    }
   ],
   "source": [
    "proportion_greater_or_equal = sum(simulated_statistics>=observed_statistic)/1000\n",
    "proportion_greater_or_equal"
   ]
  },
  {
   "cell_type": "code",
   "execution_count": 27,
   "metadata": {},
   "outputs": [
    {
     "name": "stdout",
     "output_type": "stream",
     "text": [
      "~~~~~~~~~~~~~~~~~~~~~~~~~~~~~~~~~~~~~~~~~~~~~~~~~~~~~~~~~~~~~~~~~~~~~\n",
      "Running tests\n",
      "\n",
      "---------------------------------------------------------------------\n",
      "Test summary\n",
      "    Passed: 1\n",
      "    Failed: 0\n",
      "[ooooooooook] 100.0% passed\n",
      "\n"
     ]
    }
   ],
   "source": [
    "_ = ok.grade('q9')"
   ]
  },
  {
   "cell_type": "markdown",
   "metadata": {},
   "source": [
    "If the proportion of simulated statistics greater than or equal to the observed statistc is less than or equal to .05, then this is in favor of our alternative and we reject Emily's hypothesis. Otherwise, we do not have enough evidence against Emily's hypothesis. Note that this does **not** say that we accept Emily's hypothesis, but rather, that we just **fail to reject it**. \n",
    "\n",
    "This should help you make your own conclusions about Emily Rosa's experiment. \n",
    "\n",
    "Therapeutic touch fell out of use after this experiment, which was eventually accepted into one of the premier medical journals. TT practitioners hit back and accused Emily and her family of tampering with the results, while some claimed that Emily's bad spiritual mood towards therapeutic touch made it difficult to read her HEF. Whatever it may be, Emily's experiment is a classic example about how anyone, with the right resources, can test anything they want!\n",
    "\n",
    "Think to yourself and be prepared to talk with your learning assistant and TA about the following questions as you get checked off: \n",
    "\n",
    "1. Do we reject Emily's hypothesis, or fail to reject it? \n",
    "2. What does this mean in terms of Emily's experiment? Do the TT practitioners' answers follow an even chance model or is there something else at play? \n",
    "\n",
    "Lastly, make sure to run all the tests (the next cell has a shortcut for that), save your work, and run the submit cell before you leave lab to ensure your assignment gets graded! "
   ]
  },
  {
   "cell_type": "code",
   "execution_count": 28,
   "metadata": {},
   "outputs": [
    {
     "name": "stdout",
     "output_type": "stream",
     "text": [
      "~~~~~~~~~~~~~~~~~~~~~~~~~~~~~~~~~~~~~~~~~~~~~~~~~~~~~~~~~~~~~~~~~~~~~\n",
      "Running tests\n",
      "\n",
      "---------------------------------------------------------------------\n",
      "Test summary\n",
      "    Passed: 1\n",
      "    Failed: 0\n",
      "[ooooooooook] 100.0% passed\n",
      "\n",
      "~~~~~~~~~~~~~~~~~~~~~~~~~~~~~~~~~~~~~~~~~~~~~~~~~~~~~~~~~~~~~~~~~~~~~\n",
      "Running tests\n",
      "\n",
      "---------------------------------------------------------------------\n",
      "Test summary\n",
      "    Passed: 1\n",
      "    Failed: 0\n",
      "[ooooooooook] 100.0% passed\n",
      "\n",
      "~~~~~~~~~~~~~~~~~~~~~~~~~~~~~~~~~~~~~~~~~~~~~~~~~~~~~~~~~~~~~~~~~~~~~\n",
      "Running tests\n",
      "\n",
      "---------------------------------------------------------------------\n",
      "Test summary\n",
      "    Passed: 1\n",
      "    Failed: 0\n",
      "[ooooooooook] 100.0% passed\n",
      "\n",
      "~~~~~~~~~~~~~~~~~~~~~~~~~~~~~~~~~~~~~~~~~~~~~~~~~~~~~~~~~~~~~~~~~~~~~\n",
      "Running tests\n",
      "\n",
      "---------------------------------------------------------------------\n",
      "Test summary\n",
      "    Passed: 1\n",
      "    Failed: 0\n",
      "[ooooooooook] 100.0% passed\n",
      "\n",
      "~~~~~~~~~~~~~~~~~~~~~~~~~~~~~~~~~~~~~~~~~~~~~~~~~~~~~~~~~~~~~~~~~~~~~\n",
      "Running tests\n",
      "\n",
      "---------------------------------------------------------------------\n",
      "Test summary\n",
      "    Passed: 1\n",
      "    Failed: 0\n",
      "[ooooooooook] 100.0% passed\n",
      "\n",
      "~~~~~~~~~~~~~~~~~~~~~~~~~~~~~~~~~~~~~~~~~~~~~~~~~~~~~~~~~~~~~~~~~~~~~\n",
      "Running tests\n",
      "\n",
      "---------------------------------------------------------------------\n",
      "Test summary\n",
      "    Passed: 1\n",
      "    Failed: 0\n",
      "[ooooooooook] 100.0% passed\n",
      "\n",
      "~~~~~~~~~~~~~~~~~~~~~~~~~~~~~~~~~~~~~~~~~~~~~~~~~~~~~~~~~~~~~~~~~~~~~\n",
      "Running tests\n",
      "\n",
      "---------------------------------------------------------------------\n",
      "Test summary\n",
      "    Passed: 2\n",
      "    Failed: 0\n",
      "[ooooooooook] 100.0% passed\n",
      "\n"
     ]
    }
   ],
   "source": [
    "# For your convenience, you can run this cell to run all the tests at once!\n",
    "import os\n",
    "_ = [ok.grade(q[:-3]) for q in os.listdir(\"tests\") if q.startswith('q')]"
   ]
  },
  {
   "cell_type": "code",
   "execution_count": 29,
   "metadata": {},
   "outputs": [
    {
     "data": {
      "application/javascript": [
       "IPython.notebook.save_checkpoint();"
      ],
      "text/plain": [
       "<IPython.core.display.Javascript object>"
      ]
     },
     "metadata": {},
     "output_type": "display_data"
    },
    {
     "data": {
      "application/javascript": [
       "IPython.notebook.save_notebook();"
      ],
      "text/plain": [
       "<IPython.core.display.Javascript object>"
      ]
     },
     "metadata": {},
     "output_type": "display_data"
    },
    {
     "name": "stdout",
     "output_type": "stream",
     "text": [
      "Saving notebook... Saved 'lab06.ipynb'.\n",
      "Submit... 100% complete\n",
      "Submission successful for user: shivanijpatel@berkeley.edu\n",
      "URL: https://okpy.org/cal/data8/sp19/lab06/submissions/gZk37r\n",
      "\n"
     ]
    }
   ],
   "source": [
    "_ = ok.submit()"
   ]
  },
  {
   "cell_type": "code",
   "execution_count": null,
   "metadata": {},
   "outputs": [],
   "source": []
  }
 ],
 "metadata": {
  "celltoolbar": "Raw Cell Format",
  "kernelspec": {
   "display_name": "Python 3",
   "language": "python",
   "name": "python3"
  },
  "language_info": {
   "codemirror_mode": {
    "name": "ipython",
    "version": 3
   },
   "file_extension": ".py",
   "mimetype": "text/x-python",
   "name": "python",
   "nbconvert_exporter": "python",
   "pygments_lexer": "ipython3",
   "version": "3.6.7"
  }
 },
 "nbformat": 4,
 "nbformat_minor": 2
}
