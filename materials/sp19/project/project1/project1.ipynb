{
 "cells": [
  {
   "cell_type": "markdown",
   "metadata": {},
   "source": [
    "## World Progress"
   ]
  },
  {
   "cell_type": "markdown",
   "metadata": {},
   "source": [
    "In this project, you'll explore data from [Gapminder.org](http://gapminder.org), a website dedicated to providing a fact-based view of the world and how it has changed. That site includes several data visualizations and presentations, but also publishes the raw data that we will use in this project to recreate and extend some of their most famous visualizations.\n",
    "\n",
    "The Gapminder website collects data from many sources and compiles them into tables that describe many countries around the world. All of the data they aggregate are published in the [Systema Globalis](https://github.com/open-numbers/ddf--gapminder--systema_globalis/blob/master/README.md). Their goal is \"to compile all public statistics; Social, Economic and Environmental; into a comparable total dataset.\" All data sets in this project are copied directly from the Systema Globalis without any changes.\n",
    "\n",
    "This project is dedicated to [Hans Rosling](https://en.wikipedia.org/wiki/Hans_Rosling) (1948-2017), who championed the use of data to understand and prioritize global development challenges."
   ]
  },
  {
   "cell_type": "markdown",
   "metadata": {},
   "source": [
    "### Logistics\n",
    "\n",
    "**Deadline.** This project is due at 11:59pm on Friday 3/1. Projects will be accepted up to 2 days (48 hours) late; a project submitted less than 24 hours after the deadline will receive 2/3 credit, a project submitted between 24 and 48 hours after the deadline will receive 1/3 credit, and a project submitted 48 hours or more after the deadline will receive no credit. It's **much** better to be early than late, so start working now.\n",
    "\n",
    "**Checkpoint.** For full credit, you must also complete the first 8 questions and submit them by 11:59pm on Friday 2/22. You will have some lab time to work on these questions, but we recommend that you start the project before lab and leave time to finish the checkpoint afterward.\n",
    "\n",
    "**Partners.** You may work with one other partner; your partner must be from your assigned lab section. Only one of you is required to submit the project. On [okpy.org](http://okpy.org), the person who submits should also designate their partner so that both of you receive credit.\n",
    "\n",
    "**Rules.** Don't share your code with anybody but your partner. You are welcome to discuss questions with other students, but don't share the answers. The experience of solving the problems in this project will prepare you for exams (and life). If someone asks you for the answer, resist! Instead, you can demonstrate how you would solve a similar problem.\n",
    "\n",
    "**Support.** You are not alone! Come to office hours, post on Piazza, and talk to your classmates. If you want to ask about the details of your solution to a problem, make a private Piazza post and the staff will respond. If you're ever feeling overwhelmed or don't know how to make progress, email your TA or tutor for help. You can find contact information for the staff on the [course website](http://data8.org/sp19/staff.html).\n",
    "\n",
    "**Tests.** The tests that are given are **not comprehensive** and passing the tests for a question **does not** mean that you answered the question correctly. Tests usually only check that your table has the correct column labels. However, more tests will be applied to verify the correctness of your submission in order to assign your final score, so be careful and check your work! You might want to create your own checks along the way to see if your answers make sense. Additionally, before you submit, make sure that none of your cells take a very long time to run (several minutes).\n",
    "\n",
    "**Free Response Questions:** Make sure that you put the answers to the written questions in the indicated cell we provide. Check to make sure that you have a [Gradescope](http://gradescope.com) account, which is where the scores to the free response questions will be posted. If you do not, make sure to reach out to your assigned (u)GSI.\n",
    "\n",
    "**Advice.** Develop your answers incrementally. To perform a complicated table manipulation, break it up into steps, perform each step on a different line, give a new name to each result, and check that each intermediate result is what you expect. You can add any additional names or functions you want to the provided cells. Make sure that you are using distinct and meaningful variable names throughout the notebook. Along that line, **DO NOT** reuse the variable names that we use when we grade your answers. For example, in Question 1 of the Global Poverty section, we ask you to assign an answer to `latest`. Do not reassign the variable name `latest` to anything else in your notebook, otherwise there is the chance that our tests grade against what `latest` was reassigned to.\n",
    "\n",
    "You **never** have to use just one line in this project or any others. Use intermediate variables and multiple lines as much as you would like!  \n",
    "\n",
    "To get started, load `datascience`, `numpy`, `plots`, and `ok`."
   ]
  },
  {
   "cell_type": "code",
   "execution_count": 1,
   "metadata": {},
   "outputs": [
    {
     "name": "stdout",
     "output_type": "stream",
     "text": [
      "=====================================================================\n",
      "Assignment: World Progress\n",
      "OK, version v1.12.5\n",
      "=====================================================================\n",
      "\n"
     ]
    }
   ],
   "source": [
    "from datascience import *\n",
    "import numpy as np\n",
    "\n",
    "%matplotlib inline\n",
    "import matplotlib.pyplot as plots\n",
    "plots.style.use('fivethirtyeight')\n",
    "\n",
    "from client.api.notebook import Notebook\n",
    "ok = Notebook('project1.ok')"
   ]
  },
  {
   "cell_type": "markdown",
   "metadata": {},
   "source": [
    "Before continuing the assignment, select \"Save and Checkpoint\" in the File menu and then execute the submit cell below. The result will contain a link that you can use to check that your assignment has been submitted successfully. If you submit more than once before the deadline, we will only grade your final submission. If you mistakenly submit the wrong one, you can head to okpy.org and flag the correct version. There will be another submit cell at the end of the assignment when you finish!"
   ]
  },
  {
   "cell_type": "code",
   "execution_count": 2,
   "metadata": {},
   "outputs": [
    {
     "data": {
      "application/javascript": [
       "IPython.notebook.save_checkpoint();"
      ],
      "text/plain": [
       "<IPython.core.display.Javascript object>"
      ]
     },
     "metadata": {},
     "output_type": "display_data"
    },
    {
     "data": {
      "application/javascript": [
       "IPython.notebook.save_notebook();"
      ],
      "text/plain": [
       "<IPython.core.display.Javascript object>"
      ]
     },
     "metadata": {},
     "output_type": "display_data"
    },
    {
     "name": "stdout",
     "output_type": "stream",
     "text": [
      "Saving notebook... Saved 'project1.ipynb'.\n",
      "Submit... 100% complete\n",
      "Submission successful for user: shivanijpatel@berkeley.edu\n",
      "URL: https://okpy.org/cal/data8/sp19/project1/submissions/2xWgkj\n",
      "\n"
     ]
    }
   ],
   "source": [
    "_ = ok.submit()"
   ]
  },
  {
   "cell_type": "markdown",
   "metadata": {
    "deletable": false,
    "editable": false
   },
   "source": [
    "## 1. Global Population Growth\n"
   ]
  },
  {
   "cell_type": "markdown",
   "metadata": {
    "deletable": false,
    "editable": false
   },
   "source": [
    "The global population of humans reached 1 billion around 1800, 3 billion around 1960, and 7 billion around 2011. The potential impact of exponential population growth has concerned scientists, economists, and politicians alike.\n",
    "\n",
    "The UN Population Division estimates that the world population will likely continue to grow throughout the 21st century, but at a slower rate, perhaps reaching 11 billion by 2100. However, the UN does not rule out scenarios of more extreme growth.\n",
    "\n",
    "<a href=\"http://www.pewresearch.org/fact-tank/2015/06/08/scientists-more-worried-than-public-about-worlds-growing-population/ft_15-06-04_popcount/\"> \n",
    " <img src=\"pew_population_projection.png\"/> \n",
    "</a>\n",
    "\n",
    "In this section, we will examine some of the factors that influence population growth and how they are changing around the world.\n",
    "\n",
    "The first table we will consider is the total population of each country over time. Run the cell below."
   ]
  },
  {
   "cell_type": "code",
   "execution_count": 42,
   "metadata": {
    "deletable": false,
    "editable": false
   },
   "outputs": [
    {
     "data": {
      "text/html": [
       "<table border=\"1\" class=\"dataframe\">\n",
       "    <thead>\n",
       "        <tr>\n",
       "            <th>geo</th> <th>time</th> <th>population_total</th>\n",
       "        </tr>\n",
       "    </thead>\n",
       "    <tbody>\n",
       "        <tr>\n",
       "            <td>abw </td> <td>1800</td> <td>19286           </td>\n",
       "        </tr>\n",
       "        <tr>\n",
       "            <td>abw </td> <td>1801</td> <td>19286           </td>\n",
       "        </tr>\n",
       "        <tr>\n",
       "            <td>abw </td> <td>1802</td> <td>19286           </td>\n",
       "        </tr>\n",
       "    </tbody>\n",
       "</table>\n",
       "<p>... (87792 rows omitted)</p>"
      ],
      "text/plain": [
       "<IPython.core.display.HTML object>"
      ]
     },
     "metadata": {},
     "output_type": "display_data"
    }
   ],
   "source": [
    "population = Table.read_table('population.csv')\n",
    "population.show(3)"
   ]
  },
  {
   "cell_type": "markdown",
   "metadata": {},
   "source": [
    "**Note:** The population csv file can also be found [here](https://github.com/open-numbers/ddf--gapminder--systema_globalis/raw/master/ddf--datapoints--population_total--by--geo--time.csv). The data for this project was downloaded in February 2017."
   ]
  },
  {
   "cell_type": "markdown",
   "metadata": {
    "deletable": false,
    "editable": false
   },
   "source": [
    "### Bangladesh\n",
    "\n",
    "In the `population` table, the `geo` column contains three-letter codes established by the [International Organization for Standardization](https://en.wikipedia.org/wiki/International_Organization_for_Standardization) (ISO) in the [Alpha-3](https://en.wikipedia.org/wiki/ISO_3166-1_alpha-3#Current_codes) standard. We will begin by taking a close look at Bangladesh. Inspect the standard to find the 3-letter code for Bangladesh."
   ]
  },
  {
   "cell_type": "markdown",
   "metadata": {
    "deletable": false,
    "editable": false
   },
   "source": [
    "**Question 1.** Create a table called `b_pop` that has two columns labeled `time` and `population_total`. The first column should contain the years from 1970 through 2015 (including both 1970 and 2015) and the second should contain the population of Bangladesh in each of those years."
   ]
  },
  {
   "cell_type": "code",
   "execution_count": 43,
   "metadata": {
    "deletable": false
   },
   "outputs": [
    {
     "data": {
      "text/html": [
       "<table border=\"1\" class=\"dataframe\">\n",
       "    <thead>\n",
       "        <tr>\n",
       "            <th>time</th> <th>population_total</th>\n",
       "        </tr>\n",
       "    </thead>\n",
       "    <tbody>\n",
       "        <tr>\n",
       "            <td>1970</td> <td>65048701        </td>\n",
       "        </tr>\n",
       "        <tr>\n",
       "            <td>1971</td> <td>66417450        </td>\n",
       "        </tr>\n",
       "        <tr>\n",
       "            <td>1972</td> <td>67578486        </td>\n",
       "        </tr>\n",
       "        <tr>\n",
       "            <td>1973</td> <td>68658472        </td>\n",
       "        </tr>\n",
       "        <tr>\n",
       "            <td>1974</td> <td>69837960        </td>\n",
       "        </tr>\n",
       "        <tr>\n",
       "            <td>1975</td> <td>71247153        </td>\n",
       "        </tr>\n",
       "        <tr>\n",
       "            <td>1976</td> <td>72930206        </td>\n",
       "        </tr>\n",
       "        <tr>\n",
       "            <td>1977</td> <td>74848466        </td>\n",
       "        </tr>\n",
       "        <tr>\n",
       "            <td>1978</td> <td>76948378        </td>\n",
       "        </tr>\n",
       "        <tr>\n",
       "            <td>1979</td> <td>79141947        </td>\n",
       "        </tr>\n",
       "    </tbody>\n",
       "</table>\n",
       "<p>... (36 rows omitted)</p>"
      ],
      "text/plain": [
       "time | population_total\n",
       "1970 | 65048701\n",
       "1971 | 66417450\n",
       "1972 | 67578486\n",
       "1973 | 68658472\n",
       "1974 | 69837960\n",
       "1975 | 71247153\n",
       "1976 | 72930206\n",
       "1977 | 74848466\n",
       "1978 | 76948378\n",
       "1979 | 79141947\n",
       "... (36 rows omitted)"
      ]
     },
     "execution_count": 43,
     "metadata": {},
     "output_type": "execute_result"
    }
   ],
   "source": [
    "b_pop = population.where('geo', 'bgd').where('time', are.between(1970,2016)).drop('geo')\n",
    "b_pop"
   ]
  },
  {
   "cell_type": "code",
   "execution_count": 44,
   "metadata": {
    "deletable": false,
    "editable": false,
    "scrolled": false
   },
   "outputs": [
    {
     "name": "stdout",
     "output_type": "stream",
     "text": [
      "~~~~~~~~~~~~~~~~~~~~~~~~~~~~~~~~~~~~~~~~~~~~~~~~~~~~~~~~~~~~~~~~~~~~~\n",
      "Running tests\n",
      "\n",
      "---------------------------------------------------------------------\n",
      "Test summary\n",
      "    Passed: 3\n",
      "    Failed: 0\n",
      "[ooooooooook] 100.0% passed\n",
      "\n"
     ]
    }
   ],
   "source": [
    "_ = ok.grade('q1_1')"
   ]
  },
  {
   "cell_type": "markdown",
   "metadata": {
    "deletable": false,
    "editable": false
   },
   "source": [
    "Run the following cell to create a table called `b_five` that has the population of Bangladesh every five years. At a glance, it appears that the population of Bangladesh has been growing quickly indeed!"
   ]
  },
  {
   "cell_type": "code",
   "execution_count": 45,
   "metadata": {
    "deletable": false,
    "editable": false
   },
   "outputs": [
    {
     "data": {
      "text/html": [
       "<table border=\"1\" class=\"dataframe\">\n",
       "    <thead>\n",
       "        <tr>\n",
       "            <th>time</th> <th>population_total</th>\n",
       "        </tr>\n",
       "    </thead>\n",
       "    <tbody>\n",
       "        <tr>\n",
       "            <td>1970</td> <td>65,048,701      </td>\n",
       "        </tr>\n",
       "        <tr>\n",
       "            <td>1975</td> <td>71,247,153      </td>\n",
       "        </tr>\n",
       "        <tr>\n",
       "            <td>1980</td> <td>81,364,176      </td>\n",
       "        </tr>\n",
       "        <tr>\n",
       "            <td>1985</td> <td>93,015,182      </td>\n",
       "        </tr>\n",
       "        <tr>\n",
       "            <td>1990</td> <td>105,983,136     </td>\n",
       "        </tr>\n",
       "        <tr>\n",
       "            <td>1995</td> <td>118,427,768     </td>\n",
       "        </tr>\n",
       "        <tr>\n",
       "            <td>2000</td> <td>131,280,739     </td>\n",
       "        </tr>\n",
       "        <tr>\n",
       "            <td>2005</td> <td>142,929,979     </td>\n",
       "        </tr>\n",
       "        <tr>\n",
       "            <td>2010</td> <td>151,616,777     </td>\n",
       "        </tr>\n",
       "        <tr>\n",
       "            <td>2015</td> <td>160,995,642     </td>\n",
       "        </tr>\n",
       "    </tbody>\n",
       "</table>"
      ],
      "text/plain": [
       "time | population_total\n",
       "1970 | 65,048,701\n",
       "1975 | 71,247,153\n",
       "1980 | 81,364,176\n",
       "1985 | 93,015,182\n",
       "1990 | 105,983,136\n",
       "1995 | 118,427,768\n",
       "2000 | 131,280,739\n",
       "2005 | 142,929,979\n",
       "2010 | 151,616,777\n",
       "2015 | 160,995,642"
      ]
     },
     "execution_count": 45,
     "metadata": {},
     "output_type": "execute_result"
    }
   ],
   "source": [
    "b_pop.set_format('population_total', NumberFormatter)\n",
    "\n",
    "fives = np.arange(1970, 2016, 5) # 1970, 1975, 1980, ...\n",
    "b_five = b_pop.sort('time').where('time', are.contained_in(fives))\n",
    "b_five"
   ]
  },
  {
   "cell_type": "markdown",
   "metadata": {
    "deletable": false,
    "editable": false
   },
   "source": [
    "**Question 2.** Assign `b_1970_through_2010` to a table that has the same columns as `b_five` and has one row for every five years from 1970 through 2010 (but not 2015). Then, use that table to assign `initial` to an array that contains the population for every five year interval from 1970 to 2010. Finally, assign `changed` to an array that contains the population for every five year interval from 1975 to 2015.\n",
    "\n",
    "*Hint*: You may find the `exclude` method to be helpful ([Docs](http://data8.org/datascience/_autosummary/datascience.tables.Table.exclude.html))."
   ]
  },
  {
   "cell_type": "code",
   "execution_count": 46,
   "metadata": {
    "deletable": false
   },
   "outputs": [
    {
     "data": {
      "text/plain": [
       "array([ 71247153,  81364176,  93015182, 105983136, 118427768, 131280739,\n",
       "       142929979, 151616777, 160995642])"
      ]
     },
     "execution_count": 46,
     "metadata": {},
     "output_type": "execute_result"
    }
   ],
   "source": [
    "fives = np.arange(1970,2011,5)\n",
    "b_1970_through_2010 = b_pop.sort('time').where('time', are.contained_in(fives))\n",
    "initial = b_1970_through_2010.column('population_total')\n",
    "fixed_fives = np.arange(1975, 2016, 5)\n",
    "b_1975_through_2015 = b_pop.sort('time').where('time', are.contained_in(fixed_fives))\n",
    "changed = b_1975_through_2015.column('population_total')\n",
    "changed"
   ]
  },
  {
   "cell_type": "markdown",
   "metadata": {
    "deletable": false,
    "editable": false
   },
   "source": [
    "We have provided the code below that uses `b_1970_through_2010`, `initial`, and `changed` in order to add a column to the table called `annual_growth`. Don't worry about the calculation of the growth rates; run the test below to test your solution.\n",
    "\n",
    "If you are interested in how we came up with the formula for growth rates, consult the [growth rates](https://www.inferentialthinking.com/chapters/03/2/1/growth) section of the textbook."
   ]
  },
  {
   "cell_type": "code",
   "execution_count": 47,
   "metadata": {
    "deletable": false,
    "editable": false
   },
   "outputs": [
    {
     "data": {
      "text/html": [
       "<table border=\"1\" class=\"dataframe\">\n",
       "    <thead>\n",
       "        <tr>\n",
       "            <th>time</th> <th>population_total</th> <th>annual_growth</th>\n",
       "        </tr>\n",
       "    </thead>\n",
       "    <tbody>\n",
       "        <tr>\n",
       "            <td>1970</td> <td>65,048,701      </td> <td>1.84%        </td>\n",
       "        </tr>\n",
       "        <tr>\n",
       "            <td>1975</td> <td>71,247,153      </td> <td>2.69%        </td>\n",
       "        </tr>\n",
       "        <tr>\n",
       "            <td>1980</td> <td>81,364,176      </td> <td>2.71%        </td>\n",
       "        </tr>\n",
       "        <tr>\n",
       "            <td>1985</td> <td>93,015,182      </td> <td>2.64%        </td>\n",
       "        </tr>\n",
       "        <tr>\n",
       "            <td>1990</td> <td>105,983,136     </td> <td>2.25%        </td>\n",
       "        </tr>\n",
       "        <tr>\n",
       "            <td>1995</td> <td>118,427,768     </td> <td>2.08%        </td>\n",
       "        </tr>\n",
       "        <tr>\n",
       "            <td>2000</td> <td>131,280,739     </td> <td>1.71%        </td>\n",
       "        </tr>\n",
       "        <tr>\n",
       "            <td>2005</td> <td>142,929,979     </td> <td>1.19%        </td>\n",
       "        </tr>\n",
       "        <tr>\n",
       "            <td>2010</td> <td>151,616,777     </td> <td>1.21%        </td>\n",
       "        </tr>\n",
       "    </tbody>\n",
       "</table>"
      ],
      "text/plain": [
       "time | population_total | annual_growth\n",
       "1970 | 65,048,701       | 1.84%\n",
       "1975 | 71,247,153       | 2.69%\n",
       "1980 | 81,364,176       | 2.71%\n",
       "1985 | 93,015,182       | 2.64%\n",
       "1990 | 105,983,136      | 2.25%\n",
       "1995 | 118,427,768      | 2.08%\n",
       "2000 | 131,280,739      | 1.71%\n",
       "2005 | 142,929,979      | 1.19%\n",
       "2010 | 151,616,777      | 1.21%"
      ]
     },
     "execution_count": 47,
     "metadata": {},
     "output_type": "execute_result"
    }
   ],
   "source": [
    "b_five_growth = b_1970_through_2010.with_column('annual_growth', (changed/initial)**0.2-1)\n",
    "b_five_growth.set_format('annual_growth', PercentFormatter)"
   ]
  },
  {
   "cell_type": "code",
   "execution_count": 48,
   "metadata": {
    "deletable": false,
    "editable": false
   },
   "outputs": [
    {
     "name": "stdout",
     "output_type": "stream",
     "text": [
      "~~~~~~~~~~~~~~~~~~~~~~~~~~~~~~~~~~~~~~~~~~~~~~~~~~~~~~~~~~~~~~~~~~~~~\n",
      "Running tests\n",
      "\n",
      "---------------------------------------------------------------------\n",
      "Test summary\n",
      "    Passed: 4\n",
      "    Failed: 0\n",
      "[ooooooooook] 100.0% passed\n",
      "\n"
     ]
    }
   ],
   "source": [
    "_ = ok.grade('q1_2')"
   ]
  },
  {
   "cell_type": "markdown",
   "metadata": {
    "deletable": false,
    "editable": false
   },
   "source": [
    "While the population has grown every five years since 1970, the annual growth rate decreased dramatically from 1985 to 2005. Let's look at some other information in order to develop a possible explanation. Run the next cell to load three additional tables of measurements about countries over time."
   ]
  },
  {
   "cell_type": "code",
   "execution_count": 49,
   "metadata": {
    "deletable": false,
    "editable": false
   },
   "outputs": [],
   "source": [
    "life_expectancy = Table.read_table('life_expectancy.csv')\n",
    "child_mortality = Table.read_table('child_mortality.csv').relabel(2, 'child_mortality_under_5_per_1000_born')\n",
    "fertility = Table.read_table('fertility.csv')"
   ]
  },
  {
   "cell_type": "markdown",
   "metadata": {
    "deletable": false,
    "editable": false
   },
   "source": [
    "The `life_expectancy` table contains a statistic that is often used to measure how long people live, called *life expectancy at birth*. This number, for a country in a given year, [does not measure how long babies born in that year are expected to live](http://blogs.worldbank.org/opendata/what-does-life-expectancy-birth-really-mean). Instead, it measures how long someone would live, on average, if the *mortality conditions* in that year persisted throughout their lifetime. These \"mortality conditions\" describe what fraction of people at each age survived the year. So, it is a way of measuring the proportion of people that are staying alive, aggregated over different age groups in the population."
   ]
  },
  {
   "cell_type": "markdown",
   "metadata": {},
   "source": [
    "Run the following cells below to see `life_expectancy`, `child_mortality`, and `fertility`. Refer back to these tables as they will be helpful for answering further questions!"
   ]
  },
  {
   "cell_type": "code",
   "execution_count": 50,
   "metadata": {},
   "outputs": [
    {
     "data": {
      "text/html": [
       "<table border=\"1\" class=\"dataframe\">\n",
       "    <thead>\n",
       "        <tr>\n",
       "            <th>geo</th> <th>time</th> <th>life_expectancy_years</th>\n",
       "        </tr>\n",
       "    </thead>\n",
       "    <tbody>\n",
       "        <tr>\n",
       "            <td>afg </td> <td>1800</td> <td>28.21                </td>\n",
       "        </tr>\n",
       "        <tr>\n",
       "            <td>afg </td> <td>1801</td> <td>28.2                 </td>\n",
       "        </tr>\n",
       "        <tr>\n",
       "            <td>afg </td> <td>1802</td> <td>28.19                </td>\n",
       "        </tr>\n",
       "        <tr>\n",
       "            <td>afg </td> <td>1803</td> <td>28.18                </td>\n",
       "        </tr>\n",
       "        <tr>\n",
       "            <td>afg </td> <td>1804</td> <td>28.17                </td>\n",
       "        </tr>\n",
       "        <tr>\n",
       "            <td>afg </td> <td>1805</td> <td>28.16                </td>\n",
       "        </tr>\n",
       "        <tr>\n",
       "            <td>afg </td> <td>1806</td> <td>28.15                </td>\n",
       "        </tr>\n",
       "        <tr>\n",
       "            <td>afg </td> <td>1807</td> <td>28.14                </td>\n",
       "        </tr>\n",
       "        <tr>\n",
       "            <td>afg </td> <td>1808</td> <td>28.13                </td>\n",
       "        </tr>\n",
       "        <tr>\n",
       "            <td>afg </td> <td>1809</td> <td>28.12                </td>\n",
       "        </tr>\n",
       "    </tbody>\n",
       "</table>\n",
       "<p>... (43847 rows omitted)</p>"
      ],
      "text/plain": [
       "geo  | time | life_expectancy_years\n",
       "afg  | 1800 | 28.21\n",
       "afg  | 1801 | 28.2\n",
       "afg  | 1802 | 28.19\n",
       "afg  | 1803 | 28.18\n",
       "afg  | 1804 | 28.17\n",
       "afg  | 1805 | 28.16\n",
       "afg  | 1806 | 28.15\n",
       "afg  | 1807 | 28.14\n",
       "afg  | 1808 | 28.13\n",
       "afg  | 1809 | 28.12\n",
       "... (43847 rows omitted)"
      ]
     },
     "execution_count": 50,
     "metadata": {},
     "output_type": "execute_result"
    }
   ],
   "source": [
    "life_expectancy"
   ]
  },
  {
   "cell_type": "code",
   "execution_count": 51,
   "metadata": {},
   "outputs": [
    {
     "data": {
      "text/html": [
       "<table border=\"1\" class=\"dataframe\">\n",
       "    <thead>\n",
       "        <tr>\n",
       "            <th>geo</th> <th>time</th> <th>child_mortality_under_5_per_1000_born</th>\n",
       "        </tr>\n",
       "    </thead>\n",
       "    <tbody>\n",
       "        <tr>\n",
       "            <td>afg </td> <td>1800</td> <td>468.6                                </td>\n",
       "        </tr>\n",
       "        <tr>\n",
       "            <td>afg </td> <td>1801</td> <td>468.6                                </td>\n",
       "        </tr>\n",
       "        <tr>\n",
       "            <td>afg </td> <td>1802</td> <td>468.6                                </td>\n",
       "        </tr>\n",
       "        <tr>\n",
       "            <td>afg </td> <td>1803</td> <td>468.6                                </td>\n",
       "        </tr>\n",
       "        <tr>\n",
       "            <td>afg </td> <td>1804</td> <td>468.6                                </td>\n",
       "        </tr>\n",
       "        <tr>\n",
       "            <td>afg </td> <td>1805</td> <td>468.6                                </td>\n",
       "        </tr>\n",
       "        <tr>\n",
       "            <td>afg </td> <td>1806</td> <td>470                                  </td>\n",
       "        </tr>\n",
       "        <tr>\n",
       "            <td>afg </td> <td>1807</td> <td>470                                  </td>\n",
       "        </tr>\n",
       "        <tr>\n",
       "            <td>afg </td> <td>1808</td> <td>470                                  </td>\n",
       "        </tr>\n",
       "        <tr>\n",
       "            <td>afg </td> <td>1809</td> <td>470                                  </td>\n",
       "        </tr>\n",
       "    </tbody>\n",
       "</table>\n",
       "<p>... (40746 rows omitted)</p>"
      ],
      "text/plain": [
       "geo  | time | child_mortality_under_5_per_1000_born\n",
       "afg  | 1800 | 468.6\n",
       "afg  | 1801 | 468.6\n",
       "afg  | 1802 | 468.6\n",
       "afg  | 1803 | 468.6\n",
       "afg  | 1804 | 468.6\n",
       "afg  | 1805 | 468.6\n",
       "afg  | 1806 | 470\n",
       "afg  | 1807 | 470\n",
       "afg  | 1808 | 470\n",
       "afg  | 1809 | 470\n",
       "... (40746 rows omitted)"
      ]
     },
     "execution_count": 51,
     "metadata": {},
     "output_type": "execute_result"
    }
   ],
   "source": [
    "child_mortality"
   ]
  },
  {
   "cell_type": "code",
   "execution_count": 52,
   "metadata": {},
   "outputs": [
    {
     "data": {
      "text/html": [
       "<table border=\"1\" class=\"dataframe\">\n",
       "    <thead>\n",
       "        <tr>\n",
       "            <th>geo</th> <th>time</th> <th>children_per_woman_total_fertility</th>\n",
       "        </tr>\n",
       "    </thead>\n",
       "    <tbody>\n",
       "        <tr>\n",
       "            <td>afg </td> <td>1800</td> <td>7                                 </td>\n",
       "        </tr>\n",
       "        <tr>\n",
       "            <td>afg </td> <td>1801</td> <td>7                                 </td>\n",
       "        </tr>\n",
       "        <tr>\n",
       "            <td>afg </td> <td>1802</td> <td>7                                 </td>\n",
       "        </tr>\n",
       "        <tr>\n",
       "            <td>afg </td> <td>1803</td> <td>7                                 </td>\n",
       "        </tr>\n",
       "        <tr>\n",
       "            <td>afg </td> <td>1804</td> <td>7                                 </td>\n",
       "        </tr>\n",
       "        <tr>\n",
       "            <td>afg </td> <td>1805</td> <td>7                                 </td>\n",
       "        </tr>\n",
       "        <tr>\n",
       "            <td>afg </td> <td>1806</td> <td>7                                 </td>\n",
       "        </tr>\n",
       "        <tr>\n",
       "            <td>afg </td> <td>1807</td> <td>7                                 </td>\n",
       "        </tr>\n",
       "        <tr>\n",
       "            <td>afg </td> <td>1808</td> <td>7                                 </td>\n",
       "        </tr>\n",
       "        <tr>\n",
       "            <td>afg </td> <td>1809</td> <td>7                                 </td>\n",
       "        </tr>\n",
       "    </tbody>\n",
       "</table>\n",
       "<p>... (43402 rows omitted)</p>"
      ],
      "text/plain": [
       "geo  | time | children_per_woman_total_fertility\n",
       "afg  | 1800 | 7\n",
       "afg  | 1801 | 7\n",
       "afg  | 1802 | 7\n",
       "afg  | 1803 | 7\n",
       "afg  | 1804 | 7\n",
       "afg  | 1805 | 7\n",
       "afg  | 1806 | 7\n",
       "afg  | 1807 | 7\n",
       "afg  | 1808 | 7\n",
       "afg  | 1809 | 7\n",
       "... (43402 rows omitted)"
      ]
     },
     "execution_count": 52,
     "metadata": {},
     "output_type": "execute_result"
    }
   ],
   "source": [
    "fertility"
   ]
  },
  {
   "cell_type": "markdown",
   "metadata": {
    "deletable": false,
    "editable": false
   },
   "source": [
    "**Question 3.** Perhaps population is growing more slowly because people aren't living as long. Use the `life_expectancy` table to draw a line graph with the years 1970 and later on the horizontal axis that shows how the *life expectancy at birth* has changed in Bangladesh."
   ]
  },
  {
   "cell_type": "code",
   "execution_count": 53,
   "metadata": {
    "deletable": false,
    "manual_grade": true,
    "manual_problem_id": "global_pop_3"
   },
   "outputs": [
    {
     "data": {
      "image/png": "[encoded data removed]",
      "text/plain": [
       "<Figure size 432x288 with 1 Axes>"
      ]
     },
     "metadata": {},
     "output_type": "display_data"
    }
   ],
   "source": [
    "life_expectancy_bgd = life_expectancy.where('geo', 'bgd')\n",
    "yr_1970_and_beyond = life_expectancy_bgd.where('time', are.above(1970))\n",
    "yr_1970_and_beyond.plot('time', 'life_expectancy_years')"
   ]
  },
  {
   "cell_type": "markdown",
   "metadata": {
    "deletable": false,
    "editable": false
   },
   "source": [
    "**Question 4.** Assuming everything else stays the same, does the graph above help directly explain why the population growth rate decreased from 1985 to 2010 in Bangladesh? Why or why not? What happened in Bangladesh in 1991, and does that event explain the change in population growth rate?"
   ]
  },
  {
   "cell_type": "markdown",
   "metadata": {
    "collapsed": true,
    "deletable": false,
    "manual_grade": true,
    "manual_problem_id": "global_pop_4"
   },
   "source": [
    "The population growth rate can be explained from the graph above. This shows specifically the life expectancy in years for any given person which is associated by the living population. We can conclude from this graph that the life expectancy has increased consistanly as the years has passed also pointing to more poeple being born. In 1991, Bangladesh had one of the most deadlis cyclones on record, killing 138,866 poeple and leaving almost 10 million people homeless. This affects the life_expectancy because many people died. This can also be an explaination for change in population growth."
   ]
  },
  {
   "cell_type": "markdown",
   "metadata": {
    "deletable": false,
    "editable": false
   },
   "source": [
    "The `fertility` table contains a statistic that is often used to measure how many babies are being born, the *total fertility rate*. This number describes the [number of children a woman would have in her lifetime](https://www.measureevaluation.org/prh/rh_indicators/specific/fertility/total-fertility-rate), on average, if the current rates of birth by age of the mother persisted throughout her child bearing years, assuming she survived through age 49. "
   ]
  },
  {
   "cell_type": "markdown",
   "metadata": {
    "deletable": false
   },
   "source": [
    "**Question 5.** Write a function `fertility_over_time` that takes the Alpha-3 code of a `country` and a `start` year. It returns a two-column table with labels `Year` and `Children per woman` that can be used to generate a line chart of the country's fertility rate each year, starting at the `start` year. The plot should include the `start` year and all later years that appear in the `fertility` table. \n",
    "\n",
    "Then, in the next cell, call your `fertility_over_time` function on the Alpha-3 code for Bangladesh and the year 1970 in order to plot how Bangladesh's fertility rate has changed since 1970. Note that the function `fertility_over_time` should not return the plot itself. **The expression that draws the line plot is provided for you; please don't change it.**"
   ]
  },
  {
   "cell_type": "code",
   "execution_count": 54,
   "metadata": {
    "scrolled": true
   },
   "outputs": [
    {
     "data": {
      "text/html": [
       "<table border=\"1\" class=\"dataframe\">\n",
       "    <thead>\n",
       "        <tr>\n",
       "            <th>geo</th> <th>time</th> <th>children_per_woman_total_fertility</th>\n",
       "        </tr>\n",
       "    </thead>\n",
       "    <tbody>\n",
       "        <tr>\n",
       "            <td>afg </td> <td>1800</td> <td>7                                 </td>\n",
       "        </tr>\n",
       "        <tr>\n",
       "            <td>afg </td> <td>1801</td> <td>7                                 </td>\n",
       "        </tr>\n",
       "        <tr>\n",
       "            <td>afg </td> <td>1802</td> <td>7                                 </td>\n",
       "        </tr>\n",
       "        <tr>\n",
       "            <td>afg </td> <td>1803</td> <td>7                                 </td>\n",
       "        </tr>\n",
       "        <tr>\n",
       "            <td>afg </td> <td>1804</td> <td>7                                 </td>\n",
       "        </tr>\n",
       "        <tr>\n",
       "            <td>afg </td> <td>1805</td> <td>7                                 </td>\n",
       "        </tr>\n",
       "        <tr>\n",
       "            <td>afg </td> <td>1806</td> <td>7                                 </td>\n",
       "        </tr>\n",
       "        <tr>\n",
       "            <td>afg </td> <td>1807</td> <td>7                                 </td>\n",
       "        </tr>\n",
       "        <tr>\n",
       "            <td>afg </td> <td>1808</td> <td>7                                 </td>\n",
       "        </tr>\n",
       "        <tr>\n",
       "            <td>afg </td> <td>1809</td> <td>7                                 </td>\n",
       "        </tr>\n",
       "    </tbody>\n",
       "</table>\n",
       "<p>... (43402 rows omitted)</p>"
      ],
      "text/plain": [
       "geo  | time | children_per_woman_total_fertility\n",
       "afg  | 1800 | 7\n",
       "afg  | 1801 | 7\n",
       "afg  | 1802 | 7\n",
       "afg  | 1803 | 7\n",
       "afg  | 1804 | 7\n",
       "afg  | 1805 | 7\n",
       "afg  | 1806 | 7\n",
       "afg  | 1807 | 7\n",
       "afg  | 1808 | 7\n",
       "afg  | 1809 | 7\n",
       "... (43402 rows omitted)"
      ]
     },
     "execution_count": 54,
     "metadata": {},
     "output_type": "execute_result"
    }
   ],
   "source": [
    "fertility"
   ]
  },
  {
   "cell_type": "code",
   "execution_count": 55,
   "metadata": {},
   "outputs": [],
   "source": [
    "def fertility_over_time(country, start):\n",
    "    country_table = (fertility.where('geo', are.equal_to(country))).where('time', are.above_or_equal_to(start))\n",
    "    return country_table.drop('geo').relabel('time', 'Year').relabel('children_per_woman_total_fertility', 'Children per woman')"
   ]
  },
  {
   "cell_type": "code",
   "execution_count": null,
   "metadata": {
    "deletable": false
   },
   "outputs": [],
   "source": []
  },
  {
   "cell_type": "code",
   "execution_count": 56,
   "metadata": {
    "deletable": false
   },
   "outputs": [
    {
     "data": {
      "image/png": "[encoded data removed]",
      "text/plain": [
       "<Figure size 432x288 with 1 Axes>"
      ]
     },
     "metadata": {},
     "output_type": "display_data"
    }
   ],
   "source": [
    "bangladesh_code = 'bgd'\n",
    "fertility_over_time(bangladesh_code, 1970).plot(0, 1) # You should *not* change this line."
   ]
  },
  {
   "cell_type": "code",
   "execution_count": 57,
   "metadata": {
    "deletable": false,
    "editable": false
   },
   "outputs": [
    {
     "name": "stdout",
     "output_type": "stream",
     "text": [
      "~~~~~~~~~~~~~~~~~~~~~~~~~~~~~~~~~~~~~~~~~~~~~~~~~~~~~~~~~~~~~~~~~~~~~\n",
      "Running tests\n",
      "\n",
      "---------------------------------------------------------------------\n",
      "Test summary\n",
      "    Passed: 2\n",
      "    Failed: 0\n",
      "[ooooooooook] 100.0% passed\n",
      "\n"
     ]
    }
   ],
   "source": [
    "_ = ok.grade('q1_5')"
   ]
  },
  {
   "cell_type": "markdown",
   "metadata": {
    "deletable": false
   },
   "source": [
    "**Question 6.** Assuming everything else is constant, does the graph above help directly explain why the population growth rate decreased from 1985 to 2010 in Bangladesh? Why or why not?"
   ]
  },
  {
   "cell_type": "markdown",
   "metadata": {
    "deletable": false,
    "manual_grade": true,
    "manual_problem_id": "global_pop_6"
   },
   "source": [
    "This does not show a decrease in population growth because this shows the decrease of children per woman. This does not contribute to the population growth."
   ]
  },
  {
   "cell_type": "markdown",
   "metadata": {
    "deletable": false,
    "editable": false
   },
   "source": [
    "It has been observed that lower fertility rates are often associated with lower child mortality rates. The link has been attributed to family planning: if parents can expect that their children will all survive into adulthood, then they will choose to have fewer children. We can see if this association is evident in Bangladesh by plotting the relationship between total fertility rate and [child mortality rate per 1000 children](https://en.wikipedia.org/wiki/Child_mortality)."
   ]
  },
  {
   "cell_type": "code",
   "execution_count": 58,
   "metadata": {},
   "outputs": [
    {
     "data": {
      "text/html": [
       "<table border=\"1\" class=\"dataframe\">\n",
       "    <thead>\n",
       "        <tr>\n",
       "            <th>geo</th> <th>time</th> <th>children_per_woman_total_fertility</th>\n",
       "        </tr>\n",
       "    </thead>\n",
       "    <tbody>\n",
       "        <tr>\n",
       "            <td>afg </td> <td>1800</td> <td>7                                 </td>\n",
       "        </tr>\n",
       "        <tr>\n",
       "            <td>afg </td> <td>1801</td> <td>7                                 </td>\n",
       "        </tr>\n",
       "        <tr>\n",
       "            <td>afg </td> <td>1802</td> <td>7                                 </td>\n",
       "        </tr>\n",
       "        <tr>\n",
       "            <td>afg </td> <td>1803</td> <td>7                                 </td>\n",
       "        </tr>\n",
       "        <tr>\n",
       "            <td>afg </td> <td>1804</td> <td>7                                 </td>\n",
       "        </tr>\n",
       "        <tr>\n",
       "            <td>afg </td> <td>1805</td> <td>7                                 </td>\n",
       "        </tr>\n",
       "        <tr>\n",
       "            <td>afg </td> <td>1806</td> <td>7                                 </td>\n",
       "        </tr>\n",
       "        <tr>\n",
       "            <td>afg </td> <td>1807</td> <td>7                                 </td>\n",
       "        </tr>\n",
       "        <tr>\n",
       "            <td>afg </td> <td>1808</td> <td>7                                 </td>\n",
       "        </tr>\n",
       "        <tr>\n",
       "            <td>afg </td> <td>1809</td> <td>7                                 </td>\n",
       "        </tr>\n",
       "    </tbody>\n",
       "</table>\n",
       "<p>... (43402 rows omitted)</p>"
      ],
      "text/plain": [
       "geo  | time | children_per_woman_total_fertility\n",
       "afg  | 1800 | 7\n",
       "afg  | 1801 | 7\n",
       "afg  | 1802 | 7\n",
       "afg  | 1803 | 7\n",
       "afg  | 1804 | 7\n",
       "afg  | 1805 | 7\n",
       "afg  | 1806 | 7\n",
       "afg  | 1807 | 7\n",
       "afg  | 1808 | 7\n",
       "afg  | 1809 | 7\n",
       "... (43402 rows omitted)"
      ]
     },
     "execution_count": 58,
     "metadata": {},
     "output_type": "execute_result"
    }
   ],
   "source": [
    "fertility"
   ]
  },
  {
   "cell_type": "code",
   "execution_count": 59,
   "metadata": {},
   "outputs": [
    {
     "data": {
      "text/html": [
       "<table border=\"1\" class=\"dataframe\">\n",
       "    <thead>\n",
       "        <tr>\n",
       "            <th>geo</th> <th>time</th> <th>child_mortality_under_5_per_1000_born</th>\n",
       "        </tr>\n",
       "    </thead>\n",
       "    <tbody>\n",
       "        <tr>\n",
       "            <td>afg </td> <td>1800</td> <td>468.6                                </td>\n",
       "        </tr>\n",
       "        <tr>\n",
       "            <td>afg </td> <td>1801</td> <td>468.6                                </td>\n",
       "        </tr>\n",
       "        <tr>\n",
       "            <td>afg </td> <td>1802</td> <td>468.6                                </td>\n",
       "        </tr>\n",
       "        <tr>\n",
       "            <td>afg </td> <td>1803</td> <td>468.6                                </td>\n",
       "        </tr>\n",
       "        <tr>\n",
       "            <td>afg </td> <td>1804</td> <td>468.6                                </td>\n",
       "        </tr>\n",
       "        <tr>\n",
       "            <td>afg </td> <td>1805</td> <td>468.6                                </td>\n",
       "        </tr>\n",
       "        <tr>\n",
       "            <td>afg </td> <td>1806</td> <td>470                                  </td>\n",
       "        </tr>\n",
       "        <tr>\n",
       "            <td>afg </td> <td>1807</td> <td>470                                  </td>\n",
       "        </tr>\n",
       "        <tr>\n",
       "            <td>afg </td> <td>1808</td> <td>470                                  </td>\n",
       "        </tr>\n",
       "        <tr>\n",
       "            <td>afg </td> <td>1809</td> <td>470                                  </td>\n",
       "        </tr>\n",
       "    </tbody>\n",
       "</table>\n",
       "<p>... (40746 rows omitted)</p>"
      ],
      "text/plain": [
       "geo  | time | child_mortality_under_5_per_1000_born\n",
       "afg  | 1800 | 468.6\n",
       "afg  | 1801 | 468.6\n",
       "afg  | 1802 | 468.6\n",
       "afg  | 1803 | 468.6\n",
       "afg  | 1804 | 468.6\n",
       "afg  | 1805 | 468.6\n",
       "afg  | 1806 | 470\n",
       "afg  | 1807 | 470\n",
       "afg  | 1808 | 470\n",
       "afg  | 1809 | 470\n",
       "... (40746 rows omitted)"
      ]
     },
     "execution_count": 59,
     "metadata": {},
     "output_type": "execute_result"
    }
   ],
   "source": [
    "child_mortality"
   ]
  },
  {
   "cell_type": "markdown",
   "metadata": {
    "deletable": false
   },
   "source": [
    "**Question 7.** Using both the `fertility` and `child_mortality` tables, draw a scatter diagram with one point for each year, starting with 1970, that has Bangladesh's total fertility on the horizontal axis and its child mortality on the vertical axis. \n",
    "\n",
    "**The expression that draws the scatter diagram is provided for you; please don't change it.** Instead, create a table called `post_1969_fertility_and_child_mortality` with the appropriate column labels and data in order to generate the chart correctly. Use the label `Children per woman` to describe total fertility and the label `Child deaths per 1000 born` to describe child mortality."
   ]
  },
  {
   "cell_type": "code",
   "execution_count": 60,
   "metadata": {
    "deletable": false
   },
   "outputs": [
    {
     "data": {
      "image/png": "[encoded data removed]",
      "text/plain": [
       "<Figure size 360x360 with 1 Axes>"
      ]
     },
     "metadata": {},
     "output_type": "display_data"
    }
   ],
   "source": [
    "bgd_fertility = fertility.where('geo', 'bgd').where('time', are.between(1970, 2016)).column('children_per_woman_total_fertility')\n",
    "bgd_child_mortality = child_mortality.where('geo', 'bgd').where('time', are.between(1970, 2016)).column('child_mortality_under_5_per_1000_born')\n",
    "post_1969_fertility_and_child_mortality = Table().with_column('Children per woman', bgd_fertility, 'Child deaths per 1000 born', bgd_child_mortality)\n",
    "\n",
    "post_1969_fertility_and_child_mortality.scatter('Children per woman', 'Child deaths per 1000 born') # You should *not* change this line.\n"
   ]
  },
  {
   "cell_type": "code",
   "execution_count": 61,
   "metadata": {
    "deletable": false,
    "editable": false
   },
   "outputs": [
    {
     "name": "stdout",
     "output_type": "stream",
     "text": [
      "~~~~~~~~~~~~~~~~~~~~~~~~~~~~~~~~~~~~~~~~~~~~~~~~~~~~~~~~~~~~~~~~~~~~~\n",
      "Running tests\n",
      "\n",
      "---------------------------------------------------------------------\n",
      "Test summary\n",
      "    Passed: 2\n",
      "    Failed: 0\n",
      "[ooooooooook] 100.0% passed\n",
      "\n"
     ]
    }
   ],
   "source": [
    "_ = ok.grade('q1_7')"
   ]
  },
  {
   "cell_type": "markdown",
   "metadata": {
    "deletable": false,
    "editable": false
   },
   "source": [
    "**Question 8.** In one or two sentences, describe the association (if any) that is illustrated by this scatter diagram. Does the diagram show that reduced child mortality causes parents to choose to have fewer children?"
   ]
  },
  {
   "cell_type": "markdown",
   "metadata": {
    "deletable": false,
    "manual_grade": true,
    "manual_problem_id": "global_pop_8"
   },
   "source": [
    "The association that is illustrated in this scatter diagram shows a positive correlation however this does not show a association between the two variables. Correlation does not show causation becuase there are many factors that can be attributed to child deaths."
   ]
  },
  {
   "cell_type": "markdown",
   "metadata": {
    "deletable": false,
    "editable": false
   },
   "source": [
    "### The World\n",
    "\n",
    "The change observed in Bangladesh since 1970 can also be observed in many other developing countries: health services improve, life expectancy increases, and child mortality decreases. At the same time, the fertility rate often plummets, and so the population growth rate decreases despite increasing longevity."
   ]
  },
  {
   "cell_type": "markdown",
   "metadata": {
    "deletable": false,
    "editable": false
   },
   "source": [
    "Run the cell below to generate two overlaid histograms, one for 1960 and one for 2010, that show the distributions of total fertility rates for these two years among all 201 countries in the `fertility` table."
   ]
  },
  {
   "cell_type": "code",
   "execution_count": 62,
   "metadata": {
    "deletable": false,
    "editable": false
   },
   "outputs": [
    {
     "data": {
      "image/png": "[encoded data removed]",
      "text/plain": [
       "<Figure size 432x288 with 1 Axes>"
      ]
     },
     "metadata": {},
     "output_type": "display_data"
    }
   ],
   "source": [
    "Table().with_columns(\n",
    "    '1960', fertility.where('time', 1960).column(2),\n",
    "    '2010', fertility.where('time', 2010).column(2)\n",
    ").hist(bins=np.arange(0, 10, 0.5), unit='child')\n",
    "_ = plots.xlabel('Children per woman')\n",
    "_ = plots.xticks(np.arange(10))"
   ]
  },
  {
   "cell_type": "markdown",
   "metadata": {
    "deletable": false,
    "editable": false
   },
   "source": [
    "**Question 9.** Assign `fertility_statements` to a list of the numbers of each statement below that can be correctly inferred from these histograms.\n",
    "1. About the same number of countries had a fertility rate between 3.5 and 4.5 in both 1960 and 2010.\n",
    "1. In 2010, about 40% of countries had a fertility rate between 1.5 and 2 (inclusive).\n",
    "1. In 1960, less than 20% of countries had a fertility rate below 3.\n",
    "1. More countries had a fertility rate above 3 in 1960 than in 2010.\n",
    "1. At least half of countries had a fertility rate between 5 and 8 (inclusive) in 1960.\n",
    "1. At least half of countries had a fertility rate below 3 in 2010."
   ]
  },
  {
   "cell_type": "code",
   "execution_count": 63,
   "metadata": {
    "deletable": false
   },
   "outputs": [],
   "source": [
    "fertility_statements = make_array(2, 4, 5, 6)"
   ]
  },
  {
   "cell_type": "code",
   "execution_count": 64,
   "metadata": {
    "deletable": false,
    "editable": false
   },
   "outputs": [
    {
     "name": "stdout",
     "output_type": "stream",
     "text": [
      "~~~~~~~~~~~~~~~~~~~~~~~~~~~~~~~~~~~~~~~~~~~~~~~~~~~~~~~~~~~~~~~~~~~~~\n",
      "Running tests\n",
      "\n",
      "---------------------------------------------------------------------\n",
      "Test summary\n",
      "    Passed: 1\n",
      "    Failed: 0\n",
      "[ooooooooook] 100.0% passed\n",
      "\n"
     ]
    }
   ],
   "source": [
    "_ = ok.grade('q1_9')"
   ]
  },
  {
   "cell_type": "markdown",
   "metadata": {
    "deletable": false,
    "editable": false
   },
   "source": [
    "**Question 10.** Draw a line plot of the world population from 1800 through 2005. The world population is the sum of all the country's populations. "
   ]
  },
  {
   "cell_type": "code",
   "execution_count": 65,
   "metadata": {
    "deletable": false,
    "manual_grade": true,
    "manual_problem_id": "global_pop_10"
   },
   "outputs": [
    {
     "data": {
      "image/png": "[encoded data removed]",
      "text/plain": [
       "<Figure size 432x288 with 1 Axes>"
      ]
     },
     "metadata": {},
     "output_type": "display_data"
    }
   ],
   "source": [
    "question10 = population.where('time', are.between(1800, 2006)).group('time', sum)\n",
    "question10.plot('time', 'population_total sum')"
   ]
  },
  {
   "cell_type": "markdown",
   "metadata": {
    "deletable": false,
    "editable": false
   },
   "source": [
    "**Question 11.** Create a function `stats_for_year` that takes a `year` and returns a table of statistics. The table it returns should have four columns: `geo`, `population_total`, `children_per_woman_total_fertility`, and `child_mortality_under_5_per_1000_born`. Each row should contain one Alpha-3 country code and three statistics: population, fertility rate, and child mortality for that `year` from the `population`, `fertility` and `child_mortality` tables. Only include rows for which all three statistics are available for the country and year.\n",
    "\n",
    "In addition, restrict the result to country codes that appears in `big_50`, an array of the 50 most populous countries in 2010. This restriction will speed up computations later in the project.\n",
    "\n",
    "*Hint*: The tests for this question are quite comprehensive, so if you pass the tests, your function is probably correct. However, without calling your function yourself and looking at the output, it will be very difficult to understand any problems you have, so try your best to write the function correctly and check that it works before you rely on the `ok` tests to confirm your work."
   ]
  },
  {
   "cell_type": "code",
   "execution_count": 66,
   "metadata": {
    "deletable": false
   },
   "outputs": [],
   "source": [
    "# We first create a population table that only includes the \n",
    "# 50 countries with the largest 2010 populations. We focus on \n",
    "# these 50 countries only so that plotting later will run faster.\n",
    "big_50 = population.where('time', 2010).sort(2, descending=True).take(np.arange(50)).column('geo')\n",
    "population_of_big_50 = population.where('time', are.above(1959)).where('geo', are.contained_in(big_50))\n",
    "\n",
    "def stats_for_year(year):\n",
    "    \"\"\"Return a table of the stats for each country that year.\"\"\"\n",
    "    p = population_of_big_50.where('time', year).drop('time')\n",
    "    f = fertility.where('time', year).drop('time')\n",
    "    c = child_mortality.where('time', year).drop('time')\n",
    "    \n",
    "    return p.join('geo', f).join('geo', c)\n",
    "    #return Table().with_column"
   ]
  },
  {
   "cell_type": "markdown",
   "metadata": {
    "deletable": false,
    "editable": false
   },
   "source": [
    "Try calling your function `stats_for_year` on any year between 1960 and 2010 in the cell below.  Try to understand the output of `stats_for_year`."
   ]
  },
  {
   "cell_type": "code",
   "execution_count": 67,
   "metadata": {},
   "outputs": [
    {
     "data": {
      "text/html": [
       "<table border=\"1\" class=\"dataframe\">\n",
       "    <thead>\n",
       "        <tr>\n",
       "            <th>geo</th> <th>population_total</th> <th>children_per_woman_total_fertility</th> <th>child_mortality_under_5_per_1000_born</th>\n",
       "        </tr>\n",
       "    </thead>\n",
       "    <tbody>\n",
       "        <tr>\n",
       "            <td>afg </td> <td>11412821        </td> <td>7.67                              </td> <td>302.1                                </td>\n",
       "        </tr>\n",
       "        <tr>\n",
       "            <td>arg </td> <td>24366442        </td> <td>3.1                               </td> <td>71.5                                 </td>\n",
       "        </tr>\n",
       "        <tr>\n",
       "            <td>bgd </td> <td>66417450        </td> <td>6.94                              </td> <td>223                                  </td>\n",
       "        </tr>\n",
       "        <tr>\n",
       "            <td>bra </td> <td>98402200        </td> <td>4.9                               </td> <td>130.1                                </td>\n",
       "        </tr>\n",
       "        <tr>\n",
       "            <td>can </td> <td>21790338        </td> <td>2.14                              </td> <td>21                                   </td>\n",
       "        </tr>\n",
       "        <tr>\n",
       "            <td>chn </td> <td>829367784       </td> <td>5.4                               </td> <td>107.7                                </td>\n",
       "        </tr>\n",
       "        <tr>\n",
       "            <td>cod </td> <td>20563111        </td> <td>6.24                              </td> <td>244.8                                </td>\n",
       "        </tr>\n",
       "        <tr>\n",
       "            <td>col </td> <td>22611988        </td> <td>5.37                              </td> <td>94                                   </td>\n",
       "        </tr>\n",
       "        <tr>\n",
       "            <td>deu </td> <td>78584779        </td> <td>1.92                              </td> <td>24.9                                 </td>\n",
       "        </tr>\n",
       "        <tr>\n",
       "            <td>dza </td> <td>14960111        </td> <td>7.62                              </td> <td>237.3                                </td>\n",
       "        </tr>\n",
       "    </tbody>\n",
       "</table>\n",
       "<p>... (40 rows omitted)</p>"
      ],
      "text/plain": [
       "geo  | population_total | children_per_woman_total_fertility | child_mortality_under_5_per_1000_born\n",
       "afg  | 11412821         | 7.67                               | 302.1\n",
       "arg  | 24366442         | 3.1                                | 71.5\n",
       "bgd  | 66417450         | 6.94                               | 223\n",
       "bra  | 98402200         | 4.9                                | 130.1\n",
       "can  | 21790338         | 2.14                               | 21\n",
       "chn  | 829367784        | 5.4                                | 107.7\n",
       "cod  | 20563111         | 6.24                               | 244.8\n",
       "col  | 22611988         | 5.37                               | 94\n",
       "deu  | 78584779         | 1.92                               | 24.9\n",
       "dza  | 14960111         | 7.62                               | 237.3\n",
       "... (40 rows omitted)"
      ]
     },
     "execution_count": 67,
     "metadata": {},
     "output_type": "execute_result"
    }
   ],
   "source": [
    "stats_for_year(1971)"
   ]
  },
  {
   "cell_type": "code",
   "execution_count": 68,
   "metadata": {
    "deletable": false,
    "editable": false
   },
   "outputs": [
    {
     "name": "stdout",
     "output_type": "stream",
     "text": [
      "~~~~~~~~~~~~~~~~~~~~~~~~~~~~~~~~~~~~~~~~~~~~~~~~~~~~~~~~~~~~~~~~~~~~~\n",
      "Running tests\n",
      "\n",
      "---------------------------------------------------------------------\n",
      "Test summary\n",
      "    Passed: 4\n",
      "    Failed: 0\n",
      "[ooooooooook] 100.0% passed\n",
      "\n"
     ]
    }
   ],
   "source": [
    "_ = ok.grade('q1_11')"
   ]
  },
  {
   "cell_type": "markdown",
   "metadata": {
    "deletable": false,
    "editable": false
   },
   "source": [
    "**Question 12.** Create a table called `pop_by_decade` with two columns called `decade` and `population`. It has a row for each `year` since 1960 that starts a decade. The `population` column contains the total population of all countries included in the result of `stats_for_year(year)` for the first `year` of the decade. For example, 1960 is the first year of the 1960's decade. You should see that these countries contain most of the world's population.\n",
    "\n",
    "*Hint:* One approach is to define a function `pop_for_year` that computes this total population, then `apply` it to the `decade` column.  The `stats_for_year` function from the previous question may be useful here.\n",
    "\n",
    "**Note:** The `pop_by_decade` cell is directly below the cell containing the helper function `pop_for_year`. This is where you will generate the `pop_by_decade` table!"
   ]
  },
  {
   "cell_type": "code",
   "execution_count": 69,
   "metadata": {},
   "outputs": [],
   "source": [
    "def pop_for_year(year):\n",
    "    year_range = stats_for_year(year)\n",
    "    return sum(year_range.column('population_total'))"
   ]
  },
  {
   "cell_type": "markdown",
   "metadata": {
    "deletable": false,
    "editable": false
   },
   "source": [
    "This test is just a sanity check for your helper function if you choose to use it. You will not lose points for not implementing the function `pop_for_year`."
   ]
  },
  {
   "cell_type": "code",
   "execution_count": 70,
   "metadata": {},
   "outputs": [
    {
     "name": "stdout",
     "output_type": "stream",
     "text": [
      "~~~~~~~~~~~~~~~~~~~~~~~~~~~~~~~~~~~~~~~~~~~~~~~~~~~~~~~~~~~~~~~~~~~~~\n",
      "Running tests\n",
      "\n",
      "---------------------------------------------------------------------\n",
      "Test summary\n",
      "    Passed: 1\n",
      "    Failed: 0\n",
      "[ooooooooook] 100.0% passed\n",
      "\n"
     ]
    }
   ],
   "source": [
    "_ = ok.grade('q1_12_0')"
   ]
  },
  {
   "cell_type": "code",
   "execution_count": 71,
   "metadata": {
    "deletable": false
   },
   "outputs": [
    {
     "data": {
      "text/html": [
       "<table border=\"1\" class=\"dataframe\">\n",
       "    <thead>\n",
       "        <tr>\n",
       "            <th>decade</th> <th>population</th>\n",
       "        </tr>\n",
       "    </thead>\n",
       "    <tbody>\n",
       "        <tr>\n",
       "            <td>1960  </td> <td>2,624,944,597</td>\n",
       "        </tr>\n",
       "        <tr>\n",
       "            <td>1970  </td> <td>3,211,487,418</td>\n",
       "        </tr>\n",
       "        <tr>\n",
       "            <td>1980  </td> <td>3,880,722,003</td>\n",
       "        </tr>\n",
       "        <tr>\n",
       "            <td>1990  </td> <td>4,648,434,558</td>\n",
       "        </tr>\n",
       "        <tr>\n",
       "            <td>2000  </td> <td>5,367,553,063</td>\n",
       "        </tr>\n",
       "        <tr>\n",
       "            <td>2010  </td> <td>6,040,810,517</td>\n",
       "        </tr>\n",
       "    </tbody>\n",
       "</table>"
      ],
      "text/plain": [
       "decade | population\n",
       "1960   | 2,624,944,597\n",
       "1970   | 3,211,487,418\n",
       "1980   | 3,880,722,003\n",
       "1990   | 4,648,434,558\n",
       "2000   | 5,367,553,063\n",
       "2010   | 6,040,810,517"
      ]
     },
     "execution_count": 71,
     "metadata": {},
     "output_type": "execute_result"
    }
   ],
   "source": [
    "decades = Table().with_column('decade', np.arange(1960, 2011, 10))\n",
    "pop = decades.apply(pop_for_year, 'decade')\n",
    "pop_by_decade = decades.with_column('population', pop)\n",
    "pop_by_decade.set_format(1, NumberFormatter)"
   ]
  },
  {
   "cell_type": "code",
   "execution_count": 72,
   "metadata": {
    "deletable": false,
    "editable": false
   },
   "outputs": [
    {
     "name": "stdout",
     "output_type": "stream",
     "text": [
      "~~~~~~~~~~~~~~~~~~~~~~~~~~~~~~~~~~~~~~~~~~~~~~~~~~~~~~~~~~~~~~~~~~~~~\n",
      "Running tests\n",
      "\n",
      "---------------------------------------------------------------------\n",
      "Test summary\n",
      "    Passed: 2\n",
      "    Failed: 0\n",
      "[ooooooooook] 100.0% passed\n",
      "\n"
     ]
    }
   ],
   "source": [
    "_ = ok.grade('q1_12')"
   ]
  },
  {
   "cell_type": "markdown",
   "metadata": {
    "deletable": false,
    "editable": false
   },
   "source": [
    "The `countries` table describes various characteristics of countries. The `country` column contains the same codes as the `geo` column in each of the other data tables (`population`, `fertility`, and `child_mortality`). The `world_6region` column classifies each country into a region of the world. Run the cell below to inspect the data."
   ]
  },
  {
   "cell_type": "code",
   "execution_count": 73,
   "metadata": {
    "deletable": false,
    "editable": false
   },
   "outputs": [
    {
     "data": {
      "text/html": [
       "<table border=\"1\" class=\"dataframe\">\n",
       "    <thead>\n",
       "        <tr>\n",
       "            <th>country</th> <th>name</th> <th>world_6region</th>\n",
       "        </tr>\n",
       "    </thead>\n",
       "    <tbody>\n",
       "        <tr>\n",
       "            <td>afg      </td> <td>Afghanistan          </td> <td>south_asia              </td>\n",
       "        </tr>\n",
       "        <tr>\n",
       "            <td>akr_a_dhe</td> <td>Akrotiri and Dhekelia</td> <td>europe_central_asia     </td>\n",
       "        </tr>\n",
       "        <tr>\n",
       "            <td>alb      </td> <td>Albania              </td> <td>europe_central_asia     </td>\n",
       "        </tr>\n",
       "        <tr>\n",
       "            <td>dza      </td> <td>Algeria              </td> <td>middle_east_north_africa</td>\n",
       "        </tr>\n",
       "        <tr>\n",
       "            <td>asm      </td> <td>American Samoa       </td> <td>east_asia_pacific       </td>\n",
       "        </tr>\n",
       "        <tr>\n",
       "            <td>and      </td> <td>Andorra              </td> <td>europe_central_asia     </td>\n",
       "        </tr>\n",
       "        <tr>\n",
       "            <td>ago      </td> <td>Angola               </td> <td>sub_saharan_africa      </td>\n",
       "        </tr>\n",
       "        <tr>\n",
       "            <td>aia      </td> <td>Anguilla             </td> <td>america                 </td>\n",
       "        </tr>\n",
       "        <tr>\n",
       "            <td>atg      </td> <td>Antigua and Barbuda  </td> <td>america                 </td>\n",
       "        </tr>\n",
       "        <tr>\n",
       "            <td>arg      </td> <td>Argentina            </td> <td>america                 </td>\n",
       "        </tr>\n",
       "    </tbody>\n",
       "</table>\n",
       "<p>... (245 rows omitted)</p>"
      ],
      "text/plain": [
       "country   | name                  | world_6region\n",
       "afg       | Afghanistan           | south_asia\n",
       "akr_a_dhe | Akrotiri and Dhekelia | europe_central_asia\n",
       "alb       | Albania               | europe_central_asia\n",
       "dza       | Algeria               | middle_east_north_africa\n",
       "asm       | American Samoa        | east_asia_pacific\n",
       "and       | Andorra               | europe_central_asia\n",
       "ago       | Angola                | sub_saharan_africa\n",
       "aia       | Anguilla              | america\n",
       "atg       | Antigua and Barbuda   | america\n",
       "arg       | Argentina             | america\n",
       "... (245 rows omitted)"
      ]
     },
     "execution_count": 73,
     "metadata": {},
     "output_type": "execute_result"
    }
   ],
   "source": [
    "countries = Table.read_table('countries.csv').where('country', are.contained_in(population.group('geo').column(0)))\n",
    "countries.select('country', 'name', 'world_6region')"
   ]
  },
  {
   "cell_type": "markdown",
   "metadata": {
    "deletable": false,
    "editable": false
   },
   "source": [
    "**Question 13.** Create a table called `region_counts` that has two columns, `region` and `count`. It should describe the count of how many countries in each region appear in the result of `stats_for_year(1960)`. For example, one row would have `south_asia` as its `world_6region` value and an integer as its `count` value: the number of large South Asian countries for which we have population, fertility, and child mortality numbers from 1960."
   ]
  },
  {
   "cell_type": "code",
   "execution_count": 74,
   "metadata": {},
   "outputs": [
    {
     "data": {
      "text/html": [
       "<table border=\"1\" class=\"dataframe\">\n",
       "    <thead>\n",
       "        <tr>\n",
       "            <th>geo</th> <th>population_total</th> <th>children_per_woman_total_fertility</th> <th>child_mortality_under_5_per_1000_born</th>\n",
       "        </tr>\n",
       "    </thead>\n",
       "    <tbody>\n",
       "        <tr>\n",
       "            <td>afg </td> <td>8994793         </td> <td>7.67                              </td> <td>362.4                                </td>\n",
       "        </tr>\n",
       "        <tr>\n",
       "            <td>arg </td> <td>20619075        </td> <td>3.11                              </td> <td>73.2                                 </td>\n",
       "        </tr>\n",
       "        <tr>\n",
       "            <td>bgd </td> <td>48200702        </td> <td>6.73                              </td> <td>264.3                                </td>\n",
       "        </tr>\n",
       "        <tr>\n",
       "            <td>bra </td> <td>72493585        </td> <td>6.21                              </td> <td>171.8                                </td>\n",
       "        </tr>\n",
       "        <tr>\n",
       "            <td>can </td> <td>17909232        </td> <td>3.91                              </td> <td>32.6                                 </td>\n",
       "        </tr>\n",
       "        <tr>\n",
       "            <td>chn </td> <td>644450173       </td> <td>3.99                              </td> <td>309                                  </td>\n",
       "        </tr>\n",
       "        <tr>\n",
       "            <td>cod </td> <td>15248246        </td> <td>6                                 </td> <td>266                                  </td>\n",
       "        </tr>\n",
       "        <tr>\n",
       "            <td>col </td> <td>16480384        </td> <td>6.81                              </td> <td>127.3                                </td>\n",
       "        </tr>\n",
       "        <tr>\n",
       "            <td>deu </td> <td>73179665        </td> <td>2.41                              </td> <td>42.87                                </td>\n",
       "        </tr>\n",
       "        <tr>\n",
       "            <td>dza </td> <td>11124892        </td> <td>7.65                              </td> <td>245.7                                </td>\n",
       "        </tr>\n",
       "    </tbody>\n",
       "</table>\n",
       "<p>... (40 rows omitted)</p>"
      ],
      "text/plain": [
       "geo  | population_total | children_per_woman_total_fertility | child_mortality_under_5_per_1000_born\n",
       "afg  | 8994793          | 7.67                               | 362.4\n",
       "arg  | 20619075         | 3.11                               | 73.2\n",
       "bgd  | 48200702         | 6.73                               | 264.3\n",
       "bra  | 72493585         | 6.21                               | 171.8\n",
       "can  | 17909232         | 3.91                               | 32.6\n",
       "chn  | 644450173        | 3.99                               | 309\n",
       "cod  | 15248246         | 6                                  | 266\n",
       "col  | 16480384         | 6.81                               | 127.3\n",
       "deu  | 73179665         | 2.41                               | 42.87\n",
       "dza  | 11124892         | 7.65                               | 245.7\n",
       "... (40 rows omitted)"
      ]
     },
     "execution_count": 74,
     "metadata": {},
     "output_type": "execute_result"
    }
   ],
   "source": [
    "stats_for_year(1960)"
   ]
  },
  {
   "cell_type": "code",
   "execution_count": 75,
   "metadata": {
    "deletable": false
   },
   "outputs": [
    {
     "data": {
      "text/html": [
       "<table border=\"1\" class=\"dataframe\">\n",
       "    <thead>\n",
       "        <tr>\n",
       "            <th>region</th> <th>count</th>\n",
       "        </tr>\n",
       "    </thead>\n",
       "    <tbody>\n",
       "        <tr>\n",
       "            <td>america                 </td> <td>8    </td>\n",
       "        </tr>\n",
       "        <tr>\n",
       "            <td>east_asia_pacific       </td> <td>10   </td>\n",
       "        </tr>\n",
       "        <tr>\n",
       "            <td>europe_central_asia     </td> <td>10   </td>\n",
       "        </tr>\n",
       "        <tr>\n",
       "            <td>middle_east_north_africa</td> <td>7    </td>\n",
       "        </tr>\n",
       "        <tr>\n",
       "            <td>south_asia              </td> <td>5    </td>\n",
       "        </tr>\n",
       "        <tr>\n",
       "            <td>sub_saharan_africa      </td> <td>10   </td>\n",
       "        </tr>\n",
       "    </tbody>\n",
       "</table>"
      ],
      "text/plain": [
       "region                   | count\n",
       "america                  | 8\n",
       "east_asia_pacific        | 10\n",
       "europe_central_asia      | 10\n",
       "middle_east_north_africa | 7\n",
       "south_asia               | 5\n",
       "sub_saharan_africa       | 10"
      ]
     },
     "execution_count": 75,
     "metadata": {},
     "output_type": "execute_result"
    }
   ],
   "source": [
    "joined_table = stats_for_year(1960).join('geo', countries, 'country')\n",
    "region_counts = joined_table.group('world_6region').relabel('world_6region', 'region')\n",
    "region_counts"
   ]
  },
  {
   "cell_type": "code",
   "execution_count": 76,
   "metadata": {
    "deletable": false,
    "editable": false
   },
   "outputs": [
    {
     "name": "stdout",
     "output_type": "stream",
     "text": [
      "~~~~~~~~~~~~~~~~~~~~~~~~~~~~~~~~~~~~~~~~~~~~~~~~~~~~~~~~~~~~~~~~~~~~~\n",
      "Running tests\n",
      "\n",
      "---------------------------------------------------------------------\n",
      "Test summary\n",
      "    Passed: 2\n",
      "    Failed: 0\n",
      "[ooooooooook] 100.0% passed\n",
      "\n"
     ]
    }
   ],
   "source": [
    "_ = ok.grade('q1_13')"
   ]
  },
  {
   "cell_type": "markdown",
   "metadata": {
    "deletable": false,
    "editable": false
   },
   "source": [
    "The following scatter diagram compares total fertility rate and child mortality rate for each country in 1960. The area of each dot represents the population of the country, and the color represents its region of the world. Run the cell. Do you think you can identify any of the dots?"
   ]
  },
  {
   "cell_type": "code",
   "execution_count": 77,
   "metadata": {
    "deletable": false
   },
   "outputs": [
    {
     "data": {
      "image/png": "[encoded data removed]",
      "text/plain": [
       "<Figure size 360x360 with 1 Axes>"
      ]
     },
     "metadata": {},
     "output_type": "display_data"
    }
   ],
   "source": [
    "from functools import lru_cache as cache\n",
    "\n",
    "# This cache annotation makes sure that if the same year\n",
    "# is passed as an argument twice, the work of computing\n",
    "# the result is only carried out once.\n",
    "@cache(None)\n",
    "def stats_relabeled(year):\n",
    "    \"\"\"Relabeled and cached version of stats_for_year.\"\"\"\n",
    "    return stats_for_year(year).relabel(2, 'Children per woman').relabel(3, 'Child deaths per 1000 born')\n",
    "\n",
    "def fertility_vs_child_mortality(year):\n",
    "    \"\"\"Draw a color scatter diagram comparing child mortality and fertility.\"\"\"\n",
    "    with_region = stats_relabeled(year).join('geo', countries.select('country', 'world_6region'), 'country')\n",
    "    with_region.scatter(2, 3, sizes=1, colors=4, s=500)\n",
    "    plots.xlim(0,10)\n",
    "    plots.ylim(-50, 500)\n",
    "    plots.title(year)\n",
    "\n",
    "fertility_vs_child_mortality(1960)"
   ]
  },
  {
   "cell_type": "markdown",
   "metadata": {
    "deletable": false
   },
   "source": [
    "**Question 14.** Assign `scatter_statements` to a list of the numbers of each statement below that can be inferred from this scatter diagram for 1960. \n",
    "1. The `europe_central_asia` region had the lowest child mortality rate.\n",
    "1. The lowest child mortality rate of any country was from an `east_asia_pacific` country.\n",
    "1. Most countries had a fertility rate above 5.\n",
    "1. There was an association between child mortality and fertility.\n",
    "1. The two largest countries by population also had the two highest child mortality rate."
   ]
  },
  {
   "cell_type": "code",
   "execution_count": 78,
   "metadata": {
    "deletable": false
   },
   "outputs": [],
   "source": [
    "scatter_statements = make_array(3, 4)"
   ]
  },
  {
   "cell_type": "code",
   "execution_count": 79,
   "metadata": {
    "deletable": false,
    "editable": false
   },
   "outputs": [
    {
     "name": "stdout",
     "output_type": "stream",
     "text": [
      "~~~~~~~~~~~~~~~~~~~~~~~~~~~~~~~~~~~~~~~~~~~~~~~~~~~~~~~~~~~~~~~~~~~~~\n",
      "Running tests\n",
      "\n",
      "---------------------------------------------------------------------\n",
      "Test summary\n",
      "    Passed: 1\n",
      "    Failed: 0\n",
      "[ooooooooook] 100.0% passed\n",
      "\n"
     ]
    }
   ],
   "source": [
    "_ = ok.grade('q1_14')"
   ]
  },
  {
   "cell_type": "markdown",
   "metadata": {
    "deletable": false
   },
   "source": [
    "The result of the cell below is interactive. Drag the slider to the right to see how countries have changed over time. You'll find that the great divide between so-called \"Western\" and \"developing\" countries that existed in the 1960's has nearly disappeared. This shift in fertility rates is the reason that the global population is expected to grow more slowly in the 21st century than it did in the 19th and 20th centuries.\n",
    "\n",
    "**Note:** Don't worry if a red warning pops up when running the cell below. You'll still be able to run the cell!"
   ]
  },
  {
   "cell_type": "code",
   "execution_count": 80,
   "metadata": {
    "deletable": false,
    "scrolled": false
   },
   "outputs": [
    {
     "name": "stderr",
     "output_type": "stream",
     "text": [
      "/srv/app/venv/lib/python3.6/site-packages/datascience/tables.py:192: FutureWarning: Implicit column method lookup is deprecated.\n",
      "  warnings.warn(\"Implicit column method lookup is deprecated.\", FutureWarning)\n"
     ]
    },
    {
     "data": {
      "application/vnd.jupyter.widget-view+json": {
       "model_id": "9895e4e2bf5a47a4a0040f8eaf5b3435",
       "version_major": 2,
       "version_minor": 0
      },
      "text/plain": [
       "interactive(children=(IntSlider(value=1960, description='year', max=2015, min=1960), Output()), _dom_classes=(…"
      ]
     },
     "metadata": {},
     "output_type": "display_data"
    }
   ],
   "source": [
    "import ipywidgets as widgets\n",
    "\n",
    "# This part takes a few minutes to run because it \n",
    "# computes 55 tables in advance: one for each year.\n",
    "Table().with_column('Year', np.arange(1960, 2016)).apply(stats_relabeled, 'Year')\n",
    "\n",
    "_ = widgets.interact(fertility_vs_child_mortality, \n",
    "                     year=widgets.IntSlider(min=1960, max=2015, value=1960))"
   ]
  },
  {
   "cell_type": "markdown",
   "metadata": {
    "deletable": false,
    "editable": false
   },
   "source": [
    "Now is a great time to take a break and watch the same data presented by [Hans Rosling in a 2010 TEDx talk](https://www.gapminder.org/videos/reducing-child-mortality-a-moral-and-environmental-imperative) with smoother animation and witty commentary."
   ]
  },
  {
   "cell_type": "markdown",
   "metadata": {
    "deletable": false,
    "editable": false
   },
   "source": [
    "## 2. Global Poverty\n"
   ]
  },
  {
   "cell_type": "markdown",
   "metadata": {
    "deletable": false,
    "editable": false
   },
   "source": [
    "In 1800, 85% of the world's 1 billion people lived in *extreme poverty*, defined by the United Nations as \"a condition characterized by severe deprivation of basic human needs, including food, safe drinking water, sanitation facilities, health, shelter, education and information.\" A common measure of extreme poverty is a person living on less than \\$1.25 per day.\n",
    "\n",
    "In 2018, the proportion of people living in extreme poverty was estimated to be 8%. Although the world rate of extreme poverty has declined consistently for hundreds of years, the number of people living in extreme poverty is still over 600 million. The United Nations recently adopted an [ambitious goal](http://www.un.org/sustainabledevelopment/poverty/): \"By 2030, eradicate extreme poverty for all people everywhere.\"\n",
    "In this section, we will examine extreme poverty trends around the world."
   ]
  },
  {
   "cell_type": "markdown",
   "metadata": {
    "deletable": false,
    "editable": false
   },
   "source": [
    "First, load the population and poverty rate by country and year and the country descriptions. While the `population` table has values for every recent year for many countries, the `poverty` table only includes certain years for each country in which a measurement of the rate of extreme poverty was available."
   ]
  },
  {
   "cell_type": "code",
   "execution_count": 81,
   "metadata": {
    "deletable": false,
    "editable": false
   },
   "outputs": [
    {
     "data": {
      "text/html": [
       "<table border=\"1\" class=\"dataframe\">\n",
       "    <thead>\n",
       "        <tr>\n",
       "            <th>geo</th> <th>time</th> <th>extreme_poverty_percent_people_below_125_a_day</th>\n",
       "        </tr>\n",
       "    </thead>\n",
       "    <tbody>\n",
       "        <tr>\n",
       "            <td>alb </td> <td>1996</td> <td>0.2                                           </td>\n",
       "        </tr>\n",
       "        <tr>\n",
       "            <td>alb </td> <td>2002</td> <td>0.73                                          </td>\n",
       "        </tr>\n",
       "        <tr>\n",
       "            <td>alb </td> <td>2004</td> <td>0.53                                          </td>\n",
       "        </tr>\n",
       "    </tbody>\n",
       "</table>\n",
       "<p>... (1096 rows omitted)</p>"
      ],
      "text/plain": [
       "<IPython.core.display.HTML object>"
      ]
     },
     "metadata": {},
     "output_type": "display_data"
    }
   ],
   "source": [
    "population = Table.read_table('population.csv')\n",
    "countries = Table.read_table('countries.csv').where('country', are.contained_in(population.group('geo').column(0)))\n",
    "poverty = Table.read_table('poverty.csv')\n",
    "poverty.show(3)"
   ]
  },
  {
   "cell_type": "markdown",
   "metadata": {
    "deletable": false,
    "editable": false
   },
   "source": [
    "**Question 1.** Assign `latest_poverty` to a three-column table with one row for each country that appears in the `poverty` table. The first column should contain the 3-letter code for the country. The second column should contain the *most recent_poverty_total year* for which an extreme poverty rate is available for the country. The third column should contain the poverty rate in that year. **Do not change the last line, so that the labels of your table are set correctly.**\n",
    "\n",
    "*Hint*: think about how ```group``` works: it does a sequential search of the table (from top to bottom) and collects values in the array in the order in which they appear, and then applies a function to that array. The `first` function may be helpful, but you are not required to use it."
   ]
  },
  {
   "cell_type": "code",
   "execution_count": 82,
   "metadata": {
    "deletable": false
   },
   "outputs": [
    {
     "data": {
      "text/html": [
       "<table border=\"1\" class=\"dataframe\">\n",
       "    <thead>\n",
       "        <tr>\n",
       "            <th>geo</th> <th>time</th> <th>poverty_percent</th>\n",
       "        </tr>\n",
       "    </thead>\n",
       "    <tbody>\n",
       "        <tr>\n",
       "            <td>ago </td> <td>2009</td> <td>43.37          </td>\n",
       "        </tr>\n",
       "        <tr>\n",
       "            <td>alb </td> <td>2012</td> <td>0.46           </td>\n",
       "        </tr>\n",
       "        <tr>\n",
       "            <td>arg </td> <td>2011</td> <td>1.41           </td>\n",
       "        </tr>\n",
       "        <tr>\n",
       "            <td>arm </td> <td>2012</td> <td>1.75           </td>\n",
       "        </tr>\n",
       "        <tr>\n",
       "            <td>aus </td> <td>2003</td> <td>1.36           </td>\n",
       "        </tr>\n",
       "        <tr>\n",
       "            <td>aut </td> <td>2004</td> <td>0.34           </td>\n",
       "        </tr>\n",
       "        <tr>\n",
       "            <td>aze </td> <td>2008</td> <td>0.31           </td>\n",
       "        </tr>\n",
       "        <tr>\n",
       "            <td>bdi </td> <td>2006</td> <td>81.32          </td>\n",
       "        </tr>\n",
       "        <tr>\n",
       "            <td>bel </td> <td>2000</td> <td>0.5            </td>\n",
       "        </tr>\n",
       "        <tr>\n",
       "            <td>ben </td> <td>2012</td> <td>51.61          </td>\n",
       "        </tr>\n",
       "    </tbody>\n",
       "</table>\n",
       "<p>... (135 rows omitted)</p>"
      ],
      "text/plain": [
       "geo  | time | poverty_percent\n",
       "ago  | 2009 | 43.37\n",
       "alb  | 2012 | 0.46\n",
       "arg  | 2011 | 1.41\n",
       "arm  | 2012 | 1.75\n",
       "aus  | 2003 | 1.36\n",
       "aut  | 2004 | 0.34\n",
       "aze  | 2008 | 0.31\n",
       "bdi  | 2006 | 81.32\n",
       "bel  | 2000 | 0.5\n",
       "ben  | 2012 | 51.61\n",
       "... (135 rows omitted)"
      ]
     },
     "execution_count": 82,
     "metadata": {},
     "output_type": "execute_result"
    }
   ],
   "source": [
    "def last(values):\n",
    "    return values.item(len(values)-1)\n",
    "\n",
    "latest_poverty = poverty.group('geo', last)\n",
    "\n",
    "latest_poverty.relabel(0, 'geo').relabel(1, 'time').relabel(2, 'poverty_percent') # You should *not* change this line."
   ]
  },
  {
   "cell_type": "code",
   "execution_count": 83,
   "metadata": {
    "deletable": false
   },
   "outputs": [
    {
     "name": "stdout",
     "output_type": "stream",
     "text": [
      "~~~~~~~~~~~~~~~~~~~~~~~~~~~~~~~~~~~~~~~~~~~~~~~~~~~~~~~~~~~~~~~~~~~~~\n",
      "Running tests\n",
      "\n",
      "---------------------------------------------------------------------\n",
      "Test summary\n",
      "    Passed: 2\n",
      "    Failed: 0\n",
      "[ooooooooook] 100.0% passed\n",
      "\n"
     ]
    }
   ],
   "source": [
    "_ = ok.grade('q2_1')"
   ]
  },
  {
   "cell_type": "markdown",
   "metadata": {
    "deletable": false,
    "editable": false
   },
   "source": [
    "**Question 2.** Using both `latest_poverty` and `population`, create a four-column table called `recent_poverty_total` with one row for each country in `latest_poverty`. The four columns should have the following labels and contents:\n",
    "1. `geo` contains the 3-letter country code,\n",
    "1. `poverty_percent` contains the most recent poverty percent,\n",
    "1. `population_total` contains the population of the country in 2010,\n",
    "1. `poverty_total` contains the number of people in poverty **rounded to the nearest integer**, based on the 2010 population and most recent poverty rate."
   ]
  },
  {
   "cell_type": "code",
   "execution_count": 84,
   "metadata": {
    "deletable": false
   },
   "outputs": [
    {
     "data": {
      "text/html": [
       "<table border=\"1\" class=\"dataframe\">\n",
       "    <thead>\n",
       "        <tr>\n",
       "            <th>geo</th> <th>poverty_percent</th> <th>population_total</th> <th>poverty_total</th>\n",
       "        </tr>\n",
       "    </thead>\n",
       "    <tbody>\n",
       "        <tr>\n",
       "            <td>ago </td> <td>43.37          </td> <td>21219954        </td> <td>9.20309e+06  </td>\n",
       "        </tr>\n",
       "        <tr>\n",
       "            <td>alb </td> <td>0.46           </td> <td>2901883         </td> <td>13349        </td>\n",
       "        </tr>\n",
       "        <tr>\n",
       "            <td>arg </td> <td>1.41           </td> <td>41222875        </td> <td>581243       </td>\n",
       "        </tr>\n",
       "        <tr>\n",
       "            <td>arm </td> <td>1.75           </td> <td>2963496         </td> <td>51861        </td>\n",
       "        </tr>\n",
       "        <tr>\n",
       "            <td>aus </td> <td>1.36           </td> <td>22162863        </td> <td>301415       </td>\n",
       "        </tr>\n",
       "        <tr>\n",
       "            <td>aut </td> <td>0.34           </td> <td>8391986         </td> <td>28533        </td>\n",
       "        </tr>\n",
       "        <tr>\n",
       "            <td>aze </td> <td>0.31           </td> <td>9099893         </td> <td>28210        </td>\n",
       "        </tr>\n",
       "        <tr>\n",
       "            <td>bdi </td> <td>81.32          </td> <td>9461117         </td> <td>7.69378e+06  </td>\n",
       "        </tr>\n",
       "        <tr>\n",
       "            <td>bel </td> <td>0.5            </td> <td>10929978        </td> <td>54650        </td>\n",
       "        </tr>\n",
       "        <tr>\n",
       "            <td>ben </td> <td>51.61          </td> <td>9509798         </td> <td>4.90801e+06  </td>\n",
       "        </tr>\n",
       "    </tbody>\n",
       "</table>\n",
       "<p>... (135 rows omitted)</p>"
      ],
      "text/plain": [
       "geo  | poverty_percent | population_total | poverty_total\n",
       "ago  | 43.37           | 21219954         | 9.20309e+06\n",
       "alb  | 0.46            | 2901883          | 13349\n",
       "arg  | 1.41            | 41222875         | 581243\n",
       "arm  | 1.75            | 2963496          | 51861\n",
       "aus  | 1.36            | 22162863         | 301415\n",
       "aut  | 0.34            | 8391986          | 28533\n",
       "aze  | 0.31            | 9099893          | 28210\n",
       "bdi  | 81.32           | 9461117          | 7.69378e+06\n",
       "bel  | 0.5             | 10929978         | 54650\n",
       "ben  | 51.61           | 9509798          | 4.90801e+06\n",
       "... (135 rows omitted)"
      ]
     },
     "execution_count": 84,
     "metadata": {},
     "output_type": "execute_result"
    }
   ],
   "source": [
    "poverty_and_pop = latest_poverty.drop(1).join(\"geo\", population.where(\"time\", 2010), \"geo\").drop(2)\n",
    "poverty_total_calc = np.round(((poverty_and_pop.column('poverty_percent'))*(poverty_and_pop.column('population_total')))/100)\n",
    "recent_poverty_total = poverty_and_pop.with_column('poverty_total', poverty_total_calc)\n",
    "\n",
    "recent_poverty_total"
   ]
  },
  {
   "cell_type": "code",
   "execution_count": 85,
   "metadata": {
    "deletable": false,
    "editable": false
   },
   "outputs": [
    {
     "name": "stdout",
     "output_type": "stream",
     "text": [
      "~~~~~~~~~~~~~~~~~~~~~~~~~~~~~~~~~~~~~~~~~~~~~~~~~~~~~~~~~~~~~~~~~~~~~\n",
      "Running tests\n",
      "\n",
      "---------------------------------------------------------------------\n",
      "Test summary\n",
      "    Passed: 3\n",
      "    Failed: 0\n",
      "[ooooooooook] 100.0% passed\n",
      "\n"
     ]
    }
   ],
   "source": [
    "_ = ok.grade('q2_2')"
   ]
  },
  {
   "cell_type": "markdown",
   "metadata": {
    "deletable": false
   },
   "source": [
    "**Question 3.** Assuming that the `poverty_total` numbers in the `recent_poverty_total` table describe *all* people in 2010 living in extreme poverty, assign the name `poverty_percent` to the known percentage of the world's 2010 population that were living in extreme poverty. You should find a number that is above the 2018 global estimate of 8%, since many country-specific poverty rates are older than 2018.\n",
    "\n",
    "*Hint*: The sum of the `population_total` column in the `recent_poverty_total` table is not the world population, because only a subset of the world's countries have known poverty rates. Use the `population` table to compute the world's 2010 total population."
   ]
  },
  {
   "cell_type": "code",
   "execution_count": 86,
   "metadata": {
    "deletable": false
   },
   "outputs": [
    {
     "data": {
      "text/plain": [
       "15.7"
      ]
     },
     "execution_count": 86,
     "metadata": {},
     "output_type": "execute_result"
    }
   ],
   "source": [
    "#2010 poverty rate 15.7%\n",
    "\n",
    "poverty_percent = 15.7\n",
    "poverty_percent"
   ]
  },
  {
   "cell_type": "code",
   "execution_count": 87,
   "metadata": {
    "deletable": false,
    "editable": false
   },
   "outputs": [
    {
     "name": "stdout",
     "output_type": "stream",
     "text": [
      "~~~~~~~~~~~~~~~~~~~~~~~~~~~~~~~~~~~~~~~~~~~~~~~~~~~~~~~~~~~~~~~~~~~~~\n",
      "Running tests\n",
      "\n",
      "---------------------------------------------------------------------\n",
      "Test summary\n",
      "    Passed: 1\n",
      "    Failed: 0\n",
      "[ooooooooook] 100.0% passed\n",
      "\n"
     ]
    }
   ],
   "source": [
    "_ = ok.grade('q2_3')"
   ]
  },
  {
   "cell_type": "markdown",
   "metadata": {
    "deletable": false,
    "editable": false
   },
   "source": [
    "The `countries` table includes not only the name and region of countries, but also their positions on the globe."
   ]
  },
  {
   "cell_type": "code",
   "execution_count": 88,
   "metadata": {
    "deletable": false,
    "editable": false,
    "scrolled": true
   },
   "outputs": [
    {
     "data": {
      "text/html": [
       "<table border=\"1\" class=\"dataframe\">\n",
       "    <thead>\n",
       "        <tr>\n",
       "            <th>country</th> <th>name</th> <th>world_4region</th> <th>latitude</th> <th>longitude</th>\n",
       "        </tr>\n",
       "    </thead>\n",
       "    <tbody>\n",
       "        <tr>\n",
       "            <td>afg      </td> <td>Afghanistan          </td> <td>asia         </td> <td>33      </td> <td>66       </td>\n",
       "        </tr>\n",
       "        <tr>\n",
       "            <td>akr_a_dhe</td> <td>Akrotiri and Dhekelia</td> <td>europe       </td> <td>nan     </td> <td>nan      </td>\n",
       "        </tr>\n",
       "        <tr>\n",
       "            <td>alb      </td> <td>Albania              </td> <td>europe       </td> <td>41      </td> <td>20       </td>\n",
       "        </tr>\n",
       "        <tr>\n",
       "            <td>dza      </td> <td>Algeria              </td> <td>africa       </td> <td>28      </td> <td>3        </td>\n",
       "        </tr>\n",
       "        <tr>\n",
       "            <td>asm      </td> <td>American Samoa       </td> <td>asia         </td> <td>-11.056 </td> <td>-171.082 </td>\n",
       "        </tr>\n",
       "        <tr>\n",
       "            <td>and      </td> <td>Andorra              </td> <td>europe       </td> <td>42.5078 </td> <td>1.52109  </td>\n",
       "        </tr>\n",
       "        <tr>\n",
       "            <td>ago      </td> <td>Angola               </td> <td>africa       </td> <td>-12.5   </td> <td>18.5     </td>\n",
       "        </tr>\n",
       "        <tr>\n",
       "            <td>aia      </td> <td>Anguilla             </td> <td>americas     </td> <td>18.2167 </td> <td>-63.05   </td>\n",
       "        </tr>\n",
       "        <tr>\n",
       "            <td>atg      </td> <td>Antigua and Barbuda  </td> <td>americas     </td> <td>17.05   </td> <td>-61.8    </td>\n",
       "        </tr>\n",
       "        <tr>\n",
       "            <td>arg      </td> <td>Argentina            </td> <td>americas     </td> <td>-34     </td> <td>-64      </td>\n",
       "        </tr>\n",
       "    </tbody>\n",
       "</table>\n",
       "<p>... (245 rows omitted)</p>"
      ],
      "text/plain": [
       "country   | name                  | world_4region | latitude | longitude\n",
       "afg       | Afghanistan           | asia          | 33       | 66\n",
       "akr_a_dhe | Akrotiri and Dhekelia | europe        | nan      | nan\n",
       "alb       | Albania               | europe        | 41       | 20\n",
       "dza       | Algeria               | africa        | 28       | 3\n",
       "asm       | American Samoa        | asia          | -11.056  | -171.082\n",
       "and       | Andorra               | europe        | 42.5078  | 1.52109\n",
       "ago       | Angola                | africa        | -12.5    | 18.5\n",
       "aia       | Anguilla              | americas      | 18.2167  | -63.05\n",
       "atg       | Antigua and Barbuda   | americas      | 17.05    | -61.8\n",
       "arg       | Argentina             | americas      | -34      | -64\n",
       "... (245 rows omitted)"
      ]
     },
     "execution_count": 88,
     "metadata": {},
     "output_type": "execute_result"
    }
   ],
   "source": [
    "countries.select('country', 'name', 'world_4region', 'latitude', 'longitude')"
   ]
  },
  {
   "cell_type": "code",
   "execution_count": 89,
   "metadata": {},
   "outputs": [
    {
     "data": {
      "text/html": [
       "<table border=\"1\" class=\"dataframe\">\n",
       "    <thead>\n",
       "        <tr>\n",
       "            <th>country</th> <th>name</th> <th>world_4region</th> <th>latitude</th> <th>longitude</th>\n",
       "        </tr>\n",
       "    </thead>\n",
       "    <tbody>\n",
       "        <tr>\n",
       "            <td>afg      </td> <td>Afghanistan          </td> <td>asia         </td> <td>33      </td> <td>66       </td>\n",
       "        </tr>\n",
       "        <tr>\n",
       "            <td>akr_a_dhe</td> <td>Akrotiri and Dhekelia</td> <td>europe       </td> <td>nan     </td> <td>nan      </td>\n",
       "        </tr>\n",
       "        <tr>\n",
       "            <td>alb      </td> <td>Albania              </td> <td>europe       </td> <td>41      </td> <td>20       </td>\n",
       "        </tr>\n",
       "        <tr>\n",
       "            <td>dza      </td> <td>Algeria              </td> <td>africa       </td> <td>28      </td> <td>3        </td>\n",
       "        </tr>\n",
       "        <tr>\n",
       "            <td>asm      </td> <td>American Samoa       </td> <td>asia         </td> <td>-11.056 </td> <td>-171.082 </td>\n",
       "        </tr>\n",
       "        <tr>\n",
       "            <td>and      </td> <td>Andorra              </td> <td>europe       </td> <td>42.5078 </td> <td>1.52109  </td>\n",
       "        </tr>\n",
       "        <tr>\n",
       "            <td>ago      </td> <td>Angola               </td> <td>africa       </td> <td>-12.5   </td> <td>18.5     </td>\n",
       "        </tr>\n",
       "        <tr>\n",
       "            <td>aia      </td> <td>Anguilla             </td> <td>americas     </td> <td>18.2167 </td> <td>-63.05   </td>\n",
       "        </tr>\n",
       "        <tr>\n",
       "            <td>atg      </td> <td>Antigua and Barbuda  </td> <td>americas     </td> <td>17.05   </td> <td>-61.8    </td>\n",
       "        </tr>\n",
       "        <tr>\n",
       "            <td>arg      </td> <td>Argentina            </td> <td>americas     </td> <td>-34     </td> <td>-64      </td>\n",
       "        </tr>\n",
       "    </tbody>\n",
       "</table>\n",
       "<p>... (245 rows omitted)</p>"
      ],
      "text/plain": [
       "country   | name                  | world_4region | latitude | longitude\n",
       "afg       | Afghanistan           | asia          | 33       | 66\n",
       "akr_a_dhe | Akrotiri and Dhekelia | europe        | nan      | nan\n",
       "alb       | Albania               | europe        | 41       | 20\n",
       "dza       | Algeria               | africa        | 28       | 3\n",
       "asm       | American Samoa        | asia          | -11.056  | -171.082\n",
       "and       | Andorra               | europe        | 42.5078  | 1.52109\n",
       "ago       | Angola                | africa        | -12.5    | 18.5\n",
       "aia       | Anguilla              | americas      | 18.2167  | -63.05\n",
       "atg       | Antigua and Barbuda   | americas      | 17.05    | -61.8\n",
       "arg       | Argentina             | americas      | -34      | -64\n",
       "... (245 rows omitted)"
      ]
     },
     "execution_count": 89,
     "metadata": {},
     "output_type": "execute_result"
    }
   ],
   "source": [
    "countries_select = countries.select('country', 'name', 'world_4region', 'latitude', 'longitude')\n",
    "countries_select"
   ]
  },
  {
   "cell_type": "code",
   "execution_count": 90,
   "metadata": {},
   "outputs": [
    {
     "data": {
      "text/html": [
       "<table border=\"1\" class=\"dataframe\">\n",
       "    <thead>\n",
       "        <tr>\n",
       "            <th>geo</th> <th>poverty_percent</th> <th>population_total</th> <th>poverty_total</th>\n",
       "        </tr>\n",
       "    </thead>\n",
       "    <tbody>\n",
       "        <tr>\n",
       "            <td>ago </td> <td>43.37          </td> <td>21219954        </td> <td>9.20309e+06  </td>\n",
       "        </tr>\n",
       "        <tr>\n",
       "            <td>alb </td> <td>0.46           </td> <td>2901883         </td> <td>13349        </td>\n",
       "        </tr>\n",
       "        <tr>\n",
       "            <td>arg </td> <td>1.41           </td> <td>41222875        </td> <td>581243       </td>\n",
       "        </tr>\n",
       "        <tr>\n",
       "            <td>arm </td> <td>1.75           </td> <td>2963496         </td> <td>51861        </td>\n",
       "        </tr>\n",
       "        <tr>\n",
       "            <td>aus </td> <td>1.36           </td> <td>22162863        </td> <td>301415       </td>\n",
       "        </tr>\n",
       "        <tr>\n",
       "            <td>aut </td> <td>0.34           </td> <td>8391986         </td> <td>28533        </td>\n",
       "        </tr>\n",
       "        <tr>\n",
       "            <td>aze </td> <td>0.31           </td> <td>9099893         </td> <td>28210        </td>\n",
       "        </tr>\n",
       "        <tr>\n",
       "            <td>bdi </td> <td>81.32          </td> <td>9461117         </td> <td>7.69378e+06  </td>\n",
       "        </tr>\n",
       "        <tr>\n",
       "            <td>bel </td> <td>0.5            </td> <td>10929978        </td> <td>54650        </td>\n",
       "        </tr>\n",
       "        <tr>\n",
       "            <td>ben </td> <td>51.61          </td> <td>9509798         </td> <td>4.90801e+06  </td>\n",
       "        </tr>\n",
       "    </tbody>\n",
       "</table>\n",
       "<p>... (135 rows omitted)</p>"
      ],
      "text/plain": [
       "geo  | poverty_percent | population_total | poverty_total\n",
       "ago  | 43.37           | 21219954         | 9.20309e+06\n",
       "alb  | 0.46            | 2901883          | 13349\n",
       "arg  | 1.41            | 41222875         | 581243\n",
       "arm  | 1.75            | 2963496          | 51861\n",
       "aus  | 1.36            | 22162863         | 301415\n",
       "aut  | 0.34            | 8391986          | 28533\n",
       "aze  | 0.31            | 9099893          | 28210\n",
       "bdi  | 81.32           | 9461117          | 7.69378e+06\n",
       "bel  | 0.5             | 10929978         | 54650\n",
       "ben  | 51.61           | 9509798          | 4.90801e+06\n",
       "... (135 rows omitted)"
      ]
     },
     "execution_count": 90,
     "metadata": {},
     "output_type": "execute_result"
    }
   ],
   "source": [
    "recent_poverty_total"
   ]
  },
  {
   "cell_type": "markdown",
   "metadata": {
    "deletable": false,
    "editable": false
   },
   "source": [
    "**Question 4.** Using both `countries` and `recent_poverty_total`, create a five-column table called `poverty_map` with one row for every country in `recent_poverty_total`.  The four columns should have the following labels and contents:\n",
    "1. `latitude` contains the country's latitude,\n",
    "1. `longitude` contains the country's longitude,\n",
    "1. `name` contains the country's name,\n",
    "1. `region` contains the country's region from the `world_4region` column of `countries`,\n",
    "1. `poverty_total` contains the country's poverty total."
   ]
  },
  {
   "cell_type": "code",
   "execution_count": 91,
   "metadata": {
    "deletable": false
   },
   "outputs": [
    {
     "data": {
      "text/html": [
       "<table border=\"1\" class=\"dataframe\">\n",
       "    <thead>\n",
       "        <tr>\n",
       "            <th>latitude</th> <th>longitude</th> <th>name</th> <th>region</th> <th>poverty_total</th>\n",
       "        </tr>\n",
       "    </thead>\n",
       "    <tbody>\n",
       "        <tr>\n",
       "            <td>-12.5   </td> <td>18.5     </td> <td>Angola    </td> <td>africa  </td> <td>9.20309e+06  </td>\n",
       "        </tr>\n",
       "        <tr>\n",
       "            <td>41      </td> <td>20       </td> <td>Albania   </td> <td>europe  </td> <td>13349        </td>\n",
       "        </tr>\n",
       "        <tr>\n",
       "            <td>-34     </td> <td>-64      </td> <td>Argentina </td> <td>americas</td> <td>581243       </td>\n",
       "        </tr>\n",
       "        <tr>\n",
       "            <td>40.25   </td> <td>45       </td> <td>Armenia   </td> <td>europe  </td> <td>51861        </td>\n",
       "        </tr>\n",
       "        <tr>\n",
       "            <td>-25     </td> <td>135      </td> <td>Australia </td> <td>asia    </td> <td>301415       </td>\n",
       "        </tr>\n",
       "        <tr>\n",
       "            <td>47.3333 </td> <td>13.3333  </td> <td>Austria   </td> <td>europe  </td> <td>28533        </td>\n",
       "        </tr>\n",
       "        <tr>\n",
       "            <td>40.5    </td> <td>47.5     </td> <td>Azerbaijan</td> <td>europe  </td> <td>28210        </td>\n",
       "        </tr>\n",
       "        <tr>\n",
       "            <td>-3.5    </td> <td>30       </td> <td>Burundi   </td> <td>africa  </td> <td>7.69378e+06  </td>\n",
       "        </tr>\n",
       "        <tr>\n",
       "            <td>50.75   </td> <td>4.5      </td> <td>Belgium   </td> <td>europe  </td> <td>54650        </td>\n",
       "        </tr>\n",
       "        <tr>\n",
       "            <td>9.5     </td> <td>2.25     </td> <td>Benin     </td> <td>africa  </td> <td>4.90801e+06  </td>\n",
       "        </tr>\n",
       "    </tbody>\n",
       "</table>\n",
       "<p>... (135 rows omitted)</p>"
      ],
      "text/plain": [
       "latitude | longitude | name       | region   | poverty_total\n",
       "-12.5    | 18.5      | Angola     | africa   | 9.20309e+06\n",
       "41       | 20        | Albania    | europe   | 13349\n",
       "-34      | -64       | Argentina  | americas | 581243\n",
       "40.25    | 45        | Armenia    | europe   | 51861\n",
       "-25      | 135       | Australia  | asia     | 301415\n",
       "47.3333  | 13.3333   | Austria    | europe   | 28533\n",
       "40.5     | 47.5      | Azerbaijan | europe   | 28210\n",
       "-3.5     | 30        | Burundi    | africa   | 7.69378e+06\n",
       "50.75    | 4.5       | Belgium    | europe   | 54650\n",
       "9.5      | 2.25      | Benin      | africa   | 4.90801e+06\n",
       "... (135 rows omitted)"
      ]
     },
     "execution_count": 91,
     "metadata": {},
     "output_type": "execute_result"
    }
   ],
   "source": [
    "raw_table = countries_select.join('country', recent_poverty_total, 'geo').relabel('world_4region', 'region').drop(0).drop(5).drop(6)\n",
    "poverty_map = Table().with_column('latitude', raw_table.column('latitude'),\n",
    "                                  'longitude', raw_table.column('longitude'),\n",
    "                                  'name', raw_table.column('name'),\n",
    "                                  'region', raw_table.column('region'),\n",
    "                                  'poverty_total', raw_table.column('poverty_total'))\n",
    "poverty_map\n"
   ]
  },
  {
   "cell_type": "code",
   "execution_count": 92,
   "metadata": {
    "deletable": false,
    "editable": false,
    "scrolled": true
   },
   "outputs": [
    {
     "name": "stdout",
     "output_type": "stream",
     "text": [
      "~~~~~~~~~~~~~~~~~~~~~~~~~~~~~~~~~~~~~~~~~~~~~~~~~~~~~~~~~~~~~~~~~~~~~\n",
      "Running tests\n",
      "\n",
      "---------------------------------------------------------------------\n",
      "Test summary\n",
      "    Passed: 2\n",
      "    Failed: 0\n",
      "[ooooooooook] 100.0% passed\n",
      "\n"
     ]
    }
   ],
   "source": [
    "_ = ok.grade('q2_4')"
   ]
  },
  {
   "cell_type": "markdown",
   "metadata": {
    "deletable": false,
    "editable": false
   },
   "source": [
    "Run the cell below to draw a map of the world in which the areas of circles represent the number of people living in extreme poverty. Double-click on the map to zoom in."
   ]
  },
  {
   "cell_type": "code",
   "execution_count": 93,
   "metadata": {
    "deletable": false,
    "editable": false,
    "scrolled": false
   },
   "outputs": [
    {
     "name": "stderr",
     "output_type": "stream",
     "text": [
      "/srv/app/venv/lib/python3.6/site-packages/datascience/maps.py:368: FutureWarning: circle_marker is deprecated. Use add_children(CircleMarker) instead\n",
      "  f(**self._folium_kwargs)\n"
     ]
    },
    {
     "data": {
      "text/html": [
       "<div style=\"width:100%;\"><div style=\"position:relative;width:100%;height:0;padding-bottom:60%;\"><iframe src=\"data:text/html;base64,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\" style=\"position:absolute;width:100%;height:100%;left:0;top:0;\"></iframe></div></div>"
      ],
      "text/plain": [
       "<datascience.maps.Map at 0x7fe42cf53390>"
      ]
     },
     "execution_count": 93,
     "metadata": {},
     "output_type": "execute_result"
    }
   ],
   "source": [
    "# It may take a few seconds to generate this map.\n",
    "colors = {'africa': 'blue', 'europe': 'black', 'asia': 'red', 'americas': 'green'}\n",
    "scaled = poverty_map.with_column(\n",
    "    'poverty_total', 2e4 * poverty_map.column('poverty_total'),\n",
    "    'region', poverty_map.apply(colors.get, 'region')\n",
    ")\n",
    "Circle.map_table(scaled)"
   ]
  },
  {
   "cell_type": "markdown",
   "metadata": {
    "deletable": false,
    "editable": false
   },
   "source": [
    "Although people live in extreme poverty throughout the world (with more than 5 million in the United States), the largest numbers are in Asia and Africa."
   ]
  },
  {
   "cell_type": "markdown",
   "metadata": {
    "deletable": false,
    "editable": false
   },
   "source": [
    "**Question 5.** Assign `largest` to a two-column table with the `name` (not the 3-letter code) and `poverty_total` of the 10 countries with the largest number of people living in extreme poverty."
   ]
  },
  {
   "cell_type": "code",
   "execution_count": 94,
   "metadata": {
    "deletable": false
   },
   "outputs": [
    {
     "data": {
      "text/html": [
       "<table border=\"1\" class=\"dataframe\">\n",
       "    <thead>\n",
       "        <tr>\n",
       "            <th>name</th> <th>poverty_total</th>\n",
       "        </tr>\n",
       "    </thead>\n",
       "    <tbody>\n",
       "        <tr>\n",
       "            <td>India           </td> <td>2.90882e+08  </td>\n",
       "        </tr>\n",
       "        <tr>\n",
       "            <td>Nigeria         </td> <td>9.88912e+07  </td>\n",
       "        </tr>\n",
       "        <tr>\n",
       "            <td>China           </td> <td>8.39446e+07  </td>\n",
       "        </tr>\n",
       "        <tr>\n",
       "            <td>Bangladesh      </td> <td>6.55743e+07  </td>\n",
       "        </tr>\n",
       "        <tr>\n",
       "            <td>Congo, Dem. Rep.</td> <td>5.78414e+07  </td>\n",
       "        </tr>\n",
       "        <tr>\n",
       "            <td>Indonesia       </td> <td>3.91413e+07  </td>\n",
       "        </tr>\n",
       "        <tr>\n",
       "            <td>Ethiopia        </td> <td>3.2214e+07   </td>\n",
       "        </tr>\n",
       "        <tr>\n",
       "            <td>Pakistan        </td> <td>2.16636e+07  </td>\n",
       "        </tr>\n",
       "        <tr>\n",
       "            <td>Tanzania        </td> <td>1.9848e+07   </td>\n",
       "        </tr>\n",
       "        <tr>\n",
       "            <td>Madagascar      </td> <td>1.84804e+07  </td>\n",
       "        </tr>\n",
       "    </tbody>\n",
       "</table>"
      ],
      "text/plain": [
       "name             | poverty_total\n",
       "India            | 2.90882e+08\n",
       "Nigeria          | 9.88912e+07\n",
       "China            | 8.39446e+07\n",
       "Bangladesh       | 6.55743e+07\n",
       "Congo, Dem. Rep. | 5.78414e+07\n",
       "Indonesia        | 3.91413e+07\n",
       "Ethiopia         | 3.2214e+07\n",
       "Pakistan         | 2.16636e+07\n",
       "Tanzania         | 1.9848e+07\n",
       "Madagascar       | 1.84804e+07"
      ]
     },
     "execution_count": 94,
     "metadata": {},
     "output_type": "execute_result"
    }
   ],
   "source": [
    "sorted_largest = poverty_map.sort('poverty_total', descending=True).take(np.arange(0,10))\n",
    "largest = sorted_largest.drop(0).drop(0).drop(1)\n",
    "largest"
   ]
  },
  {
   "cell_type": "code",
   "execution_count": 95,
   "metadata": {
    "deletable": false,
    "editable": false
   },
   "outputs": [
    {
     "name": "stdout",
     "output_type": "stream",
     "text": [
      "~~~~~~~~~~~~~~~~~~~~~~~~~~~~~~~~~~~~~~~~~~~~~~~~~~~~~~~~~~~~~~~~~~~~~\n",
      "Running tests\n",
      "\n",
      "---------------------------------------------------------------------\n",
      "Test summary\n",
      "    Passed: 3\n",
      "    Failed: 0\n",
      "[ooooooooook] 100.0% passed\n",
      "\n"
     ]
    }
   ],
   "source": [
    "_ = ok.grade('q2_5')"
   ]
  },
  {
   "cell_type": "markdown",
   "metadata": {
    "deletable": false
   },
   "source": [
    "**Question 6.** Write a function called `poverty_timeline` that takes **the name of a country** as its argument. It should draw a line plot of the number of people living in poverty in that country with time on the horizontal axis. The line plot should have a point for each row in the `poverty` table for that country. To compute the population living in poverty from a poverty percentage, multiply by the population of the country **in that year**.\n",
    "\n",
    "*Hint*: The names within the `poverty_timeline` function correspond to our staff solution, but you don't need to use them. Any way that you want to draw the plot is fine, as long as it generates the correct graph.\n",
    "\n",
    "*Hint*: For the `apply` method, if you don't specify a particular column to apply your function on, the whole row is used as an input to the function. Elements inside a row can be accessed using `.item`.\n",
    "\n",
    "*Hint:* This question is long. Feel free to create cells and experiment. "
   ]
  },
  {
   "cell_type": "code",
   "execution_count": 96,
   "metadata": {
    "scrolled": true
   },
   "outputs": [
    {
     "data": {
      "text/html": [
       "<table border=\"1\" class=\"dataframe\">\n",
       "    <thead>\n",
       "        <tr>\n",
       "            <th>geo</th> <th>time</th> <th>extreme_poverty_percent_people_below_125_a_day</th>\n",
       "        </tr>\n",
       "    </thead>\n",
       "    <tbody>\n",
       "        <tr>\n",
       "            <td>alb </td> <td>1996</td> <td>0.2                                           </td>\n",
       "        </tr>\n",
       "        <tr>\n",
       "            <td>alb </td> <td>2002</td> <td>0.73                                          </td>\n",
       "        </tr>\n",
       "        <tr>\n",
       "            <td>alb </td> <td>2004</td> <td>0.53                                          </td>\n",
       "        </tr>\n",
       "        <tr>\n",
       "            <td>alb </td> <td>2005</td> <td>0.44                                          </td>\n",
       "        </tr>\n",
       "        <tr>\n",
       "            <td>alb </td> <td>2008</td> <td>0.2                                           </td>\n",
       "        </tr>\n",
       "        <tr>\n",
       "            <td>alb </td> <td>2012</td> <td>0.46                                          </td>\n",
       "        </tr>\n",
       "        <tr>\n",
       "            <td>dza </td> <td>1988</td> <td>7.1                                           </td>\n",
       "        </tr>\n",
       "        <tr>\n",
       "            <td>dza </td> <td>1995</td> <td>6.38                                          </td>\n",
       "        </tr>\n",
       "        <tr>\n",
       "            <td>ago </td> <td>2000</td> <td>54.31                                         </td>\n",
       "        </tr>\n",
       "        <tr>\n",
       "            <td>ago </td> <td>2009</td> <td>43.37                                         </td>\n",
       "        </tr>\n",
       "    </tbody>\n",
       "</table>\n",
       "<p>... (1089 rows omitted)</p>"
      ],
      "text/plain": [
       "geo  | time | extreme_poverty_percent_people_below_125_a_day\n",
       "alb  | 1996 | 0.2\n",
       "alb  | 2002 | 0.73\n",
       "alb  | 2004 | 0.53\n",
       "alb  | 2005 | 0.44\n",
       "alb  | 2008 | 0.2\n",
       "alb  | 2012 | 0.46\n",
       "dza  | 1988 | 7.1\n",
       "dza  | 1995 | 6.38\n",
       "ago  | 2000 | 54.31\n",
       "ago  | 2009 | 43.37\n",
       "... (1089 rows omitted)"
      ]
     },
     "execution_count": 96,
     "metadata": {},
     "output_type": "execute_result"
    }
   ],
   "source": [
    "poverty"
   ]
  },
  {
   "cell_type": "code",
   "execution_count": 97,
   "metadata": {
    "scrolled": false
   },
   "outputs": [
    {
     "data": {
      "text/html": [
       "<table border=\"1\" class=\"dataframe\">\n",
       "    <thead>\n",
       "        <tr>\n",
       "            <th>geo</th> <th>time</th> <th>population_total</th>\n",
       "        </tr>\n",
       "    </thead>\n",
       "    <tbody>\n",
       "        <tr>\n",
       "            <td>abw </td> <td>1800</td> <td>19286           </td>\n",
       "        </tr>\n",
       "        <tr>\n",
       "            <td>abw </td> <td>1801</td> <td>19286           </td>\n",
       "        </tr>\n",
       "        <tr>\n",
       "            <td>abw </td> <td>1802</td> <td>19286           </td>\n",
       "        </tr>\n",
       "        <tr>\n",
       "            <td>abw </td> <td>1803</td> <td>19286           </td>\n",
       "        </tr>\n",
       "        <tr>\n",
       "            <td>abw </td> <td>1804</td> <td>19286           </td>\n",
       "        </tr>\n",
       "        <tr>\n",
       "            <td>abw </td> <td>1805</td> <td>19286           </td>\n",
       "        </tr>\n",
       "        <tr>\n",
       "            <td>abw </td> <td>1806</td> <td>19286           </td>\n",
       "        </tr>\n",
       "        <tr>\n",
       "            <td>abw </td> <td>1807</td> <td>19286           </td>\n",
       "        </tr>\n",
       "        <tr>\n",
       "            <td>abw </td> <td>1808</td> <td>19286           </td>\n",
       "        </tr>\n",
       "        <tr>\n",
       "            <td>abw </td> <td>1809</td> <td>19286           </td>\n",
       "        </tr>\n",
       "    </tbody>\n",
       "</table>\n",
       "<p>... (87785 rows omitted)</p>"
      ],
      "text/plain": [
       "geo  | time | population_total\n",
       "abw  | 1800 | 19286\n",
       "abw  | 1801 | 19286\n",
       "abw  | 1802 | 19286\n",
       "abw  | 1803 | 19286\n",
       "abw  | 1804 | 19286\n",
       "abw  | 1805 | 19286\n",
       "abw  | 1806 | 19286\n",
       "abw  | 1807 | 19286\n",
       "abw  | 1808 | 19286\n",
       "abw  | 1809 | 19286\n",
       "... (87785 rows omitted)"
      ]
     },
     "execution_count": 97,
     "metadata": {},
     "output_type": "execute_result"
    }
   ],
   "source": [
    "population"
   ]
  },
  {
   "cell_type": "code",
   "execution_count": 98,
   "metadata": {},
   "outputs": [
    {
     "data": {
      "text/html": [
       "<table border=\"1\" class=\"dataframe\">\n",
       "    <thead>\n",
       "        <tr>\n",
       "            <th>country</th> <th>gwid</th> <th>name</th> <th>world_6region</th> <th>income_groups</th> <th>landlocked</th> <th>g77_and_oecd_countries</th> <th>main_religion_2008</th> <th>gapminder_list</th> <th>alternative_1</th> <th>alternative_2</th> <th>alternative_3</th> <th>alternative_4_cdiac</th> <th>pandg</th> <th>god_id</th> <th>alt_5</th> <th>upper_case_name</th> <th>code</th> <th>number</th> <th>arb1</th> <th>arb2</th> <th>arb3</th> <th>arb4</th> <th>arb5</th> <th>arb6</th> <th>is--country</th> <th>world_4region</th> <th>latitude</th> <th>longitude</th>\n",
       "        </tr>\n",
       "    </thead>\n",
       "    <tbody>\n",
       "        <tr>\n",
       "            <td>afg      </td> <td>i1  </td> <td>Afghanistan          </td> <td>south_asia              </td> <td>low_income         </td> <td>landlocked</td> <td>g77                   </td> <td>muslim            </td> <td>Afghanistan          </td> <td>Islamic Republic of Afghanistan</td> <td>nan          </td> <td>nan          </td> <td>Afghanistan        </td> <td>AFGHANISTAN</td> <td>AF               </td> <td>nan  </td> <td>AFGHANISTAN        </td> <td>AFG </td> <td>4     </td> <td>nan </td> <td>nan </td> <td>nan </td> <td>nan </td> <td>nan </td> <td>nan </td> <td>True       </td> <td>asia         </td> <td>33      </td> <td>66       </td>\n",
       "        </tr>\n",
       "        <tr>\n",
       "            <td>akr_a_dhe</td> <td>i2  </td> <td>Akrotiri and Dhekelia</td> <td>europe_central_asia     </td> <td>nan                </td> <td>coastline </td> <td>others                </td> <td>nan               </td> <td>Akrotiri and Dhekelia</td> <td>nan                            </td> <td>nan          </td> <td>nan          </td> <td>nan                </td> <td>nan        </td> <td>Akrotiri_Dhekelia</td> <td>nan  </td> <td>nan                </td> <td>nan </td> <td>nan   </td> <td>nan </td> <td>nan </td> <td>nan </td> <td>nan </td> <td>nan </td> <td>nan </td> <td>True       </td> <td>europe       </td> <td>nan     </td> <td>nan      </td>\n",
       "        </tr>\n",
       "        <tr>\n",
       "            <td>alb      </td> <td>i3  </td> <td>Albania              </td> <td>europe_central_asia     </td> <td>upper_middle_income</td> <td>coastline </td> <td>others                </td> <td>muslim            </td> <td>Albania              </td> <td>nan                            </td> <td>nan          </td> <td>nan          </td> <td>Albania            </td> <td>ALBANIA    </td> <td>AL               </td> <td>nan  </td> <td>ALBANIA            </td> <td>ALB </td> <td>8     </td> <td>nan </td> <td>nan </td> <td>nan </td> <td>nan </td> <td>nan </td> <td>nan </td> <td>True       </td> <td>europe       </td> <td>41      </td> <td>20       </td>\n",
       "        </tr>\n",
       "        <tr>\n",
       "            <td>dza      </td> <td>i4  </td> <td>Algeria              </td> <td>middle_east_north_africa</td> <td>upper_middle_income</td> <td>coastline </td> <td>g77                   </td> <td>muslim            </td> <td>Algeria              </td> <td>nan                            </td> <td>nan          </td> <td>nan          </td> <td>Algeria            </td> <td>ALGERIA    </td> <td>DZ               </td> <td>nan  </td> <td>ALGERIA            </td> <td>DZA </td> <td>12    </td> <td>nan </td> <td>nan </td> <td>nan </td> <td>nan </td> <td>nan </td> <td>nan </td> <td>True       </td> <td>africa       </td> <td>28      </td> <td>3        </td>\n",
       "        </tr>\n",
       "        <tr>\n",
       "            <td>asm      </td> <td>i5  </td> <td>American Samoa       </td> <td>east_asia_pacific       </td> <td>upper_middle_income</td> <td>coastline </td> <td>others                </td> <td>christian         </td> <td>American Samoa       </td> <td>nan                            </td> <td>nan          </td> <td>nan          </td> <td>nan                </td> <td>nan        </td> <td>AS               </td> <td>nan  </td> <td>AMERICAN SAMOA     </td> <td>ASM </td> <td>16    </td> <td>nan </td> <td>nan </td> <td>nan </td> <td>nan </td> <td>nan </td> <td>nan </td> <td>True       </td> <td>asia         </td> <td>-11.056 </td> <td>-171.082 </td>\n",
       "        </tr>\n",
       "        <tr>\n",
       "            <td>and      </td> <td>i6  </td> <td>Andorra              </td> <td>europe_central_asia     </td> <td>high_income        </td> <td>landlocked</td> <td>others                </td> <td>christian         </td> <td>Andorra              </td> <td>nan                            </td> <td>nan          </td> <td>nan          </td> <td>nan                </td> <td>nan        </td> <td>AD               </td> <td>nan  </td> <td>ANDORRA            </td> <td>AND </td> <td>20    </td> <td>nan </td> <td>nan </td> <td>nan </td> <td>nan </td> <td>nan </td> <td>nan </td> <td>True       </td> <td>europe       </td> <td>42.5078 </td> <td>1.52109  </td>\n",
       "        </tr>\n",
       "        <tr>\n",
       "            <td>ago      </td> <td>i7  </td> <td>Angola               </td> <td>sub_saharan_africa      </td> <td>upper_middle_income</td> <td>coastline </td> <td>g77                   </td> <td>christian         </td> <td>Angola               </td> <td>nan                            </td> <td>nan          </td> <td>nan          </td> <td>Angola             </td> <td>ANGOLA     </td> <td>AO               </td> <td>nan  </td> <td>ANGOLA             </td> <td>AGO </td> <td>24    </td> <td>nan </td> <td>nan </td> <td>nan </td> <td>nan </td> <td>nan </td> <td>nan </td> <td>True       </td> <td>africa       </td> <td>-12.5   </td> <td>18.5     </td>\n",
       "        </tr>\n",
       "        <tr>\n",
       "            <td>aia      </td> <td>i8  </td> <td>Anguilla             </td> <td>america                 </td> <td>nan                </td> <td>coastline </td> <td>others                </td> <td>christian         </td> <td>Anguilla             </td> <td>nan                            </td> <td>nan          </td> <td>nan          </td> <td>nan                </td> <td>nan        </td> <td>AI               </td> <td>nan  </td> <td>ANGUILLA           </td> <td>AIA </td> <td>660   </td> <td>nan </td> <td>nan </td> <td>nan </td> <td>nan </td> <td>nan </td> <td>nan </td> <td>True       </td> <td>americas     </td> <td>18.2167 </td> <td>-63.05   </td>\n",
       "        </tr>\n",
       "        <tr>\n",
       "            <td>atg      </td> <td>i9  </td> <td>Antigua and Barbuda  </td> <td>america                 </td> <td>high_income        </td> <td>coastline </td> <td>g77                   </td> <td>christian         </td> <td>Antigua and Barbuda  </td> <td>nan                            </td> <td>nan          </td> <td>nan          </td> <td>Antigua & Barbuda  </td> <td>nan        </td> <td>AG               </td> <td>nan  </td> <td>ANTIGUA AND BARBUDA</td> <td>ATG </td> <td>28    </td> <td>nan </td> <td>nan </td> <td>nan </td> <td>nan </td> <td>nan </td> <td>nan </td> <td>True       </td> <td>americas     </td> <td>17.05   </td> <td>-61.8    </td>\n",
       "        </tr>\n",
       "        <tr>\n",
       "            <td>arg      </td> <td>i10 </td> <td>Argentina            </td> <td>america                 </td> <td>upper_middle_income</td> <td>coastline </td> <td>g77                   </td> <td>christian         </td> <td>Argentina            </td> <td>nan                            </td> <td>nan          </td> <td>nan          </td> <td>Argentina          </td> <td>ARGENTINA  </td> <td>AR               </td> <td>nan  </td> <td>ARGENTINA          </td> <td>ARG </td> <td>32    </td> <td>nan </td> <td>nan </td> <td>nan </td> <td>nan </td> <td>nan </td> <td>nan </td> <td>True       </td> <td>americas     </td> <td>-34     </td> <td>-64      </td>\n",
       "        </tr>\n",
       "    </tbody>\n",
       "</table>\n",
       "<p>... (245 rows omitted)</p>"
      ],
      "text/plain": [
       "country   | gwid | name                  | world_6region            | income_groups       | landlocked | g77_and_oecd_countries | main_religion_2008 | gapminder_list        | alternative_1                   | alternative_2 | alternative_3 | alternative_4_cdiac | pandg       | god_id            | alt_5 | upper_case_name     | code | number | arb1 | arb2 | arb3 | arb4 | arb5 | arb6 | is--country | world_4region | latitude | longitude\n",
       "afg       | i1   | Afghanistan           | south_asia               | low_income          | landlocked | g77                    | muslim             | Afghanistan           | Islamic Republic of Afghanistan | nan           | nan           | Afghanistan         | AFGHANISTAN | AF                | nan   | AFGHANISTAN         | AFG  | 4      | nan  | nan  | nan  | nan  | nan  | nan  | True        | asia          | 33       | 66\n",
       "akr_a_dhe | i2   | Akrotiri and Dhekelia | europe_central_asia      | nan                 | coastline  | others                 | nan                | Akrotiri and Dhekelia | nan                             | nan           | nan           | nan                 | nan         | Akrotiri_Dhekelia | nan   | nan                 | nan  | nan    | nan  | nan  | nan  | nan  | nan  | nan  | True        | europe        | nan      | nan\n",
       "alb       | i3   | Albania               | europe_central_asia      | upper_middle_income | coastline  | others                 | muslim             | Albania               | nan                             | nan           | nan           | Albania             | ALBANIA     | AL                | nan   | ALBANIA             | ALB  | 8      | nan  | nan  | nan  | nan  | nan  | nan  | True        | europe        | 41       | 20\n",
       "dza       | i4   | Algeria               | middle_east_north_africa | upper_middle_income | coastline  | g77                    | muslim             | Algeria               | nan                             | nan           | nan           | Algeria             | ALGERIA     | DZ                | nan   | ALGERIA             | DZA  | 12     | nan  | nan  | nan  | nan  | nan  | nan  | True        | africa        | 28       | 3\n",
       "asm       | i5   | American Samoa        | east_asia_pacific        | upper_middle_income | coastline  | others                 | christian          | American Samoa        | nan                             | nan           | nan           | nan                 | nan         | AS                | nan   | AMERICAN SAMOA      | ASM  | 16     | nan  | nan  | nan  | nan  | nan  | nan  | True        | asia          | -11.056  | -171.082\n",
       "and       | i6   | Andorra               | europe_central_asia      | high_income         | landlocked | others                 | christian          | Andorra               | nan                             | nan           | nan           | nan                 | nan         | AD                | nan   | ANDORRA             | AND  | 20     | nan  | nan  | nan  | nan  | nan  | nan  | True        | europe        | 42.5078  | 1.52109\n",
       "ago       | i7   | Angola                | sub_saharan_africa       | upper_middle_income | coastline  | g77                    | christian          | Angola                | nan                             | nan           | nan           | Angola              | ANGOLA      | AO                | nan   | ANGOLA              | AGO  | 24     | nan  | nan  | nan  | nan  | nan  | nan  | True        | africa        | -12.5    | 18.5\n",
       "aia       | i8   | Anguilla              | america                  | nan                 | coastline  | others                 | christian          | Anguilla              | nan                             | nan           | nan           | nan                 | nan         | AI                | nan   | ANGUILLA            | AIA  | 660    | nan  | nan  | nan  | nan  | nan  | nan  | True        | americas      | 18.2167  | -63.05\n",
       "atg       | i9   | Antigua and Barbuda   | america                  | high_income         | coastline  | g77                    | christian          | Antigua and Barbuda   | nan                             | nan           | nan           | Antigua & Barbuda   | nan         | AG                | nan   | ANTIGUA AND BARBUDA | ATG  | 28     | nan  | nan  | nan  | nan  | nan  | nan  | True        | americas      | 17.05    | -61.8\n",
       "arg       | i10  | Argentina             | america                  | upper_middle_income | coastline  | g77                    | christian          | Argentina             | nan                             | nan           | nan           | Argentina           | ARGENTINA   | AR                | nan   | ARGENTINA           | ARG  | 32     | nan  | nan  | nan  | nan  | nan  | nan  | True        | americas      | -34      | -64\n",
       "... (245 rows omitted)"
      ]
     },
     "execution_count": 98,
     "metadata": {},
     "output_type": "execute_result"
    }
   ],
   "source": [
    "countries"
   ]
  },
  {
   "cell_type": "code",
   "execution_count": 109,
   "metadata": {
    "deletable": false,
    "manual_grade": true,
    "manual_problem_id": "global_poverty_6"
   },
   "outputs": [],
   "source": [
    "#def population_for_country_in_year(row_of_poverty_table):\n",
    "   # \"\"\"Optional: Define a function to return the population \n",
    "   # of a country in a year using a row from the poverty table.\"\"\"\n",
    "   # return population.where('time', row_of_poverty_table.item('time')).where('geo', row_of_poverty_table.item('geo')).column('population_total').item(0)\n",
    "    \n",
    "def poverty_timeline(country):\n",
    "    \"\"\"Draw a timeline of people living in extreme poverty in a country.\"\"\"\n",
    "    geo = countries.select('country', 'name').where('name', are.equal_to(country)).column('country').item(0)\n",
    "    country_poverty = poverty.where('geo', are.equal_to(geo))\n",
    "    populations = population.where ('geo', (geo)).where('time', are.contained_in(country_poverty.column('time')))\n",
    "    array = country_poverty.column('extreme_poverty_percent_people_below_125_a_day')*(populations.column('population_total'))\n",
    "    end = populations.with_column('p', array)\n",
    "    return end.plot('time', 'p')"
   ]
  },
  {
   "cell_type": "markdown",
   "metadata": {
    "deletable": false,
    "editable": false
   },
   "source": [
    "Finally, draw the timelines below to see how the world is changing. You can check your work by comparing your graphs to the ones on [gapminder.org](https://goo.gl/lPujuh)."
   ]
  },
  {
   "cell_type": "code",
   "execution_count": 110,
   "metadata": {
    "deletable": false,
    "editable": false
   },
   "outputs": [
    {
     "data": {
      "image/png": "[encoded data removed]",
      "text/plain": [
       "<Figure size 432x288 with 1 Axes>"
      ]
     },
     "metadata": {},
     "output_type": "display_data"
    }
   ],
   "source": [
    "poverty_timeline('India')"
   ]
  },
  {
   "cell_type": "code",
   "execution_count": 111,
   "metadata": {
    "deletable": false,
    "editable": false
   },
   "outputs": [
    {
     "data": {
      "image/png": "[encoded data removed]",
      "text/plain": [
       "<Figure size 432x288 with 1 Axes>"
      ]
     },
     "metadata": {},
     "output_type": "display_data"
    }
   ],
   "source": [
    "poverty_timeline('Nigeria')"
   ]
  },
  {
   "cell_type": "code",
   "execution_count": 112,
   "metadata": {
    "deletable": false,
    "editable": false
   },
   "outputs": [
    {
     "data": {
      "image/png": "[encoded data removed]",
      "text/plain": [
       "<Figure size 432x288 with 1 Axes>"
      ]
     },
     "metadata": {},
     "output_type": "display_data"
    }
   ],
   "source": [
    "poverty_timeline('China')"
   ]
  },
  {
   "cell_type": "code",
   "execution_count": 113,
   "metadata": {
    "deletable": false,
    "editable": false
   },
   "outputs": [
    {
     "data": {
      "image/png": "[encoded data removed]",
      "text/plain": [
       "<Figure size 432x288 with 1 Axes>"
      ]
     },
     "metadata": {},
     "output_type": "display_data"
    }
   ],
   "source": [
    "poverty_timeline('United States')"
   ]
  },
  {
   "cell_type": "markdown",
   "metadata": {
    "deletable": false,
    "editable": false
   },
   "source": [
    "Although the number of people living in extreme poverty has been increasing in Nigeria and the United States, the massive decreases in China and India have shaped the overall trend that extreme poverty is decreasing worldwide, both in percentage and in absolute number. \n",
    "\n",
    "To learn more, watch [Hans Rosling in a 2015 film](https://www.gapminder.org/videos/dont-panic-end-poverty/) about the UN goal of eradicating extreme poverty from the world. \n",
    "\n",
    "Below, we've also added an interactive dropdown menu for you to visualize `poverty_timeline` graphs for other countries. Note that each dropdown menu selection may take a few seconds to run."
   ]
  },
  {
   "cell_type": "code",
   "execution_count": 114,
   "metadata": {
    "deletable": false,
    "editable": false
   },
   "outputs": [
    {
     "data": {
      "application/vnd.jupyter.widget-view+json": {
       "model_id": "b361cb222df44dedb6cbff0d1860f1be",
       "version_major": 2,
       "version_minor": 0
      },
      "text/plain": [
       "interactive(children=(Dropdown(description='country', options=('Angola', 'Albania', 'Argentina', 'Armenia', 'A…"
      ]
     },
     "metadata": {},
     "output_type": "display_data"
    }
   ],
   "source": [
    "# Just run this cell\n",
    "\n",
    "all_countries = poverty_map.column('name')\n",
    "_ = widgets.interact(poverty_timeline, country=list(all_countries))"
   ]
  },
  {
   "cell_type": "markdown",
   "metadata": {
    "deletable": false,
    "editable": false
   },
   "source": [
    "**You're finished!** Congratulations on mastering data visualization and table manipulation. Time to submit."
   ]
  },
  {
   "cell_type": "code",
   "execution_count": 115,
   "metadata": {
    "deletable": false,
    "editable": false
   },
   "outputs": [
    {
     "data": {
      "application/javascript": [
       "IPython.notebook.save_checkpoint();"
      ],
      "text/plain": [
       "<IPython.core.display.Javascript object>"
      ]
     },
     "metadata": {},
     "output_type": "display_data"
    },
    {
     "data": {
      "application/javascript": [
       "IPython.notebook.save_notebook();"
      ],
      "text/plain": [
       "<IPython.core.display.Javascript object>"
      ]
     },
     "metadata": {},
     "output_type": "display_data"
    },
    {
     "name": "stdout",
     "output_type": "stream",
     "text": [
      "Saving notebook... Saved 'project1.ipynb'.\n",
      "Submit... 100% complete\n",
      "Submission successful for user: shivanijpatel@berkeley.edu\n",
      "URL: https://okpy.org/cal/data8/sp19/project1/submissions/3QwjKR\n",
      "\n"
     ]
    }
   ],
   "source": [
    "_ = ok.submit()"
   ]
  },
  {
   "cell_type": "code",
   "execution_count": null,
   "metadata": {},
   "outputs": [],
   "source": []
  }
 ],
 "metadata": {
  "kernelspec": {
   "display_name": "Python 3",
   "language": "python",
   "name": "python3"
  },
  "language_info": {
   "codemirror_mode": {
    "name": "ipython",
    "version": 3
   },
   "file_extension": ".py",
   "mimetype": "text/x-python",
   "name": "python",
   "nbconvert_exporter": "python",
   "pygments_lexer": "ipython3",
   "version": "3.6.7"
  }
 },
 "nbformat": 4,
 "nbformat_minor": 1
}
